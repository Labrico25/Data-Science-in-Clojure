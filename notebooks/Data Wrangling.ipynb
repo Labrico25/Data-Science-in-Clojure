{
 "cells": [
  {
   "cell_type": "markdown",
   "id": "5ba13afa-0b79-4a79-8001-dc828de3af80",
   "metadata": {
    "tags": []
   },
   "source": [
    "# Data Wrangling"
   ]
  },
  {
   "cell_type": "markdown",
   "id": "dc20c832-4a35-4cfc-8e19-8833aacff063",
   "metadata": {},
   "source": [
    "Lets extract the content of titanic.txt"
   ]
  },
  {
   "cell_type": "code",
   "execution_count": 1,
   "id": "83a2c784-1f2f-4562-bad9-abe58c908c50",
   "metadata": {
    "tags": []
   },
   "outputs": [
    {
     "data": {
      "text/plain": [
       "#'beaker_clojure_shell_87f17984-683a-40e1-9c29-ed7da36932d5/titanic-dot-txt"
      ]
     },
     "execution_count": 1,
     "metadata": {},
     "output_type": "execute_result"
    }
   ],
   "source": [
    "(def titanic-dot-txt (slurp \"titanic.txt\"))"
   ]
  },
  {
   "cell_type": "markdown",
   "id": "ad9bb3df-9dae-49c0-8379-1afec58525e0",
   "metadata": {},
   "source": [
    "Recall that the content is a seq of maps? Lets take the first 10 elements."
   ]
  },
  {
   "cell_type": "code",
   "execution_count": 185,
   "id": "4fd0ba6e-4f7b-4a94-8554-75013e88a023",
   "metadata": {
    "tags": []
   },
   "outputs": [
    {
     "data": {
      "text/plain": [
       "[(, {, \", A, g, e, \",  , \", 2]"
      ]
     },
     "execution_count": 185,
     "metadata": {},
     "output_type": "execute_result"
    }
   ],
   "source": [
    "(take 10 titanic-dot-txt)"
   ]
  },
  {
   "cell_type": "markdown",
   "id": "a5f38072-21e2-424c-88c0-c35a39476466",
   "metadata": {},
   "source": [
    "Something went wrong! The slurp function returns a string of the contents of a file, fortunately Clojure has the read-string function.\n",
    "For example:"
   ]
  },
  {
   "cell_type": "code",
   "execution_count": 186,
   "id": "b61da72f-76fa-45aa-bf42-d5c14d5e6981",
   "metadata": {
    "tags": []
   },
   "outputs": [
    {
     "data": {
      "text/plain": [
       "true"
      ]
     },
     "execution_count": 186,
     "metadata": {},
     "output_type": "execute_result"
    }
   ],
   "source": [
    "(= 2 (read-string \"2\"))"
   ]
  },
  {
   "cell_type": "markdown",
   "id": "0a03f142-954a-41b2-a430-3b1abf92caf6",
   "metadata": {},
   "source": [
    "or"
   ]
  },
  {
   "cell_type": "code",
   "execution_count": 187,
   "id": "6b1882a8-a1ec-4633-a6a4-5497411371c2",
   "metadata": {
    "tags": []
   },
   "outputs": [
    {
     "data": {
      "text/plain": [
       "true"
      ]
     },
     "execution_count": 187,
     "metadata": {},
     "output_type": "execute_result"
    }
   ],
   "source": [
    "(= (list 1 2 3) (read-string \"(1 2 3)\"))"
   ]
  },
  {
   "cell_type": "markdown",
   "id": "1bea34ee-4a76-46ba-bcba-c46e2dfe8e39",
   "metadata": {},
   "source": [
    "So"
   ]
  },
  {
   "cell_type": "code",
   "execution_count": 2,
   "id": "6f9555ac-911b-4361-ac47-963428cce4bb",
   "metadata": {
    "tags": []
   },
   "outputs": [
    {
     "data": {
      "application/vnd.jupyter.widget-view+json": {
       "model_id": "b14f6975-f5e5-49e2-aa3b-5e8d721f5c2d",
       "version_major": 2,
       "version_minor": 0
      },
      "method": "display_data"
     },
     "metadata": {},
     "output_type": "display_data"
    }
   ],
   "source": [
    "(alter-var-root #'titanic-dot-txt #(read-string %))"
   ]
  },
  {
   "cell_type": "markdown",
   "id": "1cce6f7d-29fd-4cbc-a2a0-f4a47b737650",
   "metadata": {
    "tags": []
   },
   "source": [
    "Now lets try it again."
   ]
  },
  {
   "cell_type": "code",
   "execution_count": 3,
   "id": "135d14d0-67a8-4967-b36f-8f2a0dc3bc1b",
   "metadata": {
    "tags": []
   },
   "outputs": [
    {
     "data": {
      "application/vnd.jupyter.widget-view+json": {
       "model_id": "603a0f9c-536a-438c-963f-67b811d18ee4",
       "version_major": 2,
       "version_minor": 0
      },
      "method": "display_data"
     },
     "metadata": {},
     "output_type": "display_data"
    }
   ],
   "source": [
    "(take 10 titanic-dot-txt)"
   ]
  },
  {
   "cell_type": "markdown",
   "id": "a978906c-564e-402c-93c0-8228c62ce21e",
   "metadata": {},
   "source": [
    "Note: we used alter-var-root which expects a var and a fn to alter the var with. This means that if we were to run the above cell again it would result in an\n",
    "      exception."
   ]
  },
  {
   "cell_type": "code",
   "execution_count": 190,
   "id": "1dc36cbf-96f8-4d2c-8f65-477c1ab7f24d",
   "metadata": {
    "tags": []
   },
   "outputs": [
    {
     "data": {
      "text/plain": [
       "Exception caught"
      ]
     },
     "execution_count": 190,
     "metadata": {},
     "output_type": "execute_result"
    }
   ],
   "source": [
    "(try (alter-var-root #'titanic-dot-txt #(read-string %))\n",
    "    (catch Exception e\n",
    "        (str \"Exception caught\")))"
   ]
  },
  {
   "cell_type": "markdown",
   "id": "2af55ac5-b4d2-4c43-b7b4-fb74a3ebb7c5",
   "metadata": {},
   "source": [
    "First lets write a function which returns a fn which expects f, this argument will be the function that we pass it to explore the data."
   ]
  },
  {
   "cell_type": "code",
   "execution_count": 4,
   "id": "cb975832-a7f0-4c90-ae3d-1c5e2c1da9ff",
   "metadata": {
    "tags": []
   },
   "outputs": [
    {
     "data": {
      "text/plain": [
       "#'beaker_clojure_shell_87f17984-683a-40e1-9c29-ed7da36932d5/return-fn"
      ]
     },
     "execution_count": 4,
     "metadata": {},
     "output_type": "execute_result"
    }
   ],
   "source": [
    "(defn return-fn\n",
    "    [data]\n",
    "    (fn [f]\n",
    "        (f data)))"
   ]
  },
  {
   "cell_type": "markdown",
   "id": "a44b2f0c-ed45-4d7a-b7ea-cd8791f3ba18",
   "metadata": {},
   "source": [
    "Now"
   ]
  },
  {
   "cell_type": "code",
   "execution_count": 5,
   "id": "e913427d-ab76-4977-81bb-bbb6d40b9ed6",
   "metadata": {
    "tags": []
   },
   "outputs": [
    {
     "data": {
      "text/plain": [
       "#'beaker_clojure_shell_87f17984-683a-40e1-9c29-ed7da36932d5/titanic-data"
      ]
     },
     "execution_count": 5,
     "metadata": {},
     "output_type": "execute_result"
    }
   ],
   "source": [
    "(def titanic-data (return-fn titanic-dot-txt))"
   ]
  },
  {
   "cell_type": "markdown",
   "id": "424e5c5f-12a7-43a0-a632-07ad7bec2e6e",
   "metadata": {},
   "source": [
    "Lets count the missing values"
   ]
  },
  {
   "cell_type": "code",
   "execution_count": 193,
   "id": "858e828d-d8f5-4d0b-b633-b61514a2fde1",
   "metadata": {
    "tags": []
   },
   "outputs": [
    {
     "data": {
      "text/plain": [
       "866"
      ]
     },
     "execution_count": 193,
     "metadata": {},
     "output_type": "execute_result"
    }
   ],
   "source": [
    "(titanic-data\n",
    " (fn [data]\n",
    "     (count\n",
    "      (filter empty?\n",
    "              (mapcat vals\n",
    "                      data)))))"
   ]
  },
  {
   "cell_type": "markdown",
   "id": "831d131c-508e-4bc1-b5b5-c080121aba23",
   "metadata": {},
   "source": [
    "We will replace those missing values"
   ]
  },
  {
   "cell_type": "code",
   "execution_count": 194,
   "id": "07985619-19ae-420f-b2c7-afcf38eae3ac",
   "metadata": {
    "tags": []
   },
   "outputs": [
    {
     "data": {
      "text/plain": [
       "[Age, Embarked, Cabin]"
      ]
     },
     "execution_count": 194,
     "metadata": {},
     "output_type": "execute_result"
    }
   ],
   "source": [
    "(titanic-data\n",
    " (fn [data]\n",
    "     (let [kys (distinct (mapcat keys data))]\n",
    "         (keep (fn [k]\n",
    "                   (let [values (map #(get % k) data)]\n",
    "                       (when (some empty? values)\n",
    "                           k))) kys))))"
   ]
  },
  {
   "cell_type": "markdown",
   "id": "e0ec152c-ba78-46fe-af03-981f87bb4392",
   "metadata": {
    "tags": []
   },
   "source": [
    "We have 3 keys with missing values. Time to load the other data."
   ]
  },
  {
   "cell_type": "code",
   "execution_count": 6,
   "id": "627fab8c-77d2-4ce7-a65d-c147f8d21827",
   "metadata": {
    "tags": []
   },
   "outputs": [
    {
     "data": {
      "text/plain": [
       "#'beaker_clojure_shell_87f17984-683a-40e1-9c29-ed7da36932d5/third-class-dot-text"
      ]
     },
     "execution_count": 6,
     "metadata": {},
     "output_type": "execute_result"
    }
   ],
   "source": [
    "(def first-class-dot-text (read-string (slurp \"First class.txt\")))\n",
    "\n",
    "(def second-class-dot-text (read-string (slurp \"Second class.txt\")))\n",
    "\n",
    "(def third-class-dot-text (read-string (slurp \"Third class.txt\")))"
   ]
  },
  {
   "cell_type": "code",
   "execution_count": 7,
   "id": "6f5b9ed3-c6a2-400f-8eec-e0f21e67322e",
   "metadata": {
    "tags": []
   },
   "outputs": [
    {
     "data": {
      "text/plain": [
       "#'beaker_clojure_shell_87f17984-683a-40e1-9c29-ed7da36932d5/third-class-data"
      ]
     },
     "execution_count": 7,
     "metadata": {},
     "output_type": "execute_result"
    }
   ],
   "source": [
    "(def first-class-data (fn [f] (f first-class-dot-text)))\n",
    "\n",
    "(def second-class-data (fn [f] (f second-class-dot-text)))\n",
    "\n",
    "(def third-class-data (fn [f] (f third-class-dot-text)))"
   ]
  },
  {
   "cell_type": "markdown",
   "id": "8ea50788-18dc-4c90-a574-f59dda98f9e7",
   "metadata": {},
   "source": [
    "Lets see if we can find some of the missing data in any of the other datasets"
   ]
  },
  {
   "cell_type": "code",
   "execution_count": 8,
   "id": "75617a65-8aad-4776-9e45-717809d03da5",
   "metadata": {
    "tags": []
   },
   "outputs": [
    {
     "data": {
      "text/plain": [
       "#'beaker_clojure_shell_87f17984-683a-40e1-9c29-ed7da36932d5/search-names-in-other-data"
      ]
     },
     "execution_count": 8,
     "metadata": {},
     "output_type": "execute_result"
    }
   ],
   "source": [
    "(defn search-names-in-other-data\n",
    "    [main-data search-data search-fn]\n",
    "    (let [missing-row-fn (fn [dta] \n",
    "                             (keep #(when (some empty? (vals %)) (get % \"Name\")) dta))\n",
    "          names-with-missing (main-data missing-row-fn)]\n",
    "        (reduce (fn [acc s-data]\n",
    "                    (let [ready (search-fn names-with-missing)]\n",
    "                        (lazy-cat acc (s-data ready))))\n",
    "                (lazy-seq)\n",
    "                search-data)))"
   ]
  },
  {
   "cell_type": "code",
   "execution_count": 9,
   "id": "b989a602-a896-4db7-9f2b-e6040902532e",
   "metadata": {
    "tags": []
   },
   "outputs": [
    {
     "data": {
      "text/plain": [
       "[]"
      ]
     },
     "execution_count": 9,
     "metadata": {},
     "output_type": "execute_result"
    }
   ],
   "source": [
    "(search-names-in-other-data titanic-data\n",
    "                            [first-class-data second-class-data third-class-data]\n",
    "                            (fn [names-with-missing]\n",
    "                                (fn [data]\n",
    "                                    ((fn iter [[n & names]]\n",
    "                                         (lazy-seq\n",
    "                                          (when-let [n n]\n",
    "                                              (let [x (some #(and (get % n) %) data)]\n",
    "                                                  (if x\n",
    "                                                      (cons x (iter names))\n",
    "                                                      (iter names)))))) names-with-missing))))"
   ]
  },
  {
   "cell_type": "markdown",
   "id": "925389b6-bc1c-4a7f-b0c1-cee7d39e1a01",
   "metadata": {},
   "source": [
    "We don't have a single passenger that appears in any of the other data, we will replace Age"
   ]
  },
  {
   "cell_type": "code",
   "execution_count": 10,
   "id": "29e7415f-0fb4-40dd-a2aa-c0bd8daba8aa",
   "metadata": {
    "tags": []
   },
   "outputs": [
    {
     "data": {
      "text/plain": [
       "beaker_clojure_shell_87f17984_683a_40e1_9c29_ed7da36932d5$eval219$fn__220$fn__221$fn__222@55e2c1fc"
      ]
     },
     "execution_count": 10,
     "metadata": {},
     "output_type": "execute_result"
    }
   ],
   "source": [
    "(defn round\n",
    "    [n]\n",
    "    (read-string\n",
    "     (format \"%.2f\" n)))\n",
    "\n",
    "(defn get-age\n",
    "    [dataset kont]\n",
    "    (kont\n",
    "     (dataset\n",
    "      (fn [data]\n",
    "          (loop [[m & ms] data avg {:male [] :female []}]\n",
    "              (if (not m)\n",
    "                  (zipmap '(:male :female) (map #(str (round (/ (apply + %) (count %)))) (vals avg)))\n",
    "                  (let [sex? (get m \"Sex\")\n",
    "                        age? (get m \"Age\")]\n",
    "                      (cond\n",
    "                          (empty? age?) (recur ms (update avg (keyword sex?) conj 0))\n",
    "                          (= sex? \"male\") (recur ms (update avg :male conj (read-string age?)))\n",
    "                          (= sex? \"female\") (recur ms (update avg :female conj (read-string age?)))))))))))\n",
    " \n",
    "\n",
    "(get-age titanic-data \n",
    "         (fn [sex-avg-age]\n",
    "             (alter-var-root #'titanic-data\n",
    "                             (fn [FN]\n",
    "                                 (let [data (FN identity)]\n",
    "                                     (fn [f]\n",
    "                                         (f ((fn recur-iter [[m & ms]]\n",
    "                                                 (lazy-seq\n",
    "                                                  (when-let [m m]\n",
    "                                                      (if (empty? (get m \"Age\"))\n",
    "                                                          (let [k (if (= (get m \"Sex\") \"female\")\n",
    "                                                                      :female\n",
    "                                                                      :male)]\n",
    "                                                              (cons (assoc m \"Age\" (k sex-avg-age))\n",
    "                                                                    (recur-iter ms)))\n",
    "                                                          (cons m (recur-iter ms)))))) data))))))))"
   ]
  },
  {
   "cell_type": "code",
   "execution_count": 200,
   "id": "8a1ee26c-84a7-4f3c-a6e7-16d0bfe0212a",
   "metadata": {
    "tags": []
   },
   "outputs": [
    {
     "data": {
      "text/plain": [
       "689"
      ]
     },
     "execution_count": 200,
     "metadata": {},
     "output_type": "execute_result"
    }
   ],
   "source": [
    "(titanic-data\n",
    " (fn [data]\n",
    "     (let [vs (mapcat vals data)]\n",
    "         (count\n",
    "          (filter empty? vs)))))"
   ]
  },
  {
   "cell_type": "code",
   "execution_count": 201,
   "id": "cda1b9ae-a0ac-4ca8-ae90-df5a42c44737",
   "metadata": {
    "tags": []
   },
   "outputs": [
    {
     "data": {
      "text/plain": [
       "[Embarked, Cabin]"
      ]
     },
     "execution_count": 201,
     "metadata": {},
     "output_type": "execute_result"
    }
   ],
   "source": [
    "(titanic-data\n",
    " (fn [data]\n",
    "     (let [ks (distinct (mapcat keys data))]\n",
    "         (distinct \n",
    "          (mapcat (fn [k]\n",
    "                      (keep #(when (empty? (get % k))\n",
    "                                 k) data)) ks)))))"
   ]
  },
  {
   "cell_type": "markdown",
   "id": "e0334e1c-a7ee-46a0-917f-aba6fcca0751",
   "metadata": {},
   "source": [
    "How many missing values the remaining keys have? Well..."
   ]
  },
  {
   "cell_type": "code",
   "execution_count": 12,
   "id": "65504d58-95f2-4cd7-964d-10f65315ba9a",
   "metadata": {
    "tags": []
   },
   "outputs": [
    {
     "data": {
      "application/vnd.jupyter.widget-view+json": {
       "model_id": "b672548f-26aa-431e-b4b6-110cea34f43f",
       "version_major": 2,
       "version_minor": 0
      },
      "method": "display_data"
     },
     "metadata": {},
     "output_type": "display_data"
    }
   ],
   "source": [
    "(titanic-data\n",
    " (fn [data]\n",
    "     (let [ks (distinct (mapcat keys data))]\n",
    "         (reduce (fn [m [k v]]\n",
    "                     (assoc m k (count v)))\n",
    "                 {}\n",
    "                 (group-by identity\n",
    "                           (mapcat (fn [k]\n",
    "                                       (keep #(when (empty? (get % k))\n",
    "                                                  k) data)) ks))))))"
   ]
  },
  {
   "cell_type": "markdown",
   "id": "0d798acf-6011-469f-a18c-e6356b19534b",
   "metadata": {},
   "source": [
    "Now we will iterate through each individual map, if that map doesn't have a missing value in 'Embarked', then we will just leave it as is. When 'Embarked' is missing\n",
    "we will get the 'Fare' that was paid in that map, and pit it against the minimum value of the maximum price per port embarked, upon being below that value then the port\n",
    "to which that value belongs to is the one that will replace our missing value."
   ]
  },
  {
   "cell_type": "code",
   "execution_count": 13,
   "id": "1f07acab-b35a-4562-b023-69358620dc5e",
   "metadata": {
    "tags": []
   },
   "outputs": [
    {
     "data": {
      "text/plain": [
       "beaker_clojure_shell_87f17984_683a_40e1_9c29_ed7da36932d5$eval309$fn__314$fn__315$fn__316@4a742b4f"
      ]
     },
     "execution_count": 13,
     "metadata": {},
     "output_type": "execute_result"
    }
   ],
   "source": [
    "(defn compute-max-value-embarked-and-return-fn\n",
    "    [dataset create-max-embarked-fn]\n",
    "    (dataset\n",
    "     (fn [data]\n",
    "         (let [embarked (distinct (filter not-empty (map #(get % \"Embarked\") data)))\n",
    "               maxes-embarked (create-max-embarked-fn embarked data)\n",
    "               ports (keys maxes-embarked)\n",
    "               maxes (vals maxes-embarked)]\n",
    "             (fn [f] (f ports \n",
    "                        maxes \n",
    "                        data\n",
    "                        (fn [[p & ps][m & ms] mp]\n",
    "                            (when-let [_ (and p m)]\n",
    "                                (let [fare? (read-string (get mp \"Fare\"))]\n",
    "                                    (if (< fare? m)\n",
    "                                        (assoc mp \"Embarked\" p)\n",
    "                                        (recur ps ms mp)))))))))))\n",
    "\n",
    "(defn- calculate-max\n",
    "       [mp]\n",
    "       (let [result (zipmap (keys mp)\n",
    "                            (map #(apply max %) (vals mp)))]\n",
    "           (into (sorted-map-by #(compare (get result %1) (get result %2)))\n",
    "                 result)))\n",
    "\n",
    "(defn iterate-through-maxes\n",
    "    [ports maxes data iterator]\n",
    "    (when-let [s (seq data)]\n",
    "        (lazy-seq\n",
    "         (loop [[m & ms] s]\n",
    "             (let [embarked? (get m \"Embarked\")]\n",
    "                 (if (empty? embarked?)\n",
    "                     (let [new-m (iterator ports maxes m)]\n",
    "                         (cons new-m (iterate-through-maxes ports maxes ms iterator)))\n",
    "                     (cons m (iterate-through-maxes ports maxes ms iterator))))))))\n",
    "\n",
    "(defn return\n",
    "    [FN final-op]\n",
    "    (FN final-op))\n",
    "\n",
    "\n",
    "(return\n",
    " (compute-max-value-embarked-and-return-fn\n",
    "  titanic-data\n",
    "  (fn [ks data]\n",
    "      (let [MAP (zipmap ks (repeat (count ks) []))]\n",
    "          (calculate-max\n",
    "           (reduce (fn [acc m]\n",
    "                       (let [embarked? (get m \"Embarked\")\n",
    "                             fare? (read-string (get m \"Fare\"))]\n",
    "                           (if (empty? embarked?)\n",
    "                               acc\n",
    "                               (update acc embarked? conj fare?))))\n",
    "                   MAP data)))))\n",
    " (fn [& args]\n",
    "     (alter-var-root #'titanic-data\n",
    "                     (fn [_]\n",
    "                         (fn [f]\n",
    "                             (f (apply iterate-through-maxes args)))))))"
   ]
  },
  {
   "cell_type": "markdown",
   "id": "9ecd8cda-2dbc-4ef8-9fdc-7b09f7930889",
   "metadata": {},
   "source": [
    "Check missing values again"
   ]
  },
  {
   "cell_type": "code",
   "execution_count": 14,
   "id": "3227b0dc-7323-4e81-b56f-d14d1ccd9afd",
   "metadata": {
    "tags": []
   },
   "outputs": [
    {
     "data": {
      "application/vnd.jupyter.widget-view+json": {
       "model_id": "d8ae4ae8-b0a7-4603-83a1-e3a27390faf0",
       "version_major": 2,
       "version_minor": 0
      },
      "method": "display_data"
     },
     "metadata": {},
     "output_type": "display_data"
    }
   ],
   "source": [
    "(titanic-data\n",
    "  (fn [data]\n",
    "      (let [ks (distinct (mapcat keys data))]\n",
    "          (reduce (fn [m [k v]]\n",
    "                      (assoc m k (count v)))\n",
    "                  {}\n",
    "                  (group-by identity\n",
    "                            (mapcat (fn [k]\n",
    "                                        (keep #(when (empty? (get % k))\n",
    "                                                   k) data)) ks))))))"
   ]
  },
  {
   "cell_type": "markdown",
   "id": "cf8b2553-fed9-436b-aaa9-8b9f07b99683",
   "metadata": {},
   "source": [
    "**About Cabin :**\n",
    "\n",
    "**Pros:**\n",
    "* There probably was cabins that were evacuated before others, we could probably check if that was the case for that particular cabin. (Not guaranteed).\n",
    "\n",
    "**Cons:**\n",
    "* Lots of missing cabins in the dataset.\n",
    "* Each cabin is unique, meaning that either a given number of passengers shared it or not. (No same cabin else in the ship).\n",
    "* Could probably check to which pclass is attributed, but there is no guarantee the guest survived or died.\n",
    "         \n",
    "After all it is the cabin in which a passenger was, meaning that what it could give us is the pclass of its occupants but thats it, there isn't even a ship section\n",
    "to which it belongs, of course we could try to find ship plans, and then evacuation ones. But how do you know which passenger was in which cabin? This is important\n",
    "and a lot of cabins are omitted in this dataset, which basically means that I think that its best at least for now to drop entirely a 'Cabin' row."
   ]
  },
  {
   "cell_type": "markdown",
   "id": "e9e9a6b3-f04b-4e7c-a07e-0d190d666202",
   "metadata": {},
   "source": [
    "So"
   ]
  },
  {
   "cell_type": "code",
   "execution_count": 15,
   "id": "e2e409a1-e350-4145-b904-704bd9c41f97",
   "metadata": {
    "tags": []
   },
   "outputs": [
    {
     "data": {
      "text/plain": [
       "beaker_clojure_shell_87f17984_683a_40e1_9c29_ed7da36932d5$eval337$fn__338$fn__339@4735ba05"
      ]
     },
     "execution_count": 15,
     "metadata": {},
     "output_type": "execute_result"
    }
   ],
   "source": [
    "(alter-var-root\n",
    " #'titanic-data\n",
    " (fn [FN]\n",
    "     (let [data (FN identity)]\n",
    "         (fn [f]\n",
    "             (f (map #(dissoc % \"Cabin\") data))))))"
   ]
  },
  {
   "cell_type": "markdown",
   "id": "f68450dd-f32f-4f38-9d35-f7935fd85989",
   "metadata": {},
   "source": [
    "Now"
   ]
  },
  {
   "cell_type": "code",
   "execution_count": 16,
   "id": "add8d4ab-1655-4b1b-a7dc-9341b88cdc9e",
   "metadata": {
    "tags": []
   },
   "outputs": [
    {
     "data": {
      "application/vnd.jupyter.widget-view+json": {
       "model_id": "10695754-f5c3-41b2-a240-7f63105c5426",
       "version_major": 2,
       "version_minor": 0
      },
      "method": "display_data"
     },
     "metadata": {},
     "output_type": "display_data"
    }
   ],
   "source": [
    "(titanic-data\n",
    "  (fn [data]\n",
    "      (let [ks (distinct (mapcat keys data))]\n",
    "          (reduce (fn [m [k v]]\n",
    "                      (assoc m k (count v)))\n",
    "                  {}\n",
    "                  (group-by identity\n",
    "                            (mapcat (fn [k]\n",
    "                                        (keep #(when (empty? (get % k))\n",
    "                                                   k) data)) ks))))))"
   ]
  },
  {
   "cell_type": "markdown",
   "id": "506017a1-a64e-4286-860a-1ddca7155415",
   "metadata": {},
   "source": [
    "Now we will process the remaining datasets"
   ]
  },
  {
   "cell_type": "code",
   "execution_count": 17,
   "id": "d7bda1e8-de0d-479e-9699-522de1657ec4",
   "metadata": {
    "tags": []
   },
   "outputs": [
    {
     "data": {
      "application/vnd.jupyter.widget-view+json": {
       "model_id": "a30dece3-1052-42ec-b734-8dc2a99b11db",
       "version_major": 2,
       "version_minor": 0
      },
      "method": "display_data"
     },
     "metadata": {},
     "output_type": "display_data"
    }
   ],
   "source": [
    "(defn retrieve-missing-map\n",
    "    [data]\n",
    "    (let [ks (distinct (mapcat keys data))]\n",
    "        (reduce (fn [m [k v]]\n",
    "                    (assoc m k (count v)))\n",
    "                {}\n",
    "                (group-by identity\n",
    "                          (mapcat (fn [k]\n",
    "                                      (keep #(when (empty? (get % k \"not-present\"))\n",
    "                                                 k) data)) ks)))))\n",
    "\n",
    "(defn keys-with-missing\n",
    "    [datasets cont]\n",
    "    (let [dataset (first datasets)]\n",
    "        (if dataset\n",
    "            (let [missing ((:data dataset) retrieve-missing-map)]\n",
    "                (recur (rest datasets) #(cont (assoc % (:dset dataset) missing))))\n",
    "            (cont {}))))\n",
    "\n",
    "\n",
    "(keys-with-missing [{:dset :first-class-data :data first-class-data}\n",
    "                    {:dset :second-class-data :data second-class-data}\n",
    "                    {:dset :third-class-data :data third-class-data}]\n",
    "                   identity)"
   ]
  },
  {
   "cell_type": "markdown",
   "id": "f35aa441-4133-4cae-bd02-9d328b2ace35",
   "metadata": {},
   "source": [
    "Something to consider: The third class data has 8 keys instead of 7, this means that firstly we are going to focus on the first 2.\n",
    "\n",
    "https://en.wikipedia.org/wiki/Passengers_of_the_Titanic#Third_class_2"
   ]
  },
  {
   "cell_type": "markdown",
   "id": "00746aca-56fc-4e9c-bd77-fb9a61e1f67a",
   "metadata": {},
   "source": [
    "The missing values of Boarded and Hometwon can be replaced by the most common values for each of them."
   ]
  },
  {
   "cell_type": "code",
   "execution_count": 18,
   "id": "e656bdeb-c978-4d95-bd00-dfdb5a617ea3",
   "metadata": {},
   "outputs": [
    {
     "data": {
      "text/plain": [
       "null"
      ]
     },
     "execution_count": 18,
     "metadata": {},
     "output_type": "execute_result"
    }
   ],
   "source": [
    "(defn replace-in-data\n",
    "    ([replace-with data]\n",
    "     (data replace-with))\n",
    "    ([replace-with data1 data2]            ;; replace-in-data expects that replace-with is a function with side-effects\n",
    "     (do (data1 replace-with)\n",
    "         (data2 replace-with)\n",
    "         nil))\n",
    "    ([replace-with data1 data2 & data]\n",
    "     (when data1\n",
    "         (do (replace-in-data replace-with data1 data2)\n",
    "             (apply replace-in-data replace-with data)))))\n",
    "\n",
    "(defn find-max-occuring-value\n",
    "    [k data]\n",
    "    (let [s (map #(get % k) data)\n",
    "          grouped (group-by identity s)\n",
    "          maxed (group-by count (vals grouped))\n",
    "          MAX (apply max (keys maxed))]\n",
    "        ((fn [MAX] (ffirst (get maxed MAX))) MAX)))\n",
    "\n",
    "(defn make-fn\n",
    "    [data k]\n",
    "    (fn [dta]\n",
    "        (alter-var-root\n",
    "         data\n",
    "         (fn [_]\n",
    "             #(%\n",
    "               (let [pad (find-max-occuring-value k dta)]\n",
    "                   (map (fn [m] (if (empty? (get m k)) (assoc m k pad) m)) dta)))))))\n",
    "\n",
    "(defn replace-in-k-with\n",
    "    [datas ks]\n",
    "    (let [k-fns (map make-fn datas ks)]\n",
    "        (dorun (map #(replace-in-data %2 %1) datas k-fns))))\n",
    "\n",
    "\n",
    "(replace-in-k-with [#'first-class-data #'second-class-data] [\"Hometown\" \"Boarded\"])"
   ]
  },
  {
   "cell_type": "code",
   "execution_count": 19,
   "id": "3fd5a9f8-5f83-41ac-846b-ab2bb8fa36fd",
   "metadata": {
    "tags": []
   },
   "outputs": [
    {
     "data": {
      "application/vnd.jupyter.widget-view+json": {
       "model_id": "61cb7635-f962-4b76-8820-36a008fb6a2d",
       "version_major": 2,
       "version_minor": 0
      },
      "method": "display_data"
     },
     "metadata": {},
     "output_type": "display_data"
    }
   ],
   "source": [
    "(keys-with-missing [{:dset :first-class-data :data first-class-data}\n",
    "                    {:dset :second-class-data :data second-class-data}\n",
    "                    {:dset :third-class-data :data third-class-data}]\n",
    "                   identity)"
   ]
  },
  {
   "cell_type": "markdown",
   "id": "7fe2bd19-3249-434d-b6f6-b13bc5da577d",
   "metadata": {},
   "source": [
    "The missing values of Destination in the second-class-data can also be replaced by the most common value for it."
   ]
  },
  {
   "cell_type": "code",
   "execution_count": 20,
   "id": "9ac2cd0e-a6c2-4ef4-ac92-729c60d2edc2",
   "metadata": {
    "tags": []
   },
   "outputs": [
    {
     "data": {
      "text/plain": [
       "null"
      ]
     },
     "execution_count": 20,
     "metadata": {},
     "output_type": "execute_result"
    }
   ],
   "source": [
    "(replace-in-k-with [#'second-class-data] [\"Destination\"])"
   ]
  },
  {
   "cell_type": "code",
   "execution_count": 21,
   "id": "2ec3128c-7428-44e7-847d-db7c5a5f285b",
   "metadata": {
    "tags": []
   },
   "outputs": [
    {
     "data": {
      "application/vnd.jupyter.widget-view+json": {
       "model_id": "29d0c667-6608-4312-9951-fbaee4e186a8",
       "version_major": 2,
       "version_minor": 0
      },
      "method": "display_data"
     },
     "metadata": {},
     "output_type": "display_data"
    }
   ],
   "source": [
    "(keys-with-missing [{:dset :first-class-data :data first-class-data}\n",
    "                    {:dset :second-class-data :data second-class-data}\n",
    "                    {:dset :third-class-data :data third-class-data}]\n",
    "                   identity)"
   ]
  },
  {
   "cell_type": "markdown",
   "id": "32679b06-1d55-40e3-96bb-35cc85c3e948",
   "metadata": {},
   "source": [
    "**About Lifeboat and Body:** basically what we could is for those rows where lifeboat is known, we could add a new col (Survived) which contains 1 (survived), <br>\n",
    "&nbsp;&nbsp;&nbsp;&nbsp;&nbsp;&nbsp;&nbsp;&nbsp;&nbsp;&nbsp;&nbsp;&nbsp;&nbsp;&nbsp;&nbsp;&nbsp;&nbsp;&nbsp;&nbsp;&nbsp;&nbsp;&nbsp;&nbsp;\n",
    "&nbsp;&nbsp;&nbsp;&nbsp;&nbsp;&nbsp;&nbsp;&nbsp;&nbsp;&nbsp;&nbsp;&nbsp;&nbsp;&nbsp;&nbsp;&nbsp;&nbsp;&nbsp;&nbsp;&nbsp;\n",
    "or if body is known then 0 (not survived).\n",
    "We would then drop this 2 columns."
   ]
  },
  {
   "cell_type": "code",
   "execution_count": 22,
   "id": "f0e2171c-783e-46be-9963-506b5ff14164",
   "metadata": {
    "tags": []
   },
   "outputs": [
    {
     "data": {
      "text/plain": [
       "#'beaker_clojure_shell_87f17984-683a-40e1-9c29-ed7da36932d5/iterate-and-change"
      ]
     },
     "execution_count": 22,
     "metadata": {},
     "output_type": "execute_result"
    }
   ],
   "source": [
    "(defn dissoc*\n",
    "    [m [k & ks]]\n",
    "    (if k\n",
    "        (recur (dissoc m k) ks)\n",
    "        m))\n",
    "\n",
    "(defn survived?\n",
    "    [m]\n",
    "    (let [lifeboat (get m \"Lifeboat\")\n",
    "          body (get m \"Body\")]\n",
    "        (cond\n",
    "            (and (empty? body) (not-empty lifeboat)) (assoc (dissoc* m [\"Lifeboat\" \"Body\"]) \"Survived\" \"1\")\n",
    "            (and (not-empty body) (empty? lifeboat)) (assoc (dissoc* m [\"Lifeboat\" \"Body\"]) \"Survived\" \"0\")\n",
    "            :else m)))\n",
    "\n",
    "(defn iterate-and-change\n",
    "    [data FN]\n",
    "    (let [data-fn (deref data)]\n",
    "        (data-fn (fn [dta] (alter-var-root data (fn [_] #(% (map FN dta))))))))"
   ]
  },
  {
   "cell_type": "code",
   "execution_count": 23,
   "id": "44bf596b-f843-4f34-9cb3-b08a6c465e1a",
   "metadata": {
    "tags": []
   },
   "outputs": [
    {
     "data": {
      "text/plain": [
       "beaker_clojure_shell_87f17984_683a_40e1_9c29_ed7da36932d5$iterate_and_change$fn__417$fn__418$fn__419@7a379dca"
      ]
     },
     "execution_count": 23,
     "metadata": {},
     "output_type": "execute_result"
    }
   ],
   "source": [
    "(iterate-and-change #'second-class-data survived?)"
   ]
  },
  {
   "cell_type": "code",
   "execution_count": 24,
   "id": "14736841-3d15-4376-91b6-ee6826e65458",
   "metadata": {
    "tags": []
   },
   "outputs": [
    {
     "data": {
      "application/vnd.jupyter.widget-view+json": {
       "model_id": "edb27059-288d-4a83-b9ec-36bef6b2185b",
       "version_major": 2,
       "version_minor": 0
      },
      "method": "display_data"
     },
     "metadata": {},
     "output_type": "display_data"
    }
   ],
   "source": [
    "(keys-with-missing [{:dset :first-class-data :data first-class-data}\n",
    "                    {:dset :second-class-data :data second-class-data}\n",
    "                    {:dset :third-class-data :data third-class-data}]\n",
    "                   identity)"
   ]
  },
  {
   "cell_type": "markdown",
   "id": "a47ea72f-6537-4c42-a6e2-1463290b4504",
   "metadata": {},
   "source": [
    "Same for first-class-data."
   ]
  },
  {
   "cell_type": "code",
   "execution_count": 25,
   "id": "a75f42b4-504d-46aa-b41a-10e617f7ecd8",
   "metadata": {
    "tags": []
   },
   "outputs": [
    {
     "data": {
      "text/plain": [
       "beaker_clojure_shell_87f17984_683a_40e1_9c29_ed7da36932d5$iterate_and_change$fn__417$fn__418$fn__419@2467308f"
      ]
     },
     "execution_count": 25,
     "metadata": {},
     "output_type": "execute_result"
    }
   ],
   "source": [
    "(iterate-and-change #'first-class-data survived?)"
   ]
  },
  {
   "cell_type": "code",
   "execution_count": 27,
   "id": "1ea09497-b107-4115-bb72-62f384fe43ca",
   "metadata": {
    "tags": []
   },
   "outputs": [
    {
     "data": {
      "application/vnd.jupyter.widget-view+json": {
       "model_id": "24a7c537-d370-4061-bd4d-54ab56fcabf7",
       "version_major": 2,
       "version_minor": 0
      },
      "method": "display_data"
     },
     "metadata": {},
     "output_type": "display_data"
    }
   ],
   "source": [
    "(keys-with-missing [{:dset :first-class-data :data first-class-data}\n",
    "                    {:dset :second-class-data :data second-class-data}\n",
    "                    {:dset :third-class-data :data third-class-data}]\n",
    "                   identity)"
   ]
  },
  {
   "cell_type": "code",
   "execution_count": 28,
   "id": "2f5cdcf0-06e7-48c1-a1f0-f569b8fc5a40",
   "metadata": {
    "tags": []
   },
   "outputs": [
    {
     "data": {
      "text/plain": [
       "null"
      ]
     },
     "execution_count": 28,
     "metadata": {},
     "output_type": "execute_result"
    }
   ],
   "source": [
    "(require '[clojure.string :as cs])"
   ]
  },
  {
   "cell_type": "markdown",
   "id": "7c9a1c14-e962-42a4-8fd2-8fb5f13fa5d3",
   "metadata": {},
   "source": [
    "We will now add a sex column to all rows in the first and second class data"
   ]
  },
  {
   "cell_type": "code",
   "execution_count": 29,
   "id": "174a19ee-fe08-4930-8ef8-75a6d7331c95",
   "metadata": {
    "tags": []
   },
   "outputs": [
    {
     "data": {
      "text/plain": [
       "#'beaker_clojure_shell_87f17984-683a-40e1-9c29-ed7da36932d5/add-sex"
      ]
     },
     "execution_count": 29,
     "metadata": {},
     "output_type": "execute_result"
    }
   ],
   "source": [
    "(def add-sex (fn [m] \n",
    "                 (let [nme (get m \"Name\")] \n",
    "                     (cond \n",
    "                         (.contains nme \"Miss\") (assoc m \"Sex\" \"female\") \n",
    "                         (.contains nme \"Mrs.\") (assoc m \"Sex\" \"female\")\n",
    "                         :else (assoc m \"Sex\" \"male\")))))"
   ]
  },
  {
   "cell_type": "code",
   "execution_count": 30,
   "id": "c08cbe30-1464-421a-ac37-e42cece330f0",
   "metadata": {
    "tags": []
   },
   "outputs": [
    {
     "data": {
      "text/plain": [
       "#'beaker_clojure_shell_87f17984-683a-40e1-9c29-ed7da36932d5/alterate"
      ]
     },
     "execution_count": 30,
     "metadata": {},
     "output_type": "execute_result"
    }
   ],
   "source": [
    "(defn alterate\n",
    "    [datas FN]\n",
    "    (run! #(iterate-and-change % FN) datas)) ;;function to iterate and change through various data at once"
   ]
  },
  {
   "cell_type": "code",
   "execution_count": 31,
   "id": "2dd51d91-0f68-4a39-a356-2411ece0011a",
   "metadata": {
    "tags": []
   },
   "outputs": [
    {
     "data": {
      "text/plain": [
       "null"
      ]
     },
     "execution_count": 31,
     "metadata": {},
     "output_type": "execute_result"
    }
   ],
   "source": [
    "(alterate [#'first-class-data #'second-class-data]\n",
    "          add-sex)"
   ]
  },
  {
   "cell_type": "code",
   "execution_count": 32,
   "id": "e2001865-0bfa-4e83-83b9-2301e5dca6ee",
   "metadata": {
    "tags": []
   },
   "outputs": [
    {
     "data": {
      "application/vnd.jupyter.widget-view+json": {
       "model_id": "c641c1d6-9ab6-42db-9180-ea7ef46f86ea",
       "version_major": 2,
       "version_minor": 0
      },
      "method": "display_data"
     },
     "metadata": {},
     "output_type": "display_data"
    }
   ],
   "source": [
    "(first-class-data (fn [data] (take 5 data)))"
   ]
  },
  {
   "cell_type": "code",
   "execution_count": 33,
   "id": "50b94209-7a51-43f6-abf0-3671eb8b59d9",
   "metadata": {
    "tags": []
   },
   "outputs": [
    {
     "data": {
      "application/vnd.jupyter.widget-view+json": {
       "model_id": "2a4f97cb-a3b6-479c-b9ca-b7cc13b91044",
       "version_major": 2,
       "version_minor": 0
      },
      "method": "display_data"
     },
     "metadata": {},
     "output_type": "display_data"
    }
   ],
   "source": [
    "(second-class-data (fn [data] (take 5 data)))"
   ]
  },
  {
   "cell_type": "code",
   "execution_count": 34,
   "id": "35e8bca7-d1f1-4101-b258-e6957d128ab6",
   "metadata": {
    "tags": []
   },
   "outputs": [
    {
     "data": {
      "text/plain": [
       "[89, 131]"
      ]
     },
     "execution_count": 34,
     "metadata": {},
     "output_type": "execute_result"
    }
   ],
   "source": [
    "(let [pred (fn [data] ((comp count filter) #(not (get % \"Survived\")) data))]\n",
    "    (mapv #(% pred) [first-class-data second-class-data]))"
   ]
  },
  {
   "cell_type": "markdown",
   "id": "6f54b5c1-9907-4a90-9d76-44b32b1269e6",
   "metadata": {},
   "source": [
    "**first-class-data** has **89** rows without a **survived** column and **second-class-data** has **131**"
   ]
  },
  {
   "cell_type": "code",
   "execution_count": 35,
   "id": "560d3075-0c4b-4059-8401-5b01574bd4d6",
   "metadata": {
    "tags": []
   },
   "outputs": [
    {
     "data": {
      "text/plain": [
       "[[0, 9], [10, 19], [20, 29], [30, 39], [40, 49], [50, 59], [60, 69], [70, 79]]"
      ]
     },
     "execution_count": 35,
     "metadata": {},
     "output_type": "execute_result"
    }
   ],
   "source": [
    "(defn read-age\n",
    "    [age-s]\n",
    "    (cond\n",
    "        (.contains age-s \"mo.\") (if (.contains age-s \"12\") 1 0)\n",
    "        :else (read-string age-s)))\n",
    "\n",
    "(defn make-intervals\n",
    "    [coll minify maxify interval-fn & do-afters]\n",
    "    (let [help #(partial apply %)\n",
    "          [MIN MAX] ((juxt (help min) (help max)) coll)\n",
    "          intervals (interval-fn (minify MIN) (maxify MAX))\n",
    "          taken (take-while #(not (nil? %)) intervals)]\n",
    "        ((apply comp do-afters) (partition 2 1 taken))))\n",
    "\n",
    "(def prepare-MAX (fn [MAX]\n",
    "                     (cond\n",
    "                         (< MAX 10) (+ MAX (- 10 MAX))\n",
    "                         (int? (/ MAX 10)) MAX\n",
    "                         :else (let [s (str MAX)\n",
    "                                     f (first s)\n",
    "                                     tnth (str f \\0)]\n",
    "                                   (+ 10 (read-string tnth))))))\n",
    "\n",
    "(titanic-data\n",
    " (fn [data]\n",
    "     (let [ages (map (comp read-age #(get % \"Age\")) data)\n",
    "           decrement-last #(vector (first %) (dec (last %)))\n",
    "           decrement* #(map decrement-last %&)]\n",
    "         (make-intervals ages\n",
    "                         int\n",
    "                         prepare-MAX\n",
    "                         (fn [MIN MAX] (iterate (fn [i] (when-not (> (+ 10 i) MAX) (+ 10 i))) MIN))\n",
    "                         (fn iter [[s1 s2 & Ss]] (lazy-seq (when s1 (concat (decrement* s1 s2) (iter Ss)))))\n",
    "                         #(do (def intervals) (alter-var-root #'intervals (fn [_] %)))))))\n",
    "                          \n",
    "                          "
   ]
  },
  {
   "cell_type": "markdown",
   "id": "3a07a527-1475-4df1-b939-19d4a35ea1be",
   "metadata": {},
   "source": [
    "Now that we have the intervals we will build a map that has the intervals as keys and a map that contains sex as the keys. This can then be used by get-in <br>\n",
    "to retrieve the most common survived for a particular age for a particular sex."
   ]
  },
  {
   "cell_type": "code",
   "execution_count": 36,
   "id": "423fae24-60d9-4de2-874f-ac360bf06560",
   "metadata": {
    "tags": []
   },
   "outputs": [
    {
     "data": {
      "text/plain": [
       "#'beaker_clojure_shell_87f17984-683a-40e1-9c29-ed7da36932d5/find-most"
      ]
     },
     "execution_count": 36,
     "metadata": {},
     "output_type": "execute_result"
    }
   ],
   "source": [
    "(defn find-most\n",
    "    [coll]\n",
    "    (let [by-identity (vals (group-by identity coll))\n",
    "          by-count (group-by count by-identity)\n",
    "          [m v] ((juxt identity #(apply max (keys %))) by-count)]\n",
    "        (ffirst (get m v))))"
   ]
  },
  {
   "cell_type": "code",
   "execution_count": 37,
   "id": "48797ed9-bd77-453d-9b5e-2afc4be1e2ff",
   "metadata": {
    "tags": []
   },
   "outputs": [
    {
     "data": {
      "application/vnd.jupyter.widget-view+json": {
       "model_id": "9d13bc0f-cacb-4f80-99ae-2154e8e87707",
       "version_major": 2,
       "version_minor": 0
      },
      "method": "display_data"
     },
     "metadata": {},
     "output_type": "display_data"
    }
   ],
   "source": [
    "(defn make-map\n",
    "    [intervals sexes helper-fn ensure-fn cont]\n",
    "    (let [fns (map helper-fn intervals)\n",
    "          [sx1 sx2] sexes\n",
    "          sx1 (group-by (fn [m] (some #(% m) fns)) sx1)\n",
    "          sx2 (group-by (fn [m] (some #(% m) fns)) sx2)\n",
    "          pad (repeat (count intervals) {\"male\" nil \"female\" nil})\n",
    "          reader #(read-string (get % \"Survived\" 0))]\n",
    "        (loop [[sx & sxs] [[\"male\" sx1][\"female\" sx2]] m (zipmap (map #(apply list %) intervals) pad)]\n",
    "            (if-not sx\n",
    "                (cont (reduce ensure-fn {} m))\n",
    "                (let [[k-sx sx] sx]\n",
    "                    (recur sxs (reduce (fn [acc [k v]]\n",
    "                                           (let [most (find-most (map reader v))]\n",
    "                                               (update-in acc [(vec k) k-sx] (fn [_] most)))) m sx)))))))\n",
    "\n",
    "(titanic-data\n",
    " (fn [data]\n",
    "     (let [sexes (vals (group-by #(get % \"Sex\") data))]\n",
    "         (make-map intervals\n",
    "                   sexes\n",
    "                   (fn [[l h :as all]]\n",
    "                       #(let [age (read-age (get % \"Age\"))]\n",
    "                            (and (>= age l) (<= age h) all)))\n",
    "                   (fn [acc [k v]]\n",
    "                       (let [m (get v \"male\")\n",
    "                             f (get v \"female\")]\n",
    "                           (cond\n",
    "                               (not m) (assoc acc k (assoc v \"male\" \"0\"))\n",
    "                               (not f) (assoc acc k (assoc v \"female\" \"0\"))\n",
    "                               :else (assoc acc k v))))\n",
    "                   #(do (def map-with-pads) (alter-var-root #'map-with-pads (fn [_] %)))))))"
   ]
  },
  {
   "cell_type": "code",
   "execution_count": 38,
   "id": "50c92ac1-9898-470f-8f2b-5664a8b51bac",
   "metadata": {
    "tags": []
   },
   "outputs": [
    {
     "data": {
      "application/vnd.jupyter.widget-view+json": {
       "model_id": "ea3fecf1-ddf2-4ce3-b729-773641f3e5ae",
       "version_major": 2,
       "version_minor": 0
      },
      "method": "display_data"
     },
     "metadata": {},
     "output_type": "display_data"
    }
   ],
   "source": [
    "map-with-pads"
   ]
  },
  {
   "cell_type": "markdown",
   "id": "9873acc0-08a3-4665-88d7-e67b301c57f0",
   "metadata": {},
   "source": [
    "Now we will add the survived column."
   ]
  },
  {
   "cell_type": "code",
   "execution_count": 39,
   "id": "c66a80e1-74d9-4e55-8b05-1e1c1edc28fa",
   "metadata": {},
   "outputs": [
    {
     "data": {
      "text/plain": [
       "#'beaker_clojure_shell_87f17984-683a-40e1-9c29-ed7da36932d5/assoc-survived"
      ]
     },
     "execution_count": 39,
     "metadata": {},
     "output_type": "execute_result"
    }
   ],
   "source": [
    "(defn between-Ns\n",
    "    [number]\n",
    "    (if (int? (/ number 10))\n",
    "        (list number (+ number 10))\n",
    "        (between-Ns (read-string (str (first (str number)) \\0))))) ;; This function ensures that eg. 6 becomes (0 10)\n",
    "\n",
    "(defn assoc-survived\n",
    "    [m]\n",
    "    (let [age #(read-age (get m \"Age\"))\n",
    "          sex #(get m \"Sex\")]\n",
    "        (if (get m \"Survived\")\n",
    "            m\n",
    "            (dissoc* (assoc m \"Survived\" (get-in map-with-pads [(between-Ns (age)) (sex)]))\n",
    "                     [\"Lifeboat\" \"Body\"]))))"
   ]
  },
  {
   "cell_type": "code",
   "execution_count": 40,
   "id": "cff10eca-34d1-4e1f-80aa-027c6d5a8104",
   "metadata": {
    "tags": []
   },
   "outputs": [
    {
     "data": {
      "text/plain": [
       "null"
      ]
     },
     "execution_count": 40,
     "metadata": {},
     "output_type": "execute_result"
    }
   ],
   "source": [
    "(alterate [#'first-class-data #'second-class-data]\n",
    "          assoc-survived)"
   ]
  },
  {
   "cell_type": "code",
   "execution_count": 41,
   "id": "c2224a95-32e7-4b71-a228-0ba9a5d3ba6b",
   "metadata": {
    "tags": []
   },
   "outputs": [
    {
     "data": {
      "text/plain": [
       "[0, 0]"
      ]
     },
     "execution_count": 41,
     "metadata": {},
     "output_type": "execute_result"
    }
   ],
   "source": [
    "(let [pred (fn [data] ((comp count filter) #(not (get % \"Survived\")) data))]\n",
    "    (mapv #(% pred) [first-class-data second-class-data]))"
   ]
  },
  {
   "cell_type": "markdown",
   "id": "031b8d8c-ab65-431b-9c53-cb9310ab5a39",
   "metadata": {},
   "source": [
    "Next we're going to need to add a SibSp and a Parch column"
   ]
  },
  {
   "cell_type": "code",
   "execution_count": 42,
   "id": "28e14df2-47aa-4e85-b0df-eda1c2fcc6be",
   "metadata": {
    "tags": []
   },
   "outputs": [
    {
     "data": {
      "text/plain": [
       "#'beaker_clojure_shell_87f17984-683a-40e1-9c29-ed7da36932d5/sort-by-dec"
      ]
     },
     "execution_count": 42,
     "metadata": {},
     "output_type": "execute_result"
    }
   ],
   "source": [
    "(defn assoc*\n",
    "    \"Like assoc but can add\n",
    "     multiple keys and values at once\"\n",
    "    [m [k & ks] [v & vs]]\n",
    "    (if k\n",
    "        (assoc (assoc* m ks vs) k v)\n",
    "        m))\n",
    "\n",
    "(defn chain-split\n",
    "    \"Like clojure.string/split but will split\n",
    "     a string as long as there is a regex available.\"\n",
    "    [string [rex & regexes]]\n",
    "    (if rex\n",
    "        (recur (apply str (interpose \" \" (cs/split string rex))) regexes)\n",
    "        (remove #{\"\"} (cs/split string #\" \"))))\n",
    "\n",
    "(defn extract-surname\n",
    "    [NAME]\n",
    "    (let [name? (chain-split NAME [#\",\" #\"\\.\"])\n",
    "          f (first name?)]\n",
    "        (if (= f \"and\")\n",
    "            (last name?)\n",
    "            f)))\n",
    "\n",
    "(defn sort-by-dec\n",
    "    [FN coll]\n",
    "    (sort-by FN #(compare %2 %1) coll))"
   ]
  },
  {
   "cell_type": "code",
   "execution_count": 43,
   "id": "af90ecc2-039a-4371-80a3-642da5281c68",
   "metadata": {
    "tags": []
   },
   "outputs": [
    {
     "data": {
      "text/plain": [
       "#'beaker_clojure_shell_87f17984-683a-40e1-9c29-ed7da36932d5/assoc-family"
      ]
     },
     "execution_count": 43,
     "metadata": {},
     "output_type": "execute_result"
    }
   ],
   "source": [
    "(defn assoc-family\n",
    "    [data]\n",
    "    (fn [m]\n",
    "        (let [nme (get m \"Name\")\n",
    "              surname (extract-surname nme)\n",
    "              family (filter #(= (extract-surname (get % \"Name\")) surname) data)\n",
    "              sorted-fam (sort-by-dec #(read-age (get % \"Age\")) family)\n",
    "              [x1 x2 & rst] sorted-fam\n",
    "              nme-x1 (get x1 \"Name\")\n",
    "              nme-x2 (get x2 \"Name\")]\n",
    "            (if rst\n",
    "                (if (and (or (.contains nme-x1 \"Mr.\") (.contains nme-x1 \"Dr.\"))\n",
    "                         (.contains nme-x2 \"Mrs.\") (<= (read-age (get x1 \"Age\")) (+ 20 (read-age (get x2 \"Age\")))))\n",
    "                    (concat (map #(assoc* % [\"SibSp\" \"Parch\"] [\"1\" (str (count rst))]) [x1 x2])\n",
    "                            (map #(assoc* % [\"SibSp\" \"Parch\"] [(str (dec (count rst))) \"2\"]) rst))\n",
    "                    (if (<= (read-age (get x1 \"Age\")) (+ 20 (read-age (get x2 \"Age\"))))\n",
    "                        (map #(assoc* % [\"SibSp\" \"Parch\"] [(str (inc (count rst))) \"0\"]) (concat [x1 x2] rst))\n",
    "                        (cons (assoc* x1 [\"SibSp\" \"Parch\"] [\"0\" (str (count rst))])\n",
    "                              (map #(assoc* % [\"SibSp\" \"Parch\"] [(str (count rst)) \"1\"]) rst))))\n",
    "                (if x2\n",
    "                    (if (and (.contains nme-x1 \"Mr.\") (.contains nme-x2 \"Mrs.\"))\n",
    "                        (if (<= (read-age (get x1 \"Age\")) (+ 20 (read-age (get x2 \"Age\"))))\n",
    "                            (map #(assoc* % [\"SibSp\" \"Parch\"] [\"1\" \"0\"]) [x1 x2])\n",
    "                            (map #(assoc* % [\"SibSp\" \"Parch\"] [\"0\" \"1\"]) [x1 x2]))\n",
    "                        (if (<= (read-age (get x1 \"Age\")) (+ 20 (read-age (get x2 \"Age\"))))\n",
    "                            (map #(assoc* % [\"SibSp\" \"Parch\"] [\"1\" \"0\"]) [x1 x2])\n",
    "                            (map #(assoc* % [\"SibSp\" \"Parch\"] [\"0\" \"1\"]) [x1 x2])))\n",
    "                    (assoc* x1 [\"SibSp\" \"Parch\"] [\"0\" \"0\"]))))))"
   ]
  },
  {
   "cell_type": "code",
   "execution_count": 44,
   "id": "2c85ead5-e1be-4dda-8f6a-6cda90e5ae75",
   "metadata": {
    "tags": []
   },
   "outputs": [
    {
     "data": {
      "text/plain": [
       "#'beaker_clojure_shell_87f17984-683a-40e1-9c29-ed7da36932d5/alterate-data"
      ]
     },
     "execution_count": 44,
     "metadata": {},
     "output_type": "execute_result"
    }
   ],
   "source": [
    "(defn alterate-data\n",
    "    [[data & rst] FN]\n",
    "    (when data\n",
    "        (let [map-modifier ((deref data) #(FN %))]\n",
    "            (alterate [data] map-modifier)                 ;; Useful when you want to alterate different data with the same function\n",
    "            (recur rst FN))))                               ;;FN must be a function that returns another function to operate on each individual element"
   ]
  },
  {
   "cell_type": "code",
   "execution_count": 45,
   "id": "8c2a89b4-1af7-49fe-825d-e3e8f9dcaf87",
   "metadata": {
    "tags": []
   },
   "outputs": [
    {
     "data": {
      "text/plain": [
       "null"
      ]
     },
     "execution_count": 45,
     "metadata": {},
     "output_type": "execute_result"
    }
   ],
   "source": [
    "(alterate-data [#'first-class-data #'second-class-data]\n",
    "               assoc-family)"
   ]
  },
  {
   "cell_type": "code",
   "execution_count": 50,
   "id": "0aea2b0c-512a-48b0-b9d2-920c22551b25",
   "metadata": {
    "tags": []
   },
   "outputs": [
    {
     "name": "stdout",
     "output_type": "stream",
     "text": [
      "({Hometown St Louis, Missouri, US, Age 29, SibSp 0, Parch 0, Destination St Louis, Sex female, Survived 1, Boarded Southampton, Name Allen, Miss Elizabeth Walton} ({Hometown Montreal, Quebec, Canada, Age 30, SibSp 1, Parch 2, Destination Montreal, Quebec, Canada, Sex male, Survived 0, Boarded Southampton, Name Allison, Mr. Hudson Creighton} {Hometown Montreal, Quebec, Canada, Age 25, SibSp 1, Parch 2, Destination Montreal, Quebec, Canada, Sex female, Survived 1, Boarded Southampton, Name Allison, Mrs. Bessie Waldo (née Daniels)} {Hometown Montreal, Quebec, Canada, Age 2, SibSp 1, Parch 2, Destination Montreal, Quebec, Canada, Sex female, Survived 1, Boarded Southampton, Name Allison, Miss Helen Loraine} {Hometown Montreal, Quebec, Canada, Age 11 mo., SibSp 1, Parch 2, Destination Montreal, Quebec, Canada, Sex male, Survived 1, Boarded Southampton, Name Allison, Master Hudson Trevor}) {Hometown New York City, Age 19, SibSp 0, Parch 0, Destination Montreal, Quebec, Canada, Sex male, Survived 0, Boarded Southampton, Name Mr. George Swane[71]} {Hometown London, England, UK, Age 18, SibSp 0, Parch 0, Destination Montreal, Quebec, Canada, Sex female, Survived 1, Boarded Southampton, Name and cook, Miss Amelia Mary \"Mildred\" Brown[71]} ({Hometown Montreal, Quebec, Canada, Age 30, SibSp 1, Parch 2, Destination Montreal, Quebec, Canada, Sex male, Survived 0, Boarded Southampton, Name Allison, Mr. Hudson Creighton} {Hometown Montreal, Quebec, Canada, Age 25, SibSp 1, Parch 2, Destination Montreal, Quebec, Canada, Sex female, Survived 1, Boarded Southampton, Name Allison, Mrs. Bessie Waldo (née Daniels)} {Hometown Montreal, Quebec, Canada, Age 2, SibSp 1, Parch 2, Destination Montreal, Quebec, Canada, Sex female, Survived 1, Boarded Southampton, Name Allison, Miss Helen Loraine} {Hometown Montreal, Quebec, Canada, Age 11 mo., SibSp 1, Parch 2, Destination Montreal, Quebec, Canada, Sex male, Survived 1, Boarded Southampton, Name Allison, Master Hudson Trevor}))\n"
     ]
    },
    {
     "data": {
      "text/plain": [
       "null"
      ]
     },
     "execution_count": 50,
     "metadata": {},
     "output_type": "execute_result"
    }
   ],
   "source": [
    "(first-class-data\n",
    " (fn [data]\n",
    "     (println (take 5 data))))"
   ]
  },
  {
   "cell_type": "code",
   "execution_count": 48,
   "id": "c0fb7f46-1a28-49f4-b7fb-c334c06f5a87",
   "metadata": {
    "tags": []
   },
   "outputs": [
    {
     "data": {
      "text/plain": [
       "[[{Hometown=Russia, Age=30, SibSp=1, Parch=0, Destination=New York, New York, US, Sex=male, Survived=0, Boarded=Cherbourg, Name=Abelson, Mr. Samuel}, {Hometown=Russia, Age=28, SibSp=1, Parch=0, Destination=New York, New York, US, Sex=female, Survived=1, Boarded=Cherbourg, Name=Abelson, Mrs. Anna (née Wizosky?)}], [{Hometown=Russia, Age=30, SibSp=1, Parch=0, Destination=New York, New York, US, Sex=male, Survived=0, Boarded=Cherbourg, Name=Abelson, Mr. Samuel}, {Hometown=Russia, Age=28, SibSp=1, Parch=0, Destination=New York, New York, US, Sex=female, Survived=1, Boarded=Cherbourg, Name=Abelson, Mrs. Anna (née Wizosky?)}], [{Hometown=Redruth, Cornwall, England, Age=30, SibSp=1, Parch=0, Destination=Houghton, Michigan, US, Sex=male, Survived=0, Boarded=Southampton, Name=Andrew, Mr. Frank Thomas}, {Hometown=San Ambrosio, Córdoba, Argentina, Age=17, SibSp=1, Parch=0, Destination=Trenton, New Jersey, US, Sex=male, Survived=0, Boarded=Southampton, Name=Andrew, Mr. Edgar Samuel}], [{Hometown=Redruth, Cornwall, England, Age=30, SibSp=1, Parch=0, Destination=Houghton, Michigan, US, Sex=male, Survived=0, Boarded=Southampton, Name=Andrew, Mr. Frank Thomas}, {Hometown=San Ambrosio, Córdoba, Argentina, Age=17, SibSp=1, Parch=0, Destination=Trenton, New Jersey, US, Sex=male, Survived=0, Boarded=Southampton, Name=Andrew, Mr. Edgar Samuel}], [{Hometown=Warwick, Warwickshire, England, Age=36, SibSp=1, Parch=0, Destination=New York City, Sex=female, Survived=1, Boarded=Southampton, Name=Angle, Mrs. Florence Agnes \"Mary\" (née Hughes)}, {Hometown=Warwick, Warwickshire, England, Age=32, SibSp=1, Parch=0, Destination=New York City, Sex=male, Survived=0, Boarded=Southampton, Name=Angle, Mr. William A.}]]"
      ]
     },
     "execution_count": 48,
     "metadata": {},
     "output_type": "execute_result"
    }
   ],
   "source": [
    "(second-class-data\n",
    " (fn [data]\n",
    "     (take 5 data)))"
   ]
  },
  {
   "cell_type": "code",
   "execution_count": 51,
   "id": "7a534d80-7628-42bc-9064-2c04184896cf",
   "metadata": {
    "tags": []
   },
   "outputs": [
    {
     "data": {
      "text/plain": [
       "#'beaker_clojure_shell_87f17984-683a-40e1-9c29-ed7da36932d5/chain-fn-appl"
      ]
     },
     "execution_count": 51,
     "metadata": {},
     "output_type": "execute_result"
    }
   ],
   "source": [
    "(defn create-map\n",
    "    [data field1 field2]\n",
    "    (fn [f]\n",
    "        (f (data (fn [dta] (into {} (map vector (field1 dta) (field2 dta))))))))\n",
    "\n",
    "(defn await-fn\n",
    "    [& args]\n",
    "    (fn [FN]\n",
    "        #(% (apply map FN args))))\n",
    "\n",
    "(defn chain-fn-appl\n",
    "    [& [fn1 & fns]]\n",
    "    (if-let [f (first fns)]\n",
    "        (recur (cons (fn1 f) (rest fns)))\n",
    "        fn1))      "
   ]
  },
  {
   "cell_type": "markdown",
   "id": "d3de41d5-863f-4815-b0e1-2c0c8835cbc3",
   "metadata": {},
   "source": [
    "###### Third-class-data\n",
    "\n",
    "Basically we are going to join the Hometown and Home country entries into a Hometown one, then we will apply all transformations that we applied to the other <br>\n",
    "data. we'll just have to then be concerned simply about including the third class data in the vector passed to show replacement."
   ]
  },
  {
   "cell_type": "code",
   "execution_count": 52,
   "id": "247aae55-2f1f-401d-af14-b7b030e2a3e6",
   "metadata": {
    "tags": []
   },
   "outputs": [
    {
     "data": {
      "text/plain": [
       "beaker_clojure_shell_87f17984_683a_40e1_9c29_ed7da36932d5$return_fn$fn__163@1cf9fed9"
      ]
     },
     "execution_count": 52,
     "metadata": {},
     "output_type": "execute_result"
    }
   ],
   "source": [
    "(alter-var-root #'third-class-data\n",
    "                (fn [FN]\n",
    "                    (let [data (FN identity)]\n",
    "                        (chain-fn-appl\n",
    "                         (return-fn (map #(assoc % \"Hometown\" (str (get % \"Hometown\") \", \" (get % \"Home country\"))) data))\n",
    "                         (fn [data] (return-fn (map #(dissoc % \"Home country\") data)))))))"
   ]
  },
  {
   "cell_type": "code",
   "execution_count": 53,
   "id": "7901fe9b-666a-4b14-8045-e7bbdf2ac6cf",
   "metadata": {
    "tags": []
   },
   "outputs": [
    {
     "data": {
      "application/vnd.jupyter.widget-view+json": {
       "model_id": "e51404a3-238f-4d23-bebb-077a0a8309e2",
       "version_major": 2,
       "version_minor": 0
      },
      "method": "display_data"
     },
     "metadata": {},
     "output_type": "display_data"
    }
   ],
   "source": [
    "(third-class-data\n",
    " (fn [data]\n",
    "     (take 10 data)))"
   ]
  },
  {
   "cell_type": "markdown",
   "id": "201c19bf-1cec-469f-be45-024d632ea0b5",
   "metadata": {},
   "source": [
    "Now the transformations"
   ]
  },
  {
   "cell_type": "code",
   "execution_count": 54,
   "id": "79dc38fc-5e50-4716-a5bb-c144c7681ace",
   "metadata": {
    "tags": []
   },
   "outputs": [
    {
     "data": {
      "text/plain": [
       "beaker_clojure_shell_87f17984_683a_40e1_9c29_ed7da36932d5$iterate_and_change$fn__417$fn__418$fn__419@74ec2fa4"
      ]
     },
     "execution_count": 54,
     "metadata": {},
     "output_type": "execute_result"
    }
   ],
   "source": [
    "(defn replace-k-times\n",
    "    [VAR]\n",
    "    (fn [ks]\n",
    "        (replace-in-k-with (vec (repeat (count ks) VAR)) ks)))\n",
    "\n",
    "(do ((replace-k-times #'third-class-data) [\"Destination\" \"Boarded\" \"Hometown\"])\n",
    "    (iterate-and-change #'third-class-data survived?))"
   ]
  },
  {
   "cell_type": "code",
   "execution_count": 55,
   "id": "a01dff65-3239-45e2-852e-b6eac9aae55f",
   "metadata": {
    "tags": []
   },
   "outputs": [
    {
     "data": {
      "application/vnd.jupyter.widget-view+json": {
       "model_id": "9e864cc4-7fc8-42c5-bd47-2a220ab171c9",
       "version_major": 2,
       "version_minor": 0
      },
      "method": "display_data"
     },
     "metadata": {},
     "output_type": "display_data"
    }
   ],
   "source": [
    "(third-class-data #(take 10 %))"
   ]
  },
  {
   "cell_type": "markdown",
   "id": "6c17b7ee-db07-44e2-98d4-234b403e513c",
   "metadata": {
    "tags": []
   },
   "source": [
    "The 'age' key is different from the 'Age' key from the other 2 datasets, we are going to change that."
   ]
  },
  {
   "cell_type": "code",
   "execution_count": 56,
   "id": "a976fb17-bc35-4839-9ad9-d9b0cfeb0cf1",
   "metadata": {
    "tags": []
   },
   "outputs": [
    {
     "data": {
      "text/plain": [
       "beaker_clojure_shell_87f17984_683a_40e1_9c29_ed7da36932d5$eval735$fn__736$fn__741@280f25a4"
      ]
     },
     "execution_count": 56,
     "metadata": {},
     "output_type": "execute_result"
    }
   ],
   "source": [
    "(alter-var-root #'third-class-data\n",
    "                (fn [FN]\n",
    "                    (let [data (FN (fn [data]\n",
    "                                       (map #(dissoc (assoc % \"Age\" (get % \"age\")) \"age\") data)))]\n",
    "                        #(% data))))"
   ]
  },
  {
   "cell_type": "code",
   "execution_count": 57,
   "id": "a966a20f-f64c-4069-ba73-92f64f07627a",
   "metadata": {
    "tags": []
   },
   "outputs": [
    {
     "data": {
      "text/plain": [
       "[40, 39, 16, 14, 18, 16, 25, 20, 18, 30, 26, 40, 21, 10 mo., 26, 23, 19, 24, 25, 35, 15, 22, 33, 19, 39, 39, 11, 9, 6, 4, 2, 17, 38, 26, 20, 26, 25, 18, 24, 35, 40, 38, 13, 9, 5, 5, 3, 23, 45, 23, 30, 17, 23, 15, 20, 32, 33, 18, 40, 26, 31, 24, 5, 4, 9 mo., 45, 18, 26, 22, 18, 26, 22, 20, 21, 18, 26, 42, 32, 40, 20, 22, 20, 29, 22, 22, 35, 21, 22, 40, 9, 7, 19, 17, 24, 4, 2, 18, 38, 30, 21, 17, 17, 22, 21, 21, 28, 18, 24, 24, 47, 28, 24, 32, 28, 32, 29, 26, 18, 20, 18, 24, 24, 36, 31, 31, 35, 22, 61, 43, 35, 27, 19, 30, 16, 36, 9, 3, 59, 19, 44, 16, 17, 28, 45, 22, 19, 30, 29, 34, 28, 4 mo., 27, 25, 22, 24, 21, 17, 32, 34, 36, 36, 36, 16, 25, 32, 1, 2 mo., 25, 30, 26, 22, 19, 17, 42, 43, 21, 43, 18, 22, 31, 24, 33, 24, 19, 65, 23, 22, 18, 16, 45, 29, 15, 17, 47, 6, 37, 39, 38, 25, 34, 18, 22, 28, 42, 19, 20, 22, 48, 20, 18, 16, 7, 28, 29, 21, 21, –, 22, 17, 19, 33, 31, 9, 41, 42, 43, 16, 14, 13, 12, 10, 1, 40, 32, 32, 19, 37, 28, 19, 24, 28, 19, 28, 24, 19, 27, 18, 35, 41, 45, 26, 21, 17, 21, 27, 29, 27, 18, 26, 23, 22, 28, 28, 23, 22, 2, 43, 28, 27, 22, 27, 42, 11, 34, 27, 25, 20, 16, 19, 29, 21, 21, 20, 48, 17, 26, 22, 29, 34, 22, 33, 31, 29, 26, 49, 26, 4, 1, 33, 19, 35, 34, 8, 7, 23, 32, 27, 32, 20, 21, 17, 21, 30, 21, 33, 22, 39, 4, 19, 23, 39, 19, 44, 20, 22, 24, 25, 20, 24, 22, 22, 29, 26, 4, 22, 26, 36, 18, 1, –, 25, 26, 30, 37, 23, 37, 23, 22, 16, 26, 29, 29, 22, 32, 28, 40, 12, 8, 5, 3, 32, 20, 18, 36, 39, 24, 25, 45, 36, 30, 20, 21, 24, 27, 25, 30, 26, 21, 20, 29, 51, 32, 30, 44, 20, 21, 24, 22, 20, 34, 29, 20, 32, 28, 25, 23, 35, 33, 30, 24, 19, 29, 26, 24, 31, 19, 22, 17, 42, 20, 27, 19, 27, 63, 22, 31, 34, 48, 26, 21, 28, 23, 24, 21, 23, 23, 25, 29, 7, 19, 28, 27, 34, 30, 29, 35, 28, 24, 7, 4, 19, 25, 22, 18, 25, 34, 22, 18, 20, 19, 1, 22, 17, 33, 32, 20, 20, 21, 22, 29, 28, 21, 18, 26, 14, 12, 41, 39, 20, 21, 22, 61, 27, 26, 21, 17, 16, 23, 24, 25, 22, 16, 21, 23, 22, 28, 42, 9, 27, 31, 28, 32, 20, 23, 20, 20, 16, 29, 8, 6, 3, 2, 41, 16, 15, 7, 2, 1, 21, 19, 32, 26, 4, 7 mo., 32, 28, 24, 21, 25, 22, 25, 26, 28, 19, 29, 18, 25, 32, 27, 17, 24, 16, 27, 62, 30, 19, 38, 21, 39, 10, 8, 7, 4, 2, 22, 35, 18, 69, 58, 50, 47, 29, 49, 41, 18, 2, 26, 50, 16, 24, 29, 43, 30, 25, 20, 17, 44, 44, 20, 19, 18, 16, 14, 13, 10, 7, 4, 24, 21, 39, 10, 40, 17, 16, 24, 4, 1, 21, 19, 33, 22, 29, 42, 24, 33, 19, 55, 25, 20, 22, 39, 22, 20, 40, 21, 18, 40, 43, 11, 9, 5, 2, 42, 20, 37, 26, 17, 19, 30, 23, 32, 23, 33, 24, 21, 51, 19, 22, 31, 27, 29, 2, 20, 44, 25, 74, 14, 24, 25, 34, 31, 16, 5 mo., 34, 16, 36, 36, 32, 32, 20, 23, 22, 44, 20, 25, 27, 9, 8, 36, 18, 63, 35, 10, 9, 35, 28, 36, 30, 10, 23, 46, 31, 31, 18, 15, 28, 22, 29, 14, 21, 22, 34, 30, 25, 66, 27, 51, 18, 21, 47, 37, 18, 28, 28, 21, 27, 54, 36, 27, 15, 32, 26, 45, 15, 27, 22, 29]"
      ]
     },
     "execution_count": 57,
     "metadata": {},
     "output_type": "execute_result"
    }
   ],
   "source": [
    "(third-class-data (fn [data] (map #(get % \"Age\") data)))"
   ]
  },
  {
   "cell_type": "code",
   "execution_count": 58,
   "id": "ef2013c0-3eb6-4039-94e5-dc833de7bb6d",
   "metadata": {
    "tags": []
   },
   "outputs": [
    {
     "data": {
      "text/plain": [
       "[40, 39, 16, 14, 18, 16, 25, 20, 18, 30, 26, 40, 21, 10, 26, 23, 19, 24, 25, 35, 15, 22, 33, 19, 39, 39, 11, 9, 6, 4, 2, 17, 38, 26, 20, 26, 25, 18, 24, 35, 40, 38, 13, 9, 5, 5, 3, 23, 45, 23, 30, 17, 23, 15, 20, 32, 33, 18, 40, 26, 31, 24, 5, 4, 9, 45, 18, 26, 22, 18, 26, 22, 20, 21, 18, 26, 42, 32, 40, 20, 22, 20, 29, 22, 22, 35, 21, 22, 40, 9, 7, 19, 17, 24, 4, 2, 18, 38, 30, 21, 17, 17, 22, 21, 21, 28, 18, 24, 24, 47, 28, 24, 32, 28, 32, 29, 26, 18, 20, 18, 24, 24, 36, 31, 31, 35, 22, 61, 43, 35, 27, 19, 30, 16, 36, 9, 3, 59, 19, 44, 16, 17, 28, 45, 22, 19, 30, 29, 34, 28, 4, 27, 25, 22, 24, 21, 17, 32, 34, 36, 36, 36, 16, 25, 32, 1, 2, 25, 30, 26, 22, 19, 17, 42, 43, 21, 43, 18, 22, 31, 24, 33, 24, 19, 65, 23, 22, 18, 16, 45, 29, 15, 17, 47, 6, 37, 39, 38, 25, 34, 18, 22, 28, 42, 19, 20, 22, 48, 20, 18, 16, 7, 28, 29, 21, 21, {name=–, namespace=null}, 22, 17, 19, 33, 31, 9, 41, 42, 43, 16, 14, 13, 12, 10, 1, 40, 32, 32, 19, 37, 28, 19, 24, 28, 19, 28, 24, 19, 27, 18, 35, 41, 45, 26, 21, 17, 21, 27, 29, 27, 18, 26, 23, 22, 28, 28, 23, 22, 2, 43, 28, 27, 22, 27, 42, 11, 34, 27, 25, 20, 16, 19, 29, 21, 21, 20, 48, 17, 26, 22, 29, 34, 22, 33, 31, 29, 26, 49, 26, 4, 1, 33, 19, 35, 34, 8, 7, 23, 32, 27, 32, 20, 21, 17, 21, 30, 21, 33, 22, 39, 4, 19, 23, 39, 19, 44, 20, 22, 24, 25, 20, 24, 22, 22, 29, 26, 4, 22, 26, 36, 18, 1, {name=–, namespace=null}, 25, 26, 30, 37, 23, 37, 23, 22, 16, 26, 29, 29, 22, 32, 28, 40, 12, 8, 5, 3, 32, 20, 18, 36, 39, 24, 25, 45, 36, 30, 20, 21, 24, 27, 25, 30, 26, 21, 20, 29, 51, 32, 30, 44, 20, 21, 24, 22, 20, 34, 29, 20, 32, 28, 25, 23, 35, 33, 30, 24, 19, 29, 26, 24, 31, 19, 22, 17, 42, 20, 27, 19, 27, 63, 22, 31, 34, 48, 26, 21, 28, 23, 24, 21, 23, 23, 25, 29, 7, 19, 28, 27, 34, 30, 29, 35, 28, 24, 7, 4, 19, 25, 22, 18, 25, 34, 22, 18, 20, 19, 1, 22, 17, 33, 32, 20, 20, 21, 22, 29, 28, 21, 18, 26, 14, 12, 41, 39, 20, 21, 22, 61, 27, 26, 21, 17, 16, 23, 24, 25, 22, 16, 21, 23, 22, 28, 42, 9, 27, 31, 28, 32, 20, 23, 20, 20, 16, 29, 8, 6, 3, 2, 41, 16, 15, 7, 2, 1, 21, 19, 32, 26, 4, 7, 32, 28, 24, 21, 25, 22, 25, 26, 28, 19, 29, 18, 25, 32, 27, 17, 24, 16, 27, 62, 30, 19, 38, 21, 39, 10, 8, 7, 4, 2, 22, 35, 18, 69, 58, 50, 47, 29, 49, 41, 18, 2, 26, 50, 16, 24, 29, 43, 30, 25, 20, 17, 44, 44, 20, 19, 18, 16, 14, 13, 10, 7, 4, 24, 21, 39, 10, 40, 17, 16, 24, 4, 1, 21, 19, 33, 22, 29, 42, 24, 33, 19, 55, 25, 20, 22, 39, 22, 20, 40, 21, 18, 40, 43, 11, 9, 5, 2, 42, 20, 37, 26, 17, 19, 30, 23, 32, 23, 33, 24, 21, 51, 19, 22, 31, 27, 29, 2, 20, 44, 25, 74, 14, 24, 25, 34, 31, 16, 5, 34, 16, 36, 36, 32, 32, 20, 23, 22, 44, 20, 25, 27, 9, 8, 36, 18, 63, 35, 10, 9, 35, 28, 36, 30, 10, 23, 46, 31, 31, 18, 15, 28, 22, 29, 14, 21, 22, 34, 30, 25, 66, 27, 51, 18, 21, 47, 37, 18, 28, 28, 21, 27, 54, 36, 27, 15, 32, 26, 45, 15, 27, 22, 29]"
      ]
     },
     "execution_count": 58,
     "metadata": {},
     "output_type": "execute_result"
    }
   ],
   "source": [
    "(third-class-data\n",
    " (fn [data]\n",
    "     (map #(read-string (get % \"Age\")) data)))"
   ]
  },
  {
   "cell_type": "markdown",
   "id": "56ecb6e2-0867-41f3-968a-57353a126539",
   "metadata": {},
   "source": [
    "We can see we have 2 symbols that shouldn't be there so we are going to retrieve their indexes and to which rows they correspond."
   ]
  },
  {
   "cell_type": "code",
   "execution_count": 59,
   "id": "6ca8aebe-1f7d-43d7-bd43-8991f547bf44",
   "metadata": {
    "tags": []
   },
   "outputs": [
    {
     "data": {
      "text/plain": [
       "[216, 339]"
      ]
     },
     "execution_count": 59,
     "metadata": {},
     "output_type": "execute_result"
    }
   ],
   "source": [
    "(third-class-data\n",
    " (fn [data]\n",
    "     (let [ages (mapv #(read-string (get % \"Age\")) data)]\n",
    "         (reduce (fn [idxs i] (if (symbol? (ages i)) (conj idxs i) idxs))\n",
    "                 []\n",
    "                 (range (count ages))))))"
   ]
  },
  {
   "cell_type": "markdown",
   "id": "6523f604-ffdd-494e-b372-1d227f6324c5",
   "metadata": {},
   "source": [
    "We retrieve the rows"
   ]
  },
  {
   "cell_type": "code",
   "execution_count": 60,
   "id": "e044e44d-f74b-4287-bf2d-6ca86a8181a4",
   "metadata": {
    "tags": []
   },
   "outputs": [
    {
     "data": {
      "application/vnd.jupyter.widget-view+json": {
       "model_id": "f4d81847-150d-4e7f-878a-4f949ab35e19",
       "version_major": 2,
       "version_minor": 0
      },
      "method": "display_data"
     },
     "metadata": {},
     "output_type": "display_data"
    }
   ],
   "source": [
    "(third-class-data\n",
    " (fn [data]\n",
    "     (map #(nth data %) [216 339])))"
   ]
  },
  {
   "cell_type": "markdown",
   "id": "6d71c29a-4050-419e-9905-17d56ba92e9b",
   "metadata": {},
   "source": [
    "Sort all ages of all passengers that boarded in Cherbourg."
   ]
  },
  {
   "cell_type": "code",
   "execution_count": 61,
   "id": "c7196501-d739-4639-b2a1-2e78b080e560",
   "metadata": {
    "tags": []
   },
   "outputs": [
    {
     "data": {
      "text/plain": [
       "[45, 45, 45, 40, 40, 40, 38, 37, 35, 35, 34, 33, 33, 33, 33, 31, 30, 30, 30, 30, 30, 29, 29, 28, 28, 27, 27, 27, 27, 26, 26, 26, 25, 25, 25, 25, 25, 25, 24, 24, 24, 22, 22, 22, 22, 22, 22, 21, 20, 20, 20, 20, 20, 20, 20, 20, 20, 19, 19, 19, 19, 18, 18, 18, 18, 18, 18, 17, 17, 17, 17, 16, 16, 16, 16, 16, 15, 15, 15, 15, 14, 12, 11, 10, 9, 9, 9, 8, 7, 7, 5, 5, 4, 4, 4, 2, 1]"
      ]
     },
     "execution_count": 61,
     "metadata": {},
     "output_type": "execute_result"
    }
   ],
   "source": [
    "(third-class-data\n",
    " (fn [data]\n",
    "     (let [cherbourg (filter #(.contains (get % \"Boarded\") \"Cherbourg\") data)]\n",
    "         (sort-by-dec identity\n",
    "                      (remove symbol? (map #(read-string (get % \"Age\")) cherbourg))))))"
   ]
  },
  {
   "cell_type": "code",
   "execution_count": 62,
   "id": "beaea048-d417-423c-bf17-ff0cbd8990fe",
   "metadata": {
    "tags": []
   },
   "outputs": [
    {
     "data": {
      "text/plain": [
       "#'beaker_clojure_shell_87f17984-683a-40e1-9c29-ed7da36932d5/rand-long"
      ]
     },
     "execution_count": 62,
     "metadata": {},
     "output_type": "execute_result"
    }
   ],
   "source": [
    "(defn rand-long\n",
    "    ([n]\n",
    "     (long (rand n)))\n",
    "    ([start end]\n",
    "     (let [number (rand-long end)]\n",
    "         (if (< number start)\n",
    "             (recur start end)\n",
    "             number))))"
   ]
  },
  {
   "cell_type": "code",
   "execution_count": 63,
   "id": "b4910eff-fce3-4488-8438-3dcb74d35346",
   "metadata": {
    "tags": []
   },
   "outputs": [
    {
     "data": {
      "text/plain": [
       "65"
      ]
     },
     "execution_count": 63,
     "metadata": {},
     "output_type": "execute_result"
    }
   ],
   "source": [
    "(rand-long 20 68)"
   ]
  },
  {
   "cell_type": "markdown",
   "id": "f939fc9b-86f9-4b65-acb0-f41b1c2f3e02",
   "metadata": {},
   "source": [
    "'rand-long' is going to be used to return a random long between the lowest and highest age that the passengers that boarded on Cherbourg had."
   ]
  },
  {
   "cell_type": "code",
   "execution_count": 64,
   "id": "2ce59a51-8fce-4aee-a26b-1beea96fb097",
   "metadata": {
    "tags": []
   },
   "outputs": [
    {
     "data": {
      "text/plain": [
       "beaker_clojure_shell_87f17984_683a_40e1_9c29_ed7da36932d5$return_fn$fn__163@5b1e390e"
      ]
     },
     "execution_count": 64,
     "metadata": {},
     "output_type": "execute_result"
    }
   ],
   "source": [
    "(alter-var-root #'third-class-data\n",
    "                (fn [FN]\n",
    "                    (let [data #(FN (fn [data] (map % data)))]\n",
    "                        (return-fn\n",
    "                         (data (fn [m]\n",
    "                                   (let [age (read-string (get m \"Age\"))]\n",
    "                                       (if (symbol? age)\n",
    "                                           (assoc m \"Age\" (str (rand-long 0 45)))\n",
    "                                           m))))))))"
   ]
  },
  {
   "cell_type": "code",
   "execution_count": 65,
   "id": "2f33c177-2915-4ee1-b275-e6bf4669b7d8",
   "metadata": {
    "tags": []
   },
   "outputs": [
    {
     "data": {
      "application/vnd.jupyter.widget-view+json": {
       "model_id": "cf948f2a-a209-4072-8acf-30f05bb5604b",
       "version_major": 2,
       "version_minor": 0
      },
      "method": "display_data"
     },
     "metadata": {},
     "output_type": "display_data"
    }
   ],
   "source": [
    "(third-class-data\n",
    " (fn [data]\n",
    "     (map #(nth data %) [216 339])))"
   ]
  },
  {
   "cell_type": "markdown",
   "id": "9e065c86-97f9-4beb-9584-40fea78e6f40",
   "metadata": {},
   "source": [
    "We add the sex"
   ]
  },
  {
   "cell_type": "code",
   "execution_count": 66,
   "id": "063e2d45-fab5-42b1-876d-631f33bc7aa6",
   "metadata": {
    "tags": []
   },
   "outputs": [
    {
     "data": {
      "text/plain": [
       "null"
      ]
     },
     "execution_count": 66,
     "metadata": {},
     "output_type": "execute_result"
    }
   ],
   "source": [
    "(alterate [#'third-class-data]\n",
    "          add-sex)"
   ]
  },
  {
   "cell_type": "markdown",
   "id": "61bff440-502a-4a4f-91f1-efb5872f8294",
   "metadata": {},
   "source": [
    "We add the **Survived** column"
   ]
  },
  {
   "cell_type": "code",
   "execution_count": 67,
   "id": "5f10e870-d47b-4f99-b6c6-83dc2f085bfe",
   "metadata": {
    "tags": []
   },
   "outputs": [
    {
     "data": {
      "text/plain": [
       "null"
      ]
     },
     "execution_count": 67,
     "metadata": {},
     "output_type": "execute_result"
    }
   ],
   "source": [
    "(alterate [#'third-class-data]\n",
    "          assoc-survived)"
   ]
  },
  {
   "cell_type": "code",
   "execution_count": 68,
   "id": "526152da-0d04-4dfa-b49f-4c3e68c28ce9",
   "metadata": {
    "tags": []
   },
   "outputs": [
    {
     "data": {
      "application/vnd.jupyter.widget-view+json": {
       "model_id": "d037050a-8e63-4afa-997a-bcae3a9703e0",
       "version_major": 2,
       "version_minor": 0
      },
      "method": "display_data"
     },
     "metadata": {},
     "output_type": "display_data"
    }
   ],
   "source": [
    "(third-class-data\n",
    " (fn [data]\n",
    "     (take 10 data)))"
   ]
  },
  {
   "cell_type": "markdown",
   "id": "71ecdf54-e83b-4162-bef3-b8be940061c8",
   "metadata": {},
   "source": [
    "Add the **Sibsp** and **Parch** column"
   ]
  },
  {
   "cell_type": "code",
   "execution_count": 69,
   "id": "ba32f7b2-0b16-4c01-ba8e-71361746c4a6",
   "metadata": {
    "tags": []
   },
   "outputs": [
    {
     "data": {
      "text/plain": [
       "null"
      ]
     },
     "execution_count": 69,
     "metadata": {},
     "output_type": "execute_result"
    }
   ],
   "source": [
    "(alterate-data [#'third-class-data]\n",
    "               assoc-family)"
   ]
  },
  {
   "cell_type": "code",
   "execution_count": 71,
   "id": "bcdfd920-8620-415b-af09-35df0fdefe87",
   "metadata": {
    "tags": []
   },
   "outputs": [
    {
     "name": "stdout",
     "output_type": "stream",
     "text": [
      "({Hometown Cincinnati, Ohio, US, Age 40, SibSp 0, Parch 0, Destination Cincinnati, Ohio, US, Sex male, Survived 0, Boarded Southampton, Name Abbing, Mr. Anthony} ({Hometown East Providence, Rhode Island, US, Age 39, SibSp 0, Parch 1, Destination East Providence, Rhode Island, US, Sex female, Survived 1, Boarded Southampton, Name Abbott, Mrs. Rhoda Mary (née Hunt)} {Hometown East Providence, Rhode Island, US, Age 14, SibSp 1, Parch 1, Destination East Providence, Rhode Island, US, Sex male, Survived 0, Boarded Southampton, Name Abbott, Mr. Eugene Joseph}) ({Hometown East Providence, Rhode Island, US, Age 39, SibSp 0, Parch 1, Destination East Providence, Rhode Island, US, Sex female, Survived 1, Boarded Southampton, Name Abbott, Mrs. Rhoda Mary (née Hunt)} {Hometown East Providence, Rhode Island, US, Age 14, SibSp 1, Parch 1, Destination East Providence, Rhode Island, US, Sex male, Survived 0, Boarded Southampton, Name Abbott, Mr. Eugene Joseph}) ({Hometown East Providence, Rhode Island, US, Age 39, SibSp 0, Parch 1, Destination East Providence, Rhode Island, US, Sex female, Survived 1, Boarded Southampton, Name Abbott, Mrs. Rhoda Mary (née Hunt)} {Hometown East Providence, Rhode Island, US, Age 14, SibSp 1, Parch 1, Destination East Providence, Rhode Island, US, Sex male, Survived 0, Boarded Southampton, Name Abbott, Mr. Eugene Joseph}) {Hometown Shana, Syria, Age 18, SibSp 0, Parch 0, Destination New York City, Sex male, Survived 0, Boarded Cherbourg, Name Abd al-Khaliq, Mr. Farid Qasim Husayn} ({Hometown Perkins County, South Dakota, US, Age 25, SibSp 1, Parch 0, Destination Perkins County, South Dakota, US, Sex male, Survived 1, Boarded Southampton, Name Abelseth, Mr. Olaus Jørgensen} {Hometown Sunnmøre, Norway, Age 16, SibSp 1, Parch 0, Destination Los Angeles, California, US, Sex female, Survived 1, Boarded Southampton, Name Abelseth, Miss Karen Marie}) ({Hometown Perkins County, South Dakota, US, Age 25, SibSp 1, Parch 0, Destination Perkins County, South Dakota, US, Sex male, Survived 1, Boarded Southampton, Name Abelseth, Mr. Olaus Jørgensen} {Hometown Sunnmøre, Norway, Age 16, SibSp 1, Parch 0, Destination Los Angeles, California, US, Sex female, Survived 1, Boarded Southampton, Name Abelseth, Miss Karen Marie}) {Hometown Dalsbruk, Finland, Age 20, SibSp 0, Parch 0, Destination Hoboken, New Jersey, US, Sex male, Survived 1, Boarded Southampton, Name Abrahamsson, Mr. Abraham August Johannes} {Hometown Shwayhad, Syria, Age 18, SibSp 0, Parch 0, Destination Greensburg, Pennsylvania, US, Sex female, Survived 1, Boarded Cherbourg, Name Abrahim, Mrs. Mary Sophie Halaut (née Easu)} {Hometown Asarum, Småland, Sweden, Age 30, SibSp 0, Parch 0, Destination Brooklyn, New York, US, Sex male, Survived 0, Boarded Southampton, Name Ådahl, Mr. Mauritz})\n"
     ]
    },
    {
     "data": {
      "text/plain": [
       "null"
      ]
     },
     "execution_count": 71,
     "metadata": {},
     "output_type": "execute_result"
    }
   ],
   "source": [
    "(third-class-data\n",
    " (fn [data]\n",
    "     (println (take 10 data))))"
   ]
  },
  {
   "cell_type": "code",
   "execution_count": 72,
   "id": "7b9000ef-3d9c-4e3b-93d9-1656be91bfab",
   "metadata": {
    "tags": []
   },
   "outputs": [
    {
     "data": {
      "application/vnd.jupyter.widget-view+json": {
       "model_id": "e045ec00-a15a-4e2a-90b3-9ade8fbaccf4",
       "version_major": 2,
       "version_minor": 0
      },
      "method": "display_data"
     },
     "metadata": {},
     "output_type": "display_data"
    }
   ],
   "source": [
    "(titanic-data #(take 1 %))"
   ]
  },
  {
   "cell_type": "markdown",
   "id": "8a6daa3d-8d6d-4223-9ebe-2b3a4cb6b77f",
   "metadata": {},
   "source": [
    "**first-class-data** = **Pclass 1**\n",
    "\n",
    "**second-class-data** = **Pclass 2**\n",
    "\n",
    "**third-class-data** = **Pclass 3**"
   ]
  },
  {
   "cell_type": "code",
   "execution_count": 73,
   "id": "7abe5fa2-9583-49d6-9634-d46ea041bc99",
   "metadata": {
    "tags": []
   },
   "outputs": [
    {
     "data": {
      "text/plain": [
       "#'beaker_clojure_shell_87f17984-683a-40e1-9c29-ed7da36932d5/only-maps"
      ]
     },
     "execution_count": 73,
     "metadata": {},
     "output_type": "execute_result"
    }
   ],
   "source": [
    "(defn only-maps\n",
    "    [[m & ms]]\n",
    "    (lazy-seq\n",
    "     (when m\n",
    "         (if (map? m)\n",
    "             (cons m (only-maps ms))\n",
    "             (concat (only-maps m) (only-maps ms))))))"
   ]
  },
  {
   "cell_type": "code",
   "execution_count": 74,
   "id": "9007eeab-7ff8-40e4-8267-a852e9171026",
   "metadata": {
    "tags": []
   },
   "outputs": [
    {
     "data": {
      "text/plain": [
       "beaker_clojure_shell_87f17984_683a_40e1_9c29_ed7da36932d5$return_fn$fn__163@1f6a5cb1"
      ]
     },
     "execution_count": 74,
     "metadata": {},
     "output_type": "execute_result"
    }
   ],
   "source": [
    "(alter-var-root #'first-class-data #(return-fn (% only-maps)))\n",
    "\n",
    "(alter-var-root #'second-class-data #(return-fn (% only-maps))) ;; We need to do this since right now we have a lazy-seq of lazy-seq of maps\n",
    "                                                                 ; where each lazy-seq is a family or a single passenger\n",
    "(alter-var-root #'third-class-data #(return-fn (% only-maps)))"
   ]
  },
  {
   "cell_type": "code",
   "execution_count": 75,
   "id": "0b30eb45-a034-41a9-ae9a-a40ebaa53e4f",
   "metadata": {
    "tags": []
   },
   "outputs": [
    {
     "data": {
      "text/plain": [
       "beaker_clojure_shell_87f17984_683a_40e1_9c29_ed7da36932d5$return_fn$fn__163@e7dd9cb"
      ]
     },
     "execution_count": 75,
     "metadata": {},
     "output_type": "execute_result"
    }
   ],
   "source": [
    "(do\n",
    "    (alter-var-root #'first-class-data (fn [FN] (return-fn (FN (fn [dta] (map #(assoc % \"Pclass\" \"1\") dta))))))\n",
    "    \n",
    "    (alter-var-root #'second-class-data (fn [FN] (return-fn (FN (fn [dta] (map #(assoc % \"Pclass\" \"2\") dta))))))\n",
    "    \n",
    "    (alter-var-root #'third-class-data (fn [FN] (return-fn (FN (fn [dta] (map #(assoc % \"Pclass\" \"3\") dta)))))))"
   ]
  },
  {
   "cell_type": "code",
   "execution_count": 76,
   "id": "f627454f-1922-421e-8134-0a92aa1d994e",
   "metadata": {
    "tags": []
   },
   "outputs": [
    {
     "data": {
      "application/vnd.jupyter.widget-view+json": {
       "model_id": "9c52cbb1-4133-4688-80ed-4427e48c080a",
       "version_major": 2,
       "version_minor": 0
      },
      "method": "display_data"
     },
     "metadata": {},
     "output_type": "display_data"
    }
   ],
   "source": [
    "(first-class-data #(take 3 %))"
   ]
  },
  {
   "cell_type": "code",
   "execution_count": 77,
   "id": "92c41980-f4b0-4337-afb0-25c5193adf68",
   "metadata": {
    "tags": []
   },
   "outputs": [
    {
     "data": {
      "application/vnd.jupyter.widget-view+json": {
       "model_id": "1246b653-67ef-4ad8-88d1-2a0306cbb00f",
       "version_major": 2,
       "version_minor": 0
      },
      "method": "display_data"
     },
     "metadata": {},
     "output_type": "display_data"
    }
   ],
   "source": [
    "(second-class-data #(take 3 %))"
   ]
  },
  {
   "cell_type": "code",
   "execution_count": 78,
   "id": "d022bab5-85f5-42ee-8cc6-8a4e10d2ffa4",
   "metadata": {
    "tags": []
   },
   "outputs": [
    {
     "data": {
      "application/vnd.jupyter.widget-view+json": {
       "model_id": "8ddb22ad-cabc-4336-9e92-a23daf769c1f",
       "version_major": 2,
       "version_minor": 0
      },
      "method": "display_data"
     },
     "metadata": {},
     "output_type": "display_data"
    }
   ],
   "source": [
    "(third-class-data #(take 3 %))"
   ]
  },
  {
   "cell_type": "code",
   "execution_count": 79,
   "id": "c680737e-2308-4827-b6d1-48c0d953b3a3",
   "metadata": {
    "tags": []
   },
   "outputs": [
    {
     "data": {
      "text/plain": [
       "beaker_clojure_shell_87f17984_683a_40e1_9c29_ed7da36932d5$return_fn$fn__163@6200c25c"
      ]
     },
     "execution_count": 79,
     "metadata": {},
     "output_type": "execute_result"
    }
   ],
   "source": [
    "(do (alter-var-root #'first-class-data #(return-fn (% distinct)))\n",
    "    (alter-var-root #'second-class-data #(return-fn (% distinct))) ;; Remove repeated rows\n",
    "    (alter-var-root #'third-class-data #(return-fn (% distinct))))"
   ]
  },
  {
   "cell_type": "code",
   "execution_count": 80,
   "id": "cfeb6ea3-de19-495b-a023-baf134a39773",
   "metadata": {
    "tags": []
   },
   "outputs": [
    {
     "data": {
      "application/vnd.jupyter.widget-view+json": {
       "model_id": "f3b807d0-cc58-4f90-9d59-682b0d482c0c",
       "version_major": 2,
       "version_minor": 0
      },
      "method": "display_data"
     },
     "metadata": {},
     "output_type": "display_data"
    }
   ],
   "source": [
    "(second-class-data #(take 3 %))"
   ]
  },
  {
   "cell_type": "code",
   "execution_count": 81,
   "id": "b0939253-ddf8-48e4-8d2a-25ed4ece5981",
   "metadata": {
    "tags": []
   },
   "outputs": [
    {
     "data": {
      "text/plain": [
       "beaker_clojure_shell_87f17984_683a_40e1_9c29_ed7da36932d5$return_fn$fn__163@676b20b7"
      ]
     },
     "execution_count": 81,
     "metadata": {},
     "output_type": "execute_result"
    }
   ],
   "source": [
    "(alter-var-root #'titanic-data (fn [FN] (return-fn (FN (fn [dta] (map #(dissoc* % [\"Fare\" \"Ticket\"]) dta))))))"
   ]
  },
  {
   "cell_type": "code",
   "execution_count": 82,
   "id": "f42a1781-c052-4de1-bbf3-547ca0744072",
   "metadata": {
    "tags": []
   },
   "outputs": [
    {
     "data": {
      "application/vnd.jupyter.widget-view+json": {
       "model_id": "7dc572f1-db51-4a98-9d03-d87e41d706d7",
       "version_major": 2,
       "version_minor": 0
      },
      "method": "display_data"
     },
     "metadata": {},
     "output_type": "display_data"
    }
   ],
   "source": [
    "(titanic-data #(take 5 %))"
   ]
  },
  {
   "cell_type": "markdown",
   "id": "de14a6ec-9f80-4d58-aded-4f3d86343579",
   "metadata": {},
   "source": [
    "Replacing the **Boarded** key to **Embarked**."
   ]
  },
  {
   "cell_type": "code",
   "execution_count": 83,
   "id": "9d37a5eb-0c22-4c7d-b4a2-35e6fb2023e3",
   "metadata": {
    "tags": []
   },
   "outputs": [
    {
     "data": {
      "text/plain": [
       "null"
      ]
     },
     "execution_count": 83,
     "metadata": {},
     "output_type": "execute_result"
    }
   ],
   "source": [
    "(def Boarded->Embarked (fn [m] (zipmap (map #(if (= % \"Boarded\") \"Embarked\" %) (keys m)) (vals m))))\n",
    "\n",
    "(alterate [#'first-class-data #'second-class-data #'third-class-data]\n",
    "          Boarded->Embarked)"
   ]
  },
  {
   "cell_type": "code",
   "execution_count": 84,
   "id": "efb5c122-bd72-4f36-a1ca-acc6e3ccb613",
   "metadata": {
    "tags": []
   },
   "outputs": [
    {
     "data": {
      "text/plain": [
       "null"
      ]
     },
     "execution_count": 84,
     "metadata": {},
     "output_type": "execute_result"
    }
   ],
   "source": [
    "(def remove-hometown-dest (fn [m] (dissoc* m [\"Hometown\" \"Destination\"])))\n",
    "\n",
    "(alterate [#'first-class-data  #'second-class-data #'third-class-data]\n",
    "          remove-hometown-dest)"
   ]
  },
  {
   "cell_type": "markdown",
   "id": "e060df50-1a0f-4745-b6cd-1fe96fb2e344",
   "metadata": {},
   "source": [
    "The titanic-data does not have a **Hometown** or **Destination** column."
   ]
  },
  {
   "cell_type": "code",
   "execution_count": 85,
   "id": "eceed423-4366-4caa-b8a2-3327f87b2be0",
   "metadata": {
    "tags": []
   },
   "outputs": [
    {
     "data": {
      "text/plain": [
       "#'beaker_clojure_shell_87f17984-683a-40e1-9c29-ed7da36932d5/port-name"
      ]
     },
     "execution_count": 85,
     "metadata": {},
     "output_type": "execute_result"
    }
   ],
   "source": [
    "(def first-s #(str (first %)))\n",
    "\n",
    "(def catenate* (fn [[d1 d2 d3]] (lazy-cat (d1 identity) (d2 identity) (d3 identity))))\n",
    "\n",
    "(def datas [first-class-data second-class-data third-class-data])\n",
    "\n",
    "(defn full-port-name\n",
    "    [ports]\n",
    "    (fn [port]\n",
    "        (some #(and (= (str port) (first-s %)) %) ports)))\n",
    "\n",
    "(defn port-name\n",
    "    [TITANIC-DATA do-with-data]\n",
    "    (let [ports (distinct (map #(get % \"Embarked\") (catenate* datas)))\n",
    "          return-port (full-port-name ports)]\n",
    "        ((do-with-data TITANIC-DATA) return-port)))"
   ]
  },
  {
   "cell_type": "markdown",
   "id": "936e055c-7c16-4a8d-af53-ef0a96d6e1dc",
   "metadata": {},
   "source": [
    "We are going to change the single capital letters of the port embarked in titanic-data to be the whole name. This will be achieved by using the <br>\n",
    "**first-class-data**, **second-class-data**, and **third-class-data**."
   ]
  },
  {
   "cell_type": "code",
   "execution_count": 86,
   "id": "82e124f8-4936-4c56-8f1b-2ca1a44f0e77",
   "metadata": {
    "tags": []
   },
   "outputs": [
    {
     "data": {
      "text/plain": [
       "beaker_clojure_shell_87f17984_683a_40e1_9c29_ed7da36932d5$return_fn$fn__163@2194854c"
      ]
     },
     "execution_count": 86,
     "metadata": {},
     "output_type": "execute_result"
    }
   ],
   "source": [
    "(port-name #'titanic-data\n",
    "           (fn [TITANIC-DATA]\n",
    "               (let [data ((deref TITANIC-DATA) identity)]\n",
    "                   (fn [f]\n",
    "                       (alter-var-root TITANIC-DATA\n",
    "                                       (fn [_]\n",
    "                                           (return-fn (map #(let [p (f (get % \"Embarked\"))] (assoc % \"Embarked\" p)) data))))))))"
   ]
  },
  {
   "cell_type": "code",
   "execution_count": 87,
   "id": "9d954989-2a83-49a1-bdc1-c677dd139b21",
   "metadata": {},
   "outputs": [
    {
     "data": {
      "text/plain": [
       "beaker_clojure_shell_87f17984_683a_40e1_9c29_ed7da36932d5$return_fn$fn__163@7dea4a4f"
      ]
     },
     "execution_count": 87,
     "metadata": {},
     "output_type": "execute_result"
    }
   ],
   "source": [
    "(def max-ns-needed (fn [d1 d2 d3] (+ (d1 count) (d2 count) (d3 count))))\n",
    "\n",
    "(alter-var-root #'titanic-data\n",
    "                (fn [FN]\n",
    "                    (let [size (FN count)\n",
    "                          datas-size (apply max-ns-needed datas)\n",
    "                          n-seq (range size datas-size)\n",
    "                          catted (catenate* datas)]\n",
    "                        (return-fn (FN (fn [data]\n",
    "                                           (lazy-cat data\n",
    "                                                     (map #(assoc (Boarded->Embarked %1) \"PassengerId\" %2)\n",
    "                                                          catted\n",
    "                                                          n-seq))))))))"
   ]
  },
  {
   "cell_type": "markdown",
   "id": "d3ebda05-29d1-4128-ae4b-a74477df1180",
   "metadata": {},
   "source": [
    "We now have the original titanic-data plus all the other first-class, second-class and third-class-data, we'll store this as **titanic-enhanced-data** and then <br>\n",
    "proceed to the Exploratory Data Analysis notebook."
   ]
  },
  {
   "cell_type": "code",
   "execution_count": 117,
   "id": "dc84fa82-187f-45fe-af17-82ece97efd10",
   "metadata": {
    "tags": []
   },
   "outputs": [
    {
     "data": {
      "text/plain": [
       "true"
      ]
     },
     "execution_count": 117,
     "metadata": {},
     "output_type": "execute_result"
    }
   ],
   "source": [
    "(defn keep-if-name-already\n",
    "    [row coll]\n",
    "    (if (= \"male\" (get row \"Sex\"))\n",
    "        (let [nme (get row \"Name\")\n",
    "              !-mr (cs/replace nme #\"Mr.\" \"\")\n",
    "              !-mr (cs/replace !-mr #\"Mr\" \"\")\n",
    "              !-master (cs/replace !-mr #\"Master.\" \"\")\n",
    "              !-master (cs/replace !-master #\"Master\" \"\")]\n",
    "            (some #(let [nme (get % \"Name\")\n",
    "                         !-mr2 (cs/replace nme #\"Mr.\" \"\")\n",
    "                         !-mr2 (cs/replace !-mr2 #\"Mr\" \"\")\n",
    "                         !-master2 (cs/replace !-mr2 #\"Master.\" \"\")\n",
    "                         !-master2 (cs/replace !-master2 #\"Master\" \"\")]\n",
    "                       (= (sort !-master) (sort !-master2)))\n",
    "                  (keep #(when (= (get % \"Sex\") \"male\") %) coll)))\n",
    "        (let [nme (get row \"Name\")]\n",
    "            (if (.contains nme \"Mrs\")\n",
    "                (let [!-mrs (cs/replace nme #\"Mrs.\" \"\")\n",
    "                      !-mrs (cs/replace !-mrs #\"Mrs\" \"\")]\n",
    "                    (some #(let [nme (get % \"Name\")\n",
    "                                 !-mrs2 (cs/replace nme #\"Mrs.\" \"\")\n",
    "                                 !-mrs2 (cs/replace !-mrs2 #\"Mrs\" \"\")]\n",
    "                               (= (sort !-mrs) (sort !-mrs2)))\n",
    "                          (keep #(when (= (get % \"Sex\") \"female\") %) coll)))\n",
    "                (let [!-ms (cs/replace nme #\"Miss.\" \"\")\n",
    "                      !-ms (cs/replace !-ms #\"Miss\" \"\")]\n",
    "                    (some #(let [nme (get % \"Name\")\n",
    "                                 !-ms2 (cs/replace nme #\"Miss.\" \"\")\n",
    "                                 !-ms2 (cs/replace !-ms2 #\"Miss\" \"\")]\n",
    "                               (= (sort !-ms) (sort !-ms2)))\n",
    "                          (keep #(when (= (get % \"Sex\") \"female\") %) coll)))))))\n",
    "\n",
    "(keep-if-name-already {\"Name\" \"Allison, Master. Hudson Trevor\" \"Sex\" \"male\"} (titanic-data identity))"
   ]
  },
  {
   "cell_type": "code",
   "execution_count": 124,
   "id": "88e76ec8-2d28-409b-8db7-cc5fab932299",
   "metadata": {
    "tags": []
   },
   "outputs": [
    {
     "data": {
      "text/plain": [
       "null"
      ]
     },
     "execution_count": 124,
     "metadata": {},
     "output_type": "execute_result"
    }
   ],
   "source": [
    "(defn store-seq\n",
    "    [nme sq]\n",
    "    (let [ret (atom \"\")]\n",
    "        (run! #(swap! ret (fn [s] (str s %))) sq)\n",
    "        (spit nme (format \"(%s)\" @ret))))\n",
    "\n",
    "(titanic-data\n",
    " (fn [data]\n",
    "     (let [!-repeated-passengers (reduce (fn [acc idx]\n",
    "                                             (let [row (nth data idx)\n",
    "                                                   rm (nthrest data (inc idx))]\n",
    "                                                 (if (keep-if-name-already row rm)\n",
    "                                                     acc\n",
    "                                                     (lazy-cat acc [row])))) '() (range (count data)))]\n",
    "         (store-seq \"titanic-enhanced-data.txt\" !-repeated-passengers))))"
   ]
  },
  {
   "cell_type": "markdown",
   "id": "a362d8f6-58ff-4d01-8de2-a2a128e60baa",
   "metadata": {},
   "source": [
    "Now some EDA"
   ]
  }
 ],
 "metadata": {
  "kernelspec": {
   "display_name": "Clojure",
   "language": "clojure",
   "name": "clojure"
  },
  "language_info": {
   "codemirror_mode": "Clojure",
   "file_extension": ".clj",
   "mimetype": "text/x-clojure",
   "name": "Clojure",
   "nbconverter_exporter": "",
   "version": "1.11.1"
  }
 },
 "nbformat": 4,
 "nbformat_minor": 5
}

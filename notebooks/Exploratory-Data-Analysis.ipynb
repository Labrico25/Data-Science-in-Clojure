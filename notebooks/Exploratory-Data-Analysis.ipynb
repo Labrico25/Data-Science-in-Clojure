{
 "cells": [
  {
   "cell_type": "markdown",
   "id": "3e888dfe-8fa9-4e1b-a74a-9c588df90baa",
   "metadata": {},
   "source": [
    "## Exploratory Data Analysis"
   ]
  },
  {
   "cell_type": "markdown",
   "id": "381b39b3-9890-458c-bb9b-915de61d04ef",
   "metadata": {},
   "source": [
    "But first:"
   ]
  },
  {
   "cell_type": "code",
   "execution_count": 2,
   "id": "c7e36eee-2873-4320-b382-11f43b90394d",
   "metadata": {
    "tags": []
   },
   "outputs": [
    {
     "data": {
      "text/plain": [
       "class com.twosigma.beakerx.chart.histogram.Histogram"
      ]
     },
     "execution_count": 2,
     "metadata": {},
     "output_type": "execute_result"
    }
   ],
   "source": [
    "(import '[com.twosigma.beakerx.chart.xychart Plot]\n",
    "        '[com.twosigma.beakerx.chart.xychart.plotitem Line Bars Points]\n",
    "        'com.twosigma.beakerx.chart.Color\n",
    "        '[com.twosigma.beakerx.chart.histogram Histogram])"
   ]
  },
  {
   "cell_type": "code",
   "execution_count": 3,
   "id": "b2d64abd-2b6d-4c05-89d6-4d9a9a4d30dc",
   "metadata": {
    "tags": []
   },
   "outputs": [
    {
     "data": {
      "text/plain": [
       "#'beaker_clojure_shell_ed045675-d4fe-4cdd-9de3-4eda4c147f44/show!"
      ]
     },
     "execution_count": 3,
     "metadata": {},
     "output_type": "execute_result"
    }
   ],
   "source": [
    "(defn bar-plot\n",
    "    ([x y]\n",
    "     (doto (Bars.)\n",
    "         (.setX x)\n",
    "         (.setY y)\n",
    "         (.setColor Color/yellow)\n",
    "         (.setWidth 0.3)))\n",
    "    ([x y color]\n",
    "     (doto (Bars.)\n",
    "         (.setX x)\n",
    "         (.setY y)\n",
    "         (.setColor color)\n",
    "         (.setWidth 0.3)))\n",
    "    ([x y color width]\n",
    "     (doto (Bars.)\n",
    "         (.setX x)\n",
    "         (.setY y)\n",
    "         (.setColor color)\n",
    "         (.setWidth width)))\n",
    "    ([x y color width show]\n",
    "     (show\n",
    "      (bar-plot x y color width))))\n",
    "\n",
    "(defn line-plot\n",
    "    ([x y]\n",
    "     (doto (Line.)\n",
    "         (.setX x)\n",
    "         (.setY y)\n",
    "         (.setColor Color/red)))\n",
    "    ([x y color]\n",
    "     (doto (Line.)\n",
    "         (.setX x)\n",
    "         (.setY y)\n",
    "         (.setColor color)))\n",
    "    ([x y color show]\n",
    "     (show\n",
    "      (line-plot x y color))))\n",
    "\n",
    "(defn scatter-plot\n",
    "    ([x y]\n",
    "     (doto (Points.)\n",
    "         (.setX x)\n",
    "         (.setY y)\n",
    "         (.setColor Color/red)))\n",
    "    ([x y color]\n",
    "     (doto (Points.)\n",
    "         (.setX x)\n",
    "         (.setY y)\n",
    "         (.setColor color)))\n",
    "    ([x y color show]\n",
    "     (show\n",
    "      (scatter-plot x y color))))\n",
    "\n",
    "(defn show!\n",
    "    ([plot]\n",
    "     (.add (Plot.) plot))\n",
    "    ([plot title]\n",
    "     (doto (Plot.)\n",
    "         (.setTitle title)\n",
    "         (.add plot)))\n",
    "    ([plot title x-label y-label]\n",
    "     (doto (Plot.)\n",
    "         (.setTitle title)\n",
    "         (.setXLabel x-label)\n",
    "         (.setYLabel y-label)\n",
    "         (.add plot))))"
   ]
  },
  {
   "cell_type": "code",
   "execution_count": 4,
   "id": "afce8b61-85e8-48ef-9995-41499db0070b",
   "metadata": {
    "tags": []
   },
   "outputs": [
    {
     "data": {
      "text/plain": [
       "#'beaker_clojure_shell_ed045675-d4fe-4cdd-9de3-4eda4c147f44/enhanced-titanic"
      ]
     },
     "execution_count": 4,
     "metadata": {},
     "output_type": "execute_result"
    }
   ],
   "source": [
    "(def enhanced-titanic (read-string (slurp \"titanic-enhanced-data.txt\")))"
   ]
  },
  {
   "cell_type": "code",
   "execution_count": 5,
   "id": "14067d3d-add9-4f35-b55c-eb6302eb8224",
   "metadata": {
    "tags": []
   },
   "outputs": [
    {
     "data": {
      "application/vnd.jupyter.widget-view+json": {
       "model_id": "4c9311cd-7ce6-4e1d-9dfd-39bd0341d5b8",
       "version_major": 2,
       "version_minor": 0
      },
      "method": "display_data"
     },
     "metadata": {},
     "output_type": "display_data"
    }
   ],
   "source": [
    "(take 1 enhanced-titanic)"
   ]
  },
  {
   "cell_type": "code",
   "execution_count": 6,
   "id": "d24d598b-228e-4ebf-b899-2ffb2479b7fa",
   "metadata": {
    "tags": []
   },
   "outputs": [
    {
     "data": {
      "text/plain": [
       "         |          Age |  PassengerId |        SibSp |        Parch |          Sex |     Survived |     Embarked |       Pclass |         Name |\n",
       "   count |         1199 |         1199 |         1199 |         1199 |         1199 |         1199 |         1199 |         1199 |         1199 |\n",
       "    mean |        30.67 |          nil |         0.53 |         0.36 |          nil |         0.46 |          nil |         2.02 |          nil |\n",
       "     std |        13.82 |          nil |         1.02 |         0.77 |          nil |         0.50 |          nil |         0.89 |          nil |\n",
       "     min |         0.42 |          nil |            0 |            0 |          nil |            0 |          nil |            1 |          nil |\n",
       "     25% |           23 |          nil |            0 |            0 |          nil |            0 |          nil |            1 |          nil |\n",
       "     50% |           28 |          nil |            0 |            0 |          nil |            0 |          nil |            2 |          nil |\n",
       "     75% |           39 |          nil |            1 |            0 |          nil |            1 |          nil |            3 |          nil |\n",
       "     max |           74 |          nil |            8 |            6 |          nil |            1 |          nil |            3 |          nil |"
      ]
     },
     "execution_count": 6,
     "metadata": {},
     "output_type": "execute_result"
    }
   ],
   "source": [
    "(defn mean\n",
    "    [k coll is-valid]\n",
    "    (when (is-valid k)\n",
    "        (float (/ (reduce + 0 (map #(read-string (str (get % k))) coll)) (count coll)))))\n",
    "\n",
    "(defn calculate-std\n",
    "    [[m & ms] [v & vs]]\n",
    "    (when-let [_ v]\n",
    "        (lazy-seq\n",
    "         (if m\n",
    "             (let [READ (map (comp read-string str) v)\n",
    "                   squared (mapv #(Math/pow (- % m) 2) READ)\n",
    "                   sum-of-sq (reduce + 0 squared)\n",
    "                   variance (/ sum-of-sq ((comp dec count) v))\n",
    "                   std      (Math/sqrt variance)]\n",
    "                 (cons std\n",
    "                       (calculate-std ms vs)))\n",
    "             (cons nil (calculate-std ms vs))))))\n",
    "\n",
    "(defn minimum\n",
    "    [k coll is-valid]\n",
    "    (when (is-valid k)\n",
    "        (let [read-fn (comp read-string str #(get % k))\n",
    "              col     (map read-fn coll)]\n",
    "            (apply min col))))\n",
    "\n",
    "(defn read-n*\n",
    "    [n]\n",
    "    (cond\n",
    "        (int? n) n\n",
    "        (float? n) n\n",
    "        (double? n) n\n",
    "        (string? n) (if (read-n* (read-string n)) (read-string n) n)))\n",
    "\n",
    "(defn percentile\n",
    "    [pth k coll is-valid]\n",
    "    (when (is-valid k)\n",
    "        (let [k-va (sort-by read-n* (map #(get % k) coll))\n",
    "              size (count k-va)]\n",
    "            (apply (fn [n]\n",
    "                       (if ((complement int?) n)\n",
    "                           (nth k-va (Math/round (float n)))\n",
    "                           (/ (+ (nth k-va n) (nth k-va (inc n))) 2)))\n",
    "             [(* (/ pth 100) (inc size))]))))\n",
    "\n",
    "(defn maximum\n",
    "    [k coll is-valid]\n",
    "    (when (is-valid k)\n",
    "        (let [read-fn (comp read-string str #(get % k))\n",
    "              col     (map read-fn coll)]\n",
    "            (apply max col))))\n",
    "\n",
    "(defn make-template\n",
    "    [ks]\n",
    "    (let [pad (apply str (map (constantly \"  %11s |\") ks))]\n",
    "        (str (str \"         |\" pad)\n",
    "             (str \"\\n   count |\" pad)\n",
    "             (str \"\\n    mean |\" pad)\n",
    "             (str \"\\n     std |\" pad)\n",
    "             (str \"\\n     min |\" pad)\n",
    "             (str \"\\n     25%% |\" pad)\n",
    "             (str \"\\n     50%% |\" pad)\n",
    "             (str \"\\n     75%% |\" pad)\n",
    "             (str \"\\n     max |\" pad))))\n",
    "\n",
    "(defn table-show\n",
    "    [templ elements]\n",
    "    (apply format templ \n",
    "     (map (fn [_] \n",
    "              (cond\n",
    "                  (nil? _) \"nil\"\n",
    "                  (float? _) (format \"%.2f\" _)\n",
    "                  :else (str _)))\n",
    "          elements)))\n",
    "             \n",
    "\n",
    "\n",
    "(defn output-describe-table\n",
    "    [ks [cnt mean std mn _25% _50% _75% mx :as all]]\n",
    "    (table-show (make-template ks) \n",
    "     (concat ks cnt mean std mn _25% _50% _75% mx)))\n",
    "\n",
    "(defn describe\n",
    "    [coll]\n",
    "    (let [ks (keys (first coll))\n",
    "          count-row (map (fn [k] (count (map #(get % k) coll))) ks)\n",
    "          mean-row (map (fn [k] (mean k coll #{\"Age\" \"SibSp\" \"Parch\" \"Survived\" \"Pclass\"})) ks)\n",
    "          std-row (calculate-std mean-row (map (fn [k] (map #(get % k) coll)) ks))\n",
    "          min-row (map (fn [k] (minimum k coll #{\"Age\" \"SibSp\" \"Parch\" \"Survived\" \"Pclass\"})) ks)\n",
    "          _25%-per (map (fn [k] (percentile 25 k coll #{\"Age\" \"SibSp\" \"Parch\" \"Survived\" \"Pclass\"})) ks)\n",
    "          _50%-per (map (fn [k] (percentile 50 k coll #{\"Age\" \"SibSp\" \"Parch\" \"Survived\" \"Pclass\"})) ks)\n",
    "          _75%-per (map (fn [k] (percentile 75 k coll #{\"Age\" \"SibSp\" \"Parch\" \"Survived\" \"Pclass\"})) ks)\n",
    "          max-row (map (fn [k] (maximum k coll #{\"Age\" \"SibSp\" \"Parch\" \"Survived\" \"Pclass\"})) ks)]\n",
    "        (output-describe-table ks [count-row mean-row std-row min-row _25%-per _50%-per _75%-per max-row])))\n",
    "\n",
    "(describe enhanced-titanic)"
   ]
  },
  {
   "cell_type": "markdown",
   "id": "bce65442-4b77-4431-a066-2d379ea7412e",
   "metadata": {
    "tags": []
   },
   "source": [
    "We will now see the correlation between cols"
   ]
  },
  {
   "cell_type": "code",
   "execution_count": 7,
   "id": "85bb1d65-470c-4f2c-b235-4b57570eedaa",
   "metadata": {
    "tags": []
   },
   "outputs": [
    {
     "data": {
      "text/plain": [
       "#'beaker_clojure_shell_ed045675-d4fe-4cdd-9de3-4eda4c147f44/corr"
      ]
     },
     "execution_count": 7,
     "metadata": {},
     "output_type": "execute_result"
    }
   ],
   "source": [
    "(defn corr\n",
    "    [x y]\n",
    "    (let [x-all (reduce + 0 x)\n",
    "          y-all (reduce + 0 y)\n",
    "          x-2 (map #(Math/pow % 2) x)\n",
    "          x-2-all (reduce + 0 x-2)\n",
    "          y-2 (map #(Math/pow % 2) y)\n",
    "          y-2-all (reduce + 0 y-2)\n",
    "          xy (map * x y)\n",
    "          xy-all (reduce + 0 xy)\n",
    "          n (count x)]\n",
    "        (/ (- (* n xy-all) (* x-all y-all))\n",
    "           (Math/sqrt (* (- (* n x-2-all) (Math/pow x-all 2)) \n",
    "                         (- (* n y-2-all) (Math/pow y-all 2)))))))"
   ]
  },
  {
   "cell_type": "code",
   "execution_count": 8,
   "id": "108146be-34be-4f2f-a0b6-b32730a6f493",
   "metadata": {
    "tags": []
   },
   "outputs": [
    {
     "data": {
      "text/plain": [
       "#'beaker_clojure_shell_ed045675-d4fe-4cdd-9de3-4eda4c147f44/make-corr-template"
      ]
     },
     "execution_count": 8,
     "metadata": {},
     "output_type": "execute_result"
    }
   ],
   "source": [
    "(defn make-corr-template\n",
    "    [ks]\n",
    "    (let [templ (for [row (range (inc (count ks)))]\n",
    "                    (list* \"%11s |\"\n",
    "                          (concat (for [col (range (count ks))]\n",
    "                                      \"%11s |\") [\"\\n\"])))]\n",
    "        (apply str (mapcat identity templ))))"
   ]
  },
  {
   "cell_type": "code",
   "execution_count": 9,
   "id": "82b0a450-711c-42a6-924b-7211e5923aab",
   "metadata": {
    "tags": []
   },
   "outputs": [
    {
     "data": {
      "text/plain": [
       "            |        Age |PassengerId |      SibSp |      Parch |        Sex |   Survived |   Embarked |     Pclass |       Name |\n",
       "        Age |       1.00 |       0.28 |      -0.19 |      -0.17 |        nil |      -0.01 |        nil |      -0.41 |        nil |\n",
       "PassengerId |       0.28 |       1.00 |      -0.03 |      -0.05 |        nil |       0.14 |        nil |      -0.52 |        nil |\n",
       "      SibSp |      -0.19 |      -0.03 |       1.00 |       0.37 |        nil |      -0.02 |        nil |       0.06 |        nil |\n",
       "      Parch |      -0.17 |      -0.05 |       0.37 |       1.00 |        nil |       0.09 |        nil |       0.03 |        nil |\n",
       "        Sex |        nil |        nil |        nil |        nil |        nil |        nil |        nil |        nil |        nil |\n",
       "   Survived |      -0.01 |       0.14 |      -0.02 |       0.09 |        nil |       1.00 |        nil |      -0.39 |        nil |\n",
       "   Embarked |        nil |        nil |        nil |        nil |        nil |        nil |        nil |        nil |        nil |\n",
       "     Pclass |      -0.41 |      -0.52 |       0.06 |       0.03 |        nil |      -0.39 |        nil |       1.00 |        nil |\n",
       "       Name |        nil |        nil |        nil |        nil |        nil |        nil |        nil |        nil |        nil |\n"
      ]
     },
     "execution_count": 9,
     "metadata": {},
     "output_type": "execute_result"
    }
   ],
   "source": [
    "(defn corr*\n",
    "    [x y]\n",
    "    (if (or (some (comp string? read-n*) x) (some (comp string? read-n*) y))\n",
    "        \"nil\"\n",
    "        (format \"%.2f\" (corr (map read-n* x) (map read-n* y)))))\n",
    "\n",
    "(defn make-corr-rows\n",
    "    [ks coll]\n",
    "    (let [kvs (map (fn [k] (map #(get % k) coll)) ks)]\n",
    "        (mapcat #(list* %1 %2) ks\n",
    "         (for [i kvs]\n",
    "             (for [a kvs]\n",
    "                 (corr* i a))))))\n",
    "\n",
    "(defn corr-table\n",
    "    [coll]\n",
    "    (let [ks (distinct (mapcat keys coll))\n",
    "          rows (make-corr-rows ks coll)\n",
    "          templ (make-corr-template ks)]\n",
    "        (apply format templ (concat [\" \"] ks rows))))\n",
    "\n",
    "(corr-table enhanced-titanic)"
   ]
  },
  {
   "cell_type": "markdown",
   "id": "d4e9b7b4-0a42-4bd4-80f6-0ba1457af1a6",
   "metadata": {},
   "source": [
    "Lets plot Age vs Pclass"
   ]
  },
  {
   "cell_type": "code",
   "execution_count": 10,
   "id": "3e78b89c-55dd-4885-b951-04c981402770",
   "metadata": {
    "tags": []
   },
   "outputs": [
    {
     "data": {
      "text/plain": [
       "#'beaker_clojure_shell_ed045675-d4fe-4cdd-9de3-4eda4c147f44/by-ks"
      ]
     },
     "execution_count": 10,
     "metadata": {},
     "output_type": "execute_result"
    }
   ],
   "source": [
    "(defn by-ks\n",
    "    ([data k1 k2]\n",
    "     (let [x (map #(read-string (get % k1)) data)\n",
    "           y (map #(read-string (get % k2)) data)]\n",
    "         #(% x y Color/red)))\n",
    "    ([data k1 k2 color]\n",
    "     ((by-ks data k1 k2) (fn [x y _] (fn [f] (f x y color)))))\n",
    "    ([data k1 k2 color plot]\n",
    "     ((by-ks data k1 k2 color) (fn [x y color] (fn [f] (plot x y color f)))))\n",
    "    ([data k1 k2 color plot show]\n",
    "     ((by-ks data k1 k2 color plot) show)))"
   ]
  },
  {
   "cell_type": "code",
   "execution_count": 11,
   "id": "32e0dd34-4a4d-4e90-a029-9818627fd33c",
   "metadata": {
    "tags": []
   },
   "outputs": [
    {
     "data": {
      "application/vnd.jupyter.widget-view+json": {
       "model_id": "d54336ff-474a-46c2-9417-14e52169465a",
       "version_major": 2,
       "version_minor": 0
      },
      "method": "display_data"
     },
     "metadata": {},
     "output_type": "display_data"
    }
   ],
   "source": [
    "(by-ks enhanced-titanic \"Pclass\" \"Age\" Color/yellow scatter-plot (fn [p] (show! p \"Pclass vs Age\" \"Pclass\" \"Age\")))"
   ]
  },
  {
   "cell_type": "code",
   "execution_count": 12,
   "id": "344ff248-0ed5-4e6f-8f86-16547e23723f",
   "metadata": {
    "tags": []
   },
   "outputs": [
    {
     "data": {
      "application/vnd.jupyter.widget-view+json": {
       "model_id": "b77fc679-1492-477b-ae65-809e082857a9",
       "version_major": 2,
       "version_minor": 0
      },
      "method": "display_data"
     },
     "metadata": {},
     "output_type": "display_data"
    }
   ],
   "source": [
    "(by-ks enhanced-titanic \n",
    "       \"Pclass\" \n",
    "       \"Age\" \n",
    "       0.5 \n",
    "       (fn [x y width f] (bar-plot x y Color/green width f))\n",
    "       (fn [p] (show! p \"Pclass vs Age\" \"Pclass\" \"Age\")))"
   ]
  },
  {
   "cell_type": "markdown",
   "id": "426177d5-0b42-4f28-999e-0339a9ebd201",
   "metadata": {},
   "source": [
    "We don't see much difference between the 3 passenger classes with respect to Age, but we see that the oldest passengers are in third class <br>\n",
    "followed by first and then second class."
   ]
  },
  {
   "cell_type": "code",
   "execution_count": 13,
   "id": "ff84f53c-1451-4f9c-8fce-1a813e8897da",
   "metadata": {
    "tags": []
   },
   "outputs": [
    {
     "data": {
      "text/plain": [
       "#'beaker_clojure_shell_ed045675-d4fe-4cdd-9de3-4eda4c147f44/male-passengers"
      ]
     },
     "execution_count": 13,
     "metadata": {},
     "output_type": "execute_result"
    }
   ],
   "source": [
    "(def female #(= (get % \"Sex\") \"female\"))\n",
    "\n",
    "(def male #(= (get % \"Sex\") \"male\"))\n",
    "\n",
    "(def female-passengers (keep #(if (female %) %) enhanced-titanic))\n",
    "\n",
    "(def male-passengers (keep #(if (male %) %) enhanced-titanic))"
   ]
  },
  {
   "cell_type": "code",
   "execution_count": 14,
   "id": "2474c3fe-0e8c-4ddb-99de-23c4961e94ab",
   "metadata": {
    "tags": []
   },
   "outputs": [
    {
     "data": {
      "text/plain": [
       "#'beaker_clojure_shell_ed045675-d4fe-4cdd-9de3-4eda4c147f44/hist-plot"
      ]
     },
     "execution_count": 14,
     "metadata": {},
     "output_type": "execute_result"
    }
   ],
   "source": [
    "(defn hist-plot\n",
    "    ([x y]\n",
    "     (doto (Histogram.)\n",
    "         (.setNames x)\n",
    "         (.setData y)\n",
    "         (.setColor Color/red)))\n",
    "    ([x y color]\n",
    "     (doto (Histogram.)\n",
    "         (.setNames x)\n",
    "         (.setData y)\n",
    "         (.setColor color)))\n",
    "    ([x y color xlabel]\n",
    "     (doto (hist-plot x y color)\n",
    "         (.setXLabel xlabel)))\n",
    "    ([x y color xlabel ylabel]\n",
    "     (.setYLabel (hist-plot x y color xlabel) ylabel))\n",
    "    ([x y color xlabel ylabel title]\n",
    "     (.setTitle (hist-plot x y color xlabel ylabel) title)))"
   ]
  },
  {
   "cell_type": "code",
   "execution_count": 15,
   "id": "eb6046b6-ca34-471d-8a70-ee18949b5415",
   "metadata": {
    "tags": []
   },
   "outputs": [
    {
     "data": {
      "application/vnd.jupyter.widget-view+json": {
       "model_id": "4c4570db-1273-4c55-a734-31c9a854361e",
       "version_major": 2,
       "version_minor": 0
      },
      "method": "display_data"
     },
     "metadata": {},
     "output_type": "display_data"
    }
   ],
   "source": [
    "(bar-plot [0 1] \n",
    "          [((comp count filter) #{1} (map #(read-n* (get % \"Survived\")) female-passengers))\n",
    "           ((comp count filter) #{1} (map #(read-n* (get % \"Survived\")) male-passengers))]\n",
    "          [Color/yellow Color/green]\n",
    "          0.3\n",
    "          (fn [p] (show! p \"Survived by Sex\" \"Female vs. Male\" \"Survived\")))"
   ]
  },
  {
   "cell_type": "code",
   "execution_count": 16,
   "id": "c8dee5cc-efd0-4744-85c9-81120be44c10",
   "metadata": {
    "tags": []
   },
   "outputs": [
    {
     "data": {
      "text/plain": [
       "#'beaker_clojure_shell_ed045675-d4fe-4cdd-9de3-4eda4c147f44/calculate-survived-percentage"
      ]
     },
     "execution_count": 16,
     "metadata": {},
     "output_type": "execute_result"
    }
   ],
   "source": [
    "(defn calculate-survived-percentage\n",
    "    [passengers surv-count]\n",
    "    (float (* (/ surv-count (count passengers)) 100)))"
   ]
  },
  {
   "cell_type": "code",
   "execution_count": 17,
   "id": "90ceb78c-03a2-4da7-a0e6-e0a1e821e6e8",
   "metadata": {
    "tags": []
   },
   "outputs": [
    {
     "data": {
      "text/plain": [
       "81.28898"
      ]
     },
     "execution_count": 17,
     "metadata": {},
     "output_type": "execute_result"
    }
   ],
   "source": [
    "(calculate-survived-percentage female-passengers ((comp count filter) #{\"1\"} (map #(get % \"Survived\") female-passengers)))"
   ]
  },
  {
   "cell_type": "markdown",
   "id": "9a79562e-c018-4d00-b441-e1c46580f728",
   "metadata": {},
   "source": [
    "81.29% of the female passengers survived"
   ]
  },
  {
   "cell_type": "code",
   "execution_count": 18,
   "id": "0757d79b-7841-4627-bc2c-5aa830fdecb0",
   "metadata": {
    "tags": []
   },
   "outputs": [
    {
     "data": {
      "text/plain": [
       "21.72702"
      ]
     },
     "execution_count": 18,
     "metadata": {},
     "output_type": "execute_result"
    }
   ],
   "source": [
    "(calculate-survived-percentage male-passengers ((comp count filter) #{\"1\"} (map #(get % \"Survived\") male-passengers)))"
   ]
  },
  {
   "cell_type": "markdown",
   "id": "2f59c59e-956b-416a-9dd4-141e1e80688f",
   "metadata": {
    "tags": []
   },
   "source": [
    "~22% of the male passengers survived"
   ]
  },
  {
   "cell_type": "code",
   "execution_count": 19,
   "id": "c00172c3-ec85-4f40-b7d7-34b0f17ba8c9",
   "metadata": {
    "tags": []
   },
   "outputs": [
    {
     "data": {
      "application/vnd.jupyter.widget-view+json": {
       "model_id": "08daeb05-85f6-48cd-a48f-e9388b3cb593",
       "version_major": 2,
       "version_minor": 0
      },
      "method": "display_data"
     },
     "metadata": {},
     "output_type": "display_data"
    }
   ],
   "source": [
    "(hist-plot nil\n",
    "           (keep #(when (= \"1\" (get % \"Survived\")) ((comp int read-string get) % \"Age\")) male-passengers)\n",
    "           Color/red\n",
    "           \"Age\"\n",
    "           \"Frequency\"\n",
    "           \"Most common ages amongst the male survivors of the titanic\")"
   ]
  },
  {
   "cell_type": "markdown",
   "id": "5f70d0e3-fd1f-4585-92f7-016d1127c784",
   "metadata": {},
   "source": [
    "We observe that an 28 count of the age of the survivors is 34. We also see that after 34 years the frequency starts to decrease until 58 which is at the minimum"
   ]
  },
  {
   "cell_type": "code",
   "execution_count": 20,
   "id": "def9ee5e-2583-47d9-bc96-5dd70ae9f8d3",
   "metadata": {
    "tags": []
   },
   "outputs": [
    {
     "data": {
      "text/plain": [
       "#'beaker_clojure_shell_ed045675-d4fe-4cdd-9de3-4eda4c147f44/pick-based-on-key"
      ]
     },
     "execution_count": 20,
     "metadata": {},
     "output_type": "execute_result"
    }
   ],
   "source": [
    "(defn pick-based-on-key\n",
    "    ([coll k pred]\n",
    "     (keep (pred k) coll))\n",
    "    ([coll k pred further-analysis]\n",
    "     (further-analysis (pick-based-on-key coll k pred))))"
   ]
  },
  {
   "cell_type": "markdown",
   "id": "06a7ba51-1676-4142-9a90-d6cc3cc0e392",
   "metadata": {},
   "source": [
    "If we actually zoom in on the above table we'll find out that from 0 up to 8 of age we have a frequency of 19"
   ]
  },
  {
   "cell_type": "code",
   "execution_count": 21,
   "id": "626ae115-386d-4635-8be9-8b7fa75352fe",
   "metadata": {
    "tags": []
   },
   "outputs": [
    {
     "data": {
      "text/plain": [
       "65.51724"
      ]
     },
     "execution_count": 21,
     "metadata": {},
     "output_type": "execute_result"
    }
   ],
   "source": [
    "(pick-based-on-key male-passengers \n",
    "                   \"Age\" \n",
    "                   #(fn [m] \n",
    "                        (let [age (get m %)\n",
    "                              raed (read-string age)]\n",
    "                            (when (and (>= raed 0) (< raed 8)) m)))\n",
    "                   (fn [kept]\n",
    "                       (let [survd (filter #(= \"1\" (get % \"Survived\")) kept)]\n",
    "                           (float (* 100 (/ (count survd) (count kept)))))))"
   ]
  },
  {
   "cell_type": "markdown",
   "id": "5da07137-e873-4a92-a2f9-93840e3b05a2",
   "metadata": {
    "tags": []
   },
   "source": [
    "The ages from 0 to 8 of the male passengers have an 65.52 percent of survival"
   ]
  },
  {
   "cell_type": "code",
   "execution_count": 22,
   "id": "734fa339-286f-4fb1-9b67-27c2a21eb0f3",
   "metadata": {
    "tags": []
   },
   "outputs": [
    {
     "data": {
      "text/plain": [
       "52.63158"
      ]
     },
     "execution_count": 22,
     "metadata": {},
     "output_type": "execute_result"
    }
   ],
   "source": [
    "(pick-based-on-key male-passengers\n",
    "                   \"Age\"\n",
    "                   #(fn [m]\n",
    "                        (let [age (get m %)\n",
    "                              raed (read-string age)]\n",
    "                            (when (and (>= raed 8) (< raed 16)) m)))\n",
    "                   (fn [kept]\n",
    "                       (let [survd (filter #(= \"1\" (get % \"Survived\")) kept)]\n",
    "                           (float (* 100 (/ (count survd) (count kept)))))))"
   ]
  },
  {
   "cell_type": "markdown",
   "id": "6161fa3a-8947-42d3-936c-a2f9573171c1",
   "metadata": {},
   "source": [
    "52.63 percent survival for ages 8 to 16"
   ]
  },
  {
   "cell_type": "code",
   "execution_count": 23,
   "id": "a7fd418c-25eb-42d7-bdb4-0d99534bf581",
   "metadata": {
    "tags": []
   },
   "outputs": [
    {
     "data": {
      "text/plain": [
       "11.570248"
      ]
     },
     "execution_count": 23,
     "metadata": {},
     "output_type": "execute_result"
    }
   ],
   "source": [
    "(pick-based-on-key male-passengers\n",
    "                   \"Age\"\n",
    "                   #(fn [m]\n",
    "                        (let [age (get m %)\n",
    "                              raed (read-string age)]\n",
    "                            (when (and (>= raed 16) (< raed 24)) m)))\n",
    "                   (fn [kept]\n",
    "                       (let [survd (filter #(= \"1\" (get % \"Survived\")) kept)]\n",
    "                           (float (* 100 (/ (count survd) (count kept)))))))"
   ]
  },
  {
   "cell_type": "markdown",
   "id": "3e5b2354-ea0a-4460-b609-10b1406cd8c4",
   "metadata": {},
   "source": [
    "11.57 percent for ages 16 to 24"
   ]
  },
  {
   "cell_type": "code",
   "execution_count": 24,
   "id": "a767c92c-36ce-4c69-98a9-0445c6b6555e",
   "metadata": {
    "tags": []
   },
   "outputs": [
    {
     "data": {
      "text/plain": [
       "17.624521"
      ]
     },
     "execution_count": 24,
     "metadata": {},
     "output_type": "execute_result"
    }
   ],
   "source": [
    "(pick-based-on-key male-passengers\n",
    "                   \"Age\"\n",
    "                   #(fn [m]\n",
    "                        (let [age (get m %)\n",
    "                              raed (read-string age)]\n",
    "                            (when (and (>= raed 24) (< raed 32)) m)))\n",
    "                   (fn [kept]\n",
    "                       (let [survd (filter #(= \"1\" (get % \"Survived\")) kept)]\n",
    "                           (float (* 100 (/ (count survd) (count kept)))))))"
   ]
  },
  {
   "cell_type": "markdown",
   "id": "87e5d40c-1417-4612-baa3-6f87f4e1691e",
   "metadata": {},
   "source": [
    "17.62 percent for ages 24 to 32"
   ]
  },
  {
   "cell_type": "code",
   "execution_count": 25,
   "id": "c3f2b165-1baf-4bf9-ab8d-efca9becc666",
   "metadata": {
    "tags": []
   },
   "outputs": [
    {
     "data": {
      "text/plain": [
       "25.0"
      ]
     },
     "execution_count": 25,
     "metadata": {},
     "output_type": "execute_result"
    }
   ],
   "source": [
    "(pick-based-on-key male-passengers\n",
    "                   \"Age\"\n",
    "                   #(fn [m]\n",
    "                        (let [age (get m %)\n",
    "                              raed (read-string age)]\n",
    "                            (when (and (>= raed 32) (< raed 40)) m)))\n",
    "                   (fn [kept]\n",
    "                       (let [survd (filter #(= \"1\" (get % \"Survived\")) kept)]\n",
    "                           (float (* 100 (/ (count survd) (count kept)))))))"
   ]
  },
  {
   "cell_type": "markdown",
   "id": "434a25a3-06f9-4c08-80a3-b26caccd4f17",
   "metadata": {},
   "source": [
    "25% for 32 to 40"
   ]
  },
  {
   "cell_type": "code",
   "execution_count": 26,
   "id": "6ffc83f4-24dd-4d62-afa6-21c8cc2064a7",
   "metadata": {
    "tags": []
   },
   "outputs": [
    {
     "data": {
      "text/plain": [
       "23.170732"
      ]
     },
     "execution_count": 26,
     "metadata": {},
     "output_type": "execute_result"
    }
   ],
   "source": [
    "(pick-based-on-key male-passengers\n",
    "                   \"Age\"\n",
    "                   #(fn [m]\n",
    "                        (let [age (get m %)\n",
    "                              raed (read-string age)]\n",
    "                            (when (and (>= raed 40) (< raed 48)) m)))\n",
    "                   (fn [kept]\n",
    "                       (let [survd (filter #(= \"1\" (get % \"Survived\")) kept)]\n",
    "                           (float (* 100 (/ (count survd) (count kept)))))))"
   ]
  },
  {
   "cell_type": "markdown",
   "id": "21101f65-f744-4f29-9f0e-0bd4078c0f7a",
   "metadata": {},
   "source": [
    "23.17 percent (40 - 48)"
   ]
  },
  {
   "cell_type": "code",
   "execution_count": 27,
   "id": "322a91d7-520d-4ef7-a2bf-50f211366190",
   "metadata": {
    "tags": []
   },
   "outputs": [
    {
     "data": {
      "text/plain": [
       "30.76923"
      ]
     },
     "execution_count": 27,
     "metadata": {},
     "output_type": "execute_result"
    }
   ],
   "source": [
    "(pick-based-on-key male-passengers\n",
    "                   \"Age\"\n",
    "                   #(fn [m]\n",
    "                        (let [age (get m %)\n",
    "                              raed (read-string age)]\n",
    "                            (when (and (>= raed 48) (< raed 56)) m)))\n",
    "                   (fn [kept]\n",
    "                       (let [survd (filter #(= \"1\" (get % \"Survived\")) kept)]\n",
    "                           (float (* 100 (/ (count survd) (count kept)))))))"
   ]
  },
  {
   "cell_type": "markdown",
   "id": "964c4ed1-e74e-47e1-ad53-f26c4f8378a8",
   "metadata": {},
   "source": [
    "30.77% from 48 to 56"
   ]
  },
  {
   "cell_type": "code",
   "execution_count": 28,
   "id": "0fa750be-0af4-42f7-b86c-d6bd3d34957d",
   "metadata": {
    "tags": []
   },
   "outputs": [
    {
     "data": {
      "text/plain": [
       "15.625"
      ]
     },
     "execution_count": 28,
     "metadata": {},
     "output_type": "execute_result"
    }
   ],
   "source": [
    "(pick-based-on-key male-passengers\n",
    "                   \"Age\"\n",
    "                   #(fn [m]\n",
    "                        (let [age (get m %)\n",
    "                              raed (read-string age)]\n",
    "                            (when (and (>= raed 56) (< raed 64)) m)))\n",
    "                   (fn [kept]\n",
    "                       (let [survd (filter #(= \"1\" (get % \"Survived\")) kept)]\n",
    "                           (float (* 100 (/ (count survd) (count kept)))))))"
   ]
  },
  {
   "cell_type": "markdown",
   "id": "6b5aeb1b-01b9-4a73-9773-b53c42f5b4f4",
   "metadata": {},
   "source": [
    "56 - 64 (15.63%)"
   ]
  },
  {
   "cell_type": "code",
   "execution_count": 29,
   "id": "01e61b88-cd2a-4232-845b-a96cc30ac238",
   "metadata": {
    "tags": []
   },
   "outputs": [
    {
     "data": {
      "text/plain": [
       "0.0"
      ]
     },
     "execution_count": 29,
     "metadata": {},
     "output_type": "execute_result"
    }
   ],
   "source": [
    "(pick-based-on-key male-passengers\n",
    "                   \"Age\"\n",
    "                   #(fn [m]\n",
    "                        (let [age (get m %)\n",
    "                              raed (read-string age)]\n",
    "                            (when (and (>= raed 72) (< raed 80)) m)))\n",
    "                   (fn [kept]\n",
    "                       (let [survd (filter #(= \"1\" (get % \"Survived\")) kept)]\n",
    "                           (float (* 100 (/ (count survd) (count kept)))))))"
   ]
  },
  {
   "cell_type": "markdown",
   "id": "8af30d6f-fde0-4d7a-b715-bf6634548d07",
   "metadata": {},
   "source": [
    "72 - 80 (0%). However:"
   ]
  },
  {
   "cell_type": "code",
   "execution_count": 30,
   "id": "70f753f9-3395-4f0d-a1b8-2055b5fe1f43",
   "metadata": {
    "tags": []
   },
   "outputs": [
    {
     "data": {
      "text/plain": [
       "null"
      ]
     },
     "execution_count": 30,
     "metadata": {},
     "output_type": "execute_result"
    }
   ],
   "source": [
    "(pick-based-on-key male-passengers\n",
    "                   \"Age\"\n",
    "                   #(fn [m]\n",
    "                        (let [age (get m %)\n",
    "                              raed (read-string age)]\n",
    "                            (when (= raed 80) m)))\n",
    "                   #(get (first %) \"Survived\"))"
   ]
  },
  {
   "cell_type": "markdown",
   "id": "753c0e9c-a309-4ce9-9350-8511dd487acd",
   "metadata": {},
   "source": [
    "Now"
   ]
  },
  {
   "cell_type": "code",
   "execution_count": 31,
   "id": "279747ac-15a4-44df-bae6-27a4fabc1fcf",
   "metadata": {
    "tags": []
   },
   "outputs": [
    {
     "data": {
      "application/vnd.jupyter.widget-view+json": {
       "model_id": "532ef4e4-07f0-49a7-adad-23dbc47339ee",
       "version_major": 2,
       "version_minor": 0
      },
      "method": "display_data"
     },
     "metadata": {},
     "output_type": "display_data"
    }
   ],
   "source": [
    "(filter #(let [_ (read-string (get % \"Age\"))] (and (>= _ 24) (<= _ 32))) male-passengers)"
   ]
  },
  {
   "cell_type": "code",
   "execution_count": 32,
   "id": "ca713b3b-8e9e-43dd-87bc-75ac51cb5a38",
   "metadata": {},
   "outputs": [
    {
     "data": {
      "application/vnd.jupyter.widget-view+json": {
       "model_id": "c52f4e63-c020-4eb8-956a-2d387603b4f4",
       "version_major": 2,
       "version_minor": 0
      },
      "method": "display_data"
     },
     "metadata": {},
     "output_type": "display_data"
    }
   ],
   "source": [
    "(let [pred (fn [m] (let [surv (get m \"Survived\")] (if (= surv \"1\") (get m \"Pclass\"))))]\n",
    "    (hist-plot nil\n",
    "               (keep pred male-passengers)\n",
    "               Color/green\n",
    "               \"Pclass\"\n",
    "               \"Frequency\"\n",
    "               \"Survivors per Pclass\"))"
   ]
  },
  {
   "cell_type": "markdown",
   "id": "0e3bc3fb-291f-43f4-b777-f5b0f5143149",
   "metadata": {},
   "source": [
    "First class has the most survivors, interestingly third class is second followed by second class"
   ]
  },
  {
   "cell_type": "code",
   "execution_count": 33,
   "id": "d363f599-03e1-4d3b-abdd-3d3da97ffc3f",
   "metadata": {
    "tags": []
   },
   "outputs": [
    {
     "data": {
      "application/vnd.jupyter.widget-view+json": {
       "model_id": "69bdf089-0ba9-42cd-a819-d00ab2e49b09",
       "version_major": 2,
       "version_minor": 0
      },
      "method": "display_data"
     },
     "metadata": {},
     "output_type": "display_data"
    }
   ],
   "source": [
    "(let [survd (filter #(= \"1\" (get % \"Survived\")) male-passengers)\n",
    "      ports (group-by #(get % \"Embarked\") survd)\n",
    "      ks (keys ports)\n",
    "      counts (map count (vals ports))\n",
    "      form-string (map (constantly \"%20s\") (range (count ks)))]\n",
    "    (bar-plot (map #(identity %2) ks (range))\n",
    "              counts\n",
    "              [Color/red Color/blue Color/yellow Color/green]\n",
    "              0.5\n",
    "              (fn [p] (show! p \"Survivors per port\" (apply format (apply str form-string) ks) \"Surv count\"))))"
   ]
  },
  {
   "cell_type": "markdown",
   "id": "89f069fc-7d99-49af-8fbe-f8244e838745",
   "metadata": {},
   "source": [
    "Lets check the Pclass of Southampton"
   ]
  },
  {
   "cell_type": "code",
   "execution_count": 34,
   "id": "c1f8d91f-154d-4d1c-b898-cedce37f6de4",
   "metadata": {
    "tags": []
   },
   "outputs": [
    {
     "data": {
      "application/vnd.jupyter.widget-view+json": {
       "model_id": "251786eb-afb6-4749-ab53-92182729eb39",
       "version_major": 2,
       "version_minor": 0
      },
      "method": "display_data"
     },
     "metadata": {},
     "output_type": "display_data"
    }
   ],
   "source": [
    "(let [south (filter #(= \"Southampton\" (get % \"Embarked\")) male-passengers)\n",
    "      by-class (group-by #(get % \"Pclass\") south)\n",
    "      ks (keys by-class)\n",
    "      counts (map count (vals by-class))\n",
    "      form-string (apply str (repeat (count ks) \"%20s\"))]\n",
    "    (bar-plot (map #(identity %2) ks (range))\n",
    "              counts\n",
    "              [Color/green Color/red Color/blue]\n",
    "              0.4\n",
    "              (fn [p] (show! p \"Survivors(count) by Pclass in Southampton\" (apply format form-string ks) \"Survived\"))))"
   ]
  },
  {
   "cell_type": "code",
   "execution_count": 35,
   "id": "e733ddb6-704c-4efb-856f-d06784be7357",
   "metadata": {
    "tags": []
   },
   "outputs": [
    {
     "data": {
      "application/vnd.jupyter.widget-view+json": {
       "model_id": "43c8fe1e-f119-49db-9e31-8fc12d32ad73",
       "version_major": 2,
       "version_minor": 0
      },
      "method": "display_data"
     },
     "metadata": {},
     "output_type": "display_data"
    }
   ],
   "source": [
    "(filter #(= (get % \"Survived\") \"1\")\n",
    "        (filter #(= \"Southampton\" (get % \"Embarked\")) male-passengers))"
   ]
  },
  {
   "cell_type": "code",
   "execution_count": 36,
   "id": "3e132892-b375-427e-ae78-03f2158b8d97",
   "metadata": {
    "tags": []
   },
   "outputs": [
    {
     "data": {
      "text/plain": [
       "#'beaker_clojure_shell_ed045675-d4fe-4cdd-9de3-4eda4c147f44/query-data"
      ]
     },
     "execution_count": 36,
     "metadata": {},
     "output_type": "execute_result"
    }
   ],
   "source": [
    "(defn query-data\n",
    "    ([queries coll]\n",
    "     (lazy-seq\n",
    "      (if-let [s (seq queries)]\n",
    "          (let [f (first s)]\n",
    "              (filter f (query-data (rest s) coll)))\n",
    "          coll)))\n",
    "    ([queries coll do-after]\n",
    "     (do-after (query-data queries coll))))"
   ]
  },
  {
   "cell_type": "code",
   "execution_count": 37,
   "id": "cc6aa9c7-e528-430a-968a-e197bbd4906e",
   "metadata": {
    "tags": []
   },
   "outputs": [
    {
     "data": {
      "application/vnd.jupyter.widget-view+json": {
       "model_id": "e19f649c-cbeb-450e-81a4-f357e507bb38",
       "version_major": 2,
       "version_minor": 0
      },
      "method": "display_data"
     },
     "metadata": {},
     "output_type": "display_data"
    }
   ],
   "source": [
    "(query-data [#(= \"3\" (get % \"Pclass\"))#(= \"1\" (get % \"Survived\"))#(= \"Southampton\" (get % \"Embarked\"))]\n",
    "            male-passengers)"
   ]
  },
  {
   "cell_type": "code",
   "execution_count": 38,
   "id": "314beb56-4385-4080-8b34-19b336b90ac1",
   "metadata": {
    "tags": []
   },
   "outputs": [
    {
     "data": {
      "application/vnd.jupyter.widget-view+json": {
       "model_id": "af4ae9f3-067f-4d70-aef6-8d1191b414ba",
       "version_major": 2,
       "version_minor": 0
      },
      "method": "display_data"
     },
     "metadata": {},
     "output_type": "display_data"
    }
   ],
   "source": [
    "(query-data [#(= \"3\" (get % \"Pclass\"))#(= \"1\" (get % \"Survived\"))#(= \"Southampton\" (get % \"Embarked\"))]\n",
    "            male-passengers\n",
    "            (fn [data] (reduce (fn [acc [k v]] (assoc acc k (count v)))\n",
    "                               {}\n",
    "                               (group-by #(read-n* (get % \"Age\")) data))))"
   ]
  },
  {
   "cell_type": "markdown",
   "id": "de4005ea-a779-407c-8297-a377d6b7d2f2",
   "metadata": {},
   "source": [
    "Clearly most of the survivors in third class have ages close or below 30, lets see the other 2 classes."
   ]
  },
  {
   "cell_type": "code",
   "execution_count": 39,
   "id": "dd02dd6c-cce1-4486-9121-6bb1e20ce414",
   "metadata": {
    "tags": []
   },
   "outputs": [
    {
     "data": {
      "application/vnd.jupyter.widget-view+json": {
       "model_id": "39d69376-34bf-4882-a770-f8b34e061df4",
       "version_major": 2,
       "version_minor": 0
      },
      "method": "display_data"
     },
     "metadata": {},
     "output_type": "display_data"
    }
   ],
   "source": [
    "(query-data [#(= \"1\" (get % \"Pclass\"))#(= \"1\" (get % \"Survived\"))#(= \"Southampton\" (get % \"Embarked\"))]\n",
    "            male-passengers\n",
    "            (fn [data] (reduce (fn [acc [k v]] (assoc acc k (count v)))\n",
    "                               {}\n",
    "                               (group-by #(read-n* (get % \"Age\")) data))))"
   ]
  },
  {
   "cell_type": "code",
   "execution_count": 40,
   "id": "9235dcc9-42eb-4b64-8de1-34a557dac944",
   "metadata": {
    "tags": []
   },
   "outputs": [
    {
     "data": {
      "application/vnd.jupyter.widget-view+json": {
       "model_id": "83ba4370-4cf5-42dd-9030-6f839ff75a26",
       "version_major": 2,
       "version_minor": 0
      },
      "method": "display_data"
     },
     "metadata": {},
     "output_type": "display_data"
    }
   ],
   "source": [
    "(query-data [#(= \"1\" (get % \"Pclass\"))#(= \"1\" (get % \"Survived\"))#(= \"Southampton\" (get % \"Embarked\"))]\n",
    "            male-passengers\n",
    "            (fn [data] \n",
    "                (let [mp (reduce (fn [acc [k v]] \n",
    "                                     (assoc acc k (count v))) \n",
    "                                 {} \n",
    "                                 (group-by #(int (read-n* (get % \"Age\"))) data))]\n",
    "                    (query-data nil\n",
    "                     (reduce (fn [acc [k v]]\n",
    "                                 (assoc acc k (map key v)))\n",
    "                             {}\n",
    "                             (group-by val mp))\n",
    "                      (fn [data] (reduce (fn [acc [k v]]\n",
    "                                             (assoc acc (apply list v) (* k (count v))))\n",
    "                                         {}\n",
    "                                         data))))))"
   ]
  },
  {
   "cell_type": "markdown",
   "id": "dfbf036d-97d0-477b-823d-c5aa86ce1d5a",
   "metadata": {},
   "source": [
    "We begin to see ages further above 30, although we still see some like in third class"
   ]
  },
  {
   "cell_type": "code",
   "execution_count": 41,
   "id": "fd9a9dfc-0ae5-433a-8504-157c9498bcbc",
   "metadata": {
    "tags": []
   },
   "outputs": [
    {
     "data": {
      "application/vnd.jupyter.widget-view+json": {
       "model_id": "cdb57fd5-f967-408a-9f0b-86260f9dfc92",
       "version_major": 2,
       "version_minor": 0
      },
      "method": "display_data"
     },
     "metadata": {},
     "output_type": "display_data"
    }
   ],
   "source": [
    "(query-data [#(= \"2\" (get % \"Pclass\"))#(= \"1\" (get % \"Survived\"))#(= \"Southampton\" (get % \"Embarked\"))]\n",
    "            male-passengers\n",
    "            (fn [data] \n",
    "                (let [mp (reduce (fn [acc [k v]] \n",
    "                                     (assoc acc k (count v))) \n",
    "                                 {} \n",
    "                                 (group-by #(int (read-n* (get % \"Age\"))) data))]\n",
    "                    (query-data nil\n",
    "                     (reduce (fn [acc [k v]]\n",
    "                                 (assoc acc k (map key v)))\n",
    "                             {}\n",
    "                             (group-by val mp))\n",
    "                      (fn [data] (reduce (fn [acc [k v]]\n",
    "                                             (assoc acc (apply list v) (* k (count v))))\n",
    "                                         {}\n",
    "                                         data))))))"
   ]
  },
  {
   "cell_type": "markdown",
   "id": "e1014f9c-2903-4ec8-ac51-908a1acbf26b",
   "metadata": {},
   "source": [
    "We see the ages start to get closer again to 30"
   ]
  },
  {
   "cell_type": "code",
   "execution_count": 42,
   "id": "be72b6f0-e4a7-43c2-bda2-861564f177c4",
   "metadata": {
    "tags": []
   },
   "outputs": [
    {
     "data": {
      "application/vnd.jupyter.widget-view+json": {
       "model_id": "f9039164-796a-4b01-8472-0309a38127e1",
       "version_major": 2,
       "version_minor": 0
      },
      "method": "display_data"
     },
     "metadata": {},
     "output_type": "display_data"
    }
   ],
   "source": [
    "(query-data [#(= \"2\" (get % \"Pclass\"))#(= \"1\" (get % \"Survived\"))#(= \"Southampton\" (get % \"Embarked\"))]\n",
    "            male-passengers)"
   ]
  },
  {
   "cell_type": "markdown",
   "id": "ba3c882f-7ff1-4624-be21-e7fa289ba25d",
   "metadata": {},
   "source": [
    "It seems that the vast majority of survivors in second class were travelling with family"
   ]
  },
  {
   "cell_type": "code",
   "execution_count": 43,
   "id": "c04b7ccf-cd63-45c0-98bc-d9140262f772",
   "metadata": {
    "tags": []
   },
   "outputs": [
    {
     "data": {
      "application/vnd.jupyter.widget-view+json": {
       "model_id": "b5fd3ac5-9560-4b86-84dd-713825cda99f",
       "version_major": 2,
       "version_minor": 0
      },
      "method": "display_data"
     },
     "metadata": {},
     "output_type": "display_data"
    }
   ],
   "source": [
    "(query-data [#(= \"1\" (get % \"Pclass\"))#(= \"1\" (get % \"Survived\"))#(= \"Southampton\" (get % \"Embarked\"))]\n",
    "            male-passengers)"
   ]
  },
  {
   "cell_type": "markdown",
   "id": "0137b5f7-006a-4a74-a40e-d5bbaeddee1e",
   "metadata": {},
   "source": [
    "Not many were travelling with family in first class"
   ]
  },
  {
   "cell_type": "code",
   "execution_count": 44,
   "id": "11fe8734-98f0-4a1f-b20a-c2f213bab564",
   "metadata": {
    "tags": []
   },
   "outputs": [
    {
     "data": {
      "application/vnd.jupyter.widget-view+json": {
       "model_id": "62570361-4c66-497a-9e12-ee7572fbe11f",
       "version_major": 2,
       "version_minor": 0
      },
      "method": "display_data"
     },
     "metadata": {},
     "output_type": "display_data"
    }
   ],
   "source": [
    "(let [south (query-data [#(= \"Southampton\" (get % \"Embarked\"))]\n",
    "                        male-passengers)\n",
    "      by-class (group-by #(get % \"Pclass\") south)\n",
    "      ks (keys by-class)\n",
    "      percents (map (fn [v]\n",
    "                        (let [surv (filter #(= \"1\" (get % \"Survived\")) v)]\n",
    "                            (float (* 100 (/ (count surv) (count v)))))) (vals by-class))\n",
    "      form-s (apply str (repeat (count ks) \"%20s\"))]\n",
    "    (bar-plot (map #(identity %2) ks (range))\n",
    "              percents\n",
    "              [Color/green Color/blue Color/red]\n",
    "              0.3\n",
    "              (fn [p] (show! p \"Survival percent per Pclass\" (apply format form-s ks) \"Percent %\"))))"
   ]
  },
  {
   "cell_type": "markdown",
   "id": "23a03de2-fc59-4e42-94a3-cfb7c941af0c",
   "metadata": {},
   "source": [
    "The class that has the highest survival rate is first class followed by second which we know that most of the passengers were travelling with <br>\n",
    "family, and then third-class which have the ages closer to or below 30."
   ]
  },
  {
   "cell_type": "code",
   "execution_count": 45,
   "id": "44241888-4b21-4b53-a6b7-b0cadb7dc9d2",
   "metadata": {
    "tags": []
   },
   "outputs": [
    {
     "data": {
      "application/vnd.jupyter.widget-view+json": {
       "model_id": "2ea33435-1855-4b4e-95df-7b2d32c96e6a",
       "version_major": 2,
       "version_minor": 0
      },
      "method": "display_data"
     },
     "metadata": {},
     "output_type": "display_data"
    }
   ],
   "source": [
    "(let [south (filter #(= \"Cherbourg\" (get % \"Embarked\")) male-passengers)\n",
    "      by-class (group-by #(get % \"Pclass\") south)\n",
    "      ks (keys by-class)\n",
    "      counts (map count (vals by-class))\n",
    "      form-string (apply str (repeat (count ks) \"%20s\"))]\n",
    "    (bar-plot (map #(identity %2) ks (range))\n",
    "              counts\n",
    "              [Color/green Color/red Color/blue]\n",
    "              0.4\n",
    "              (fn [p] (show! p \"Survivors by Pclass in Cherbourg\" (apply format form-string ks) \"Survived\"))))"
   ]
  },
  {
   "cell_type": "code",
   "execution_count": 46,
   "id": "ef5e15f4-cacb-41f7-bd3c-3cb94153f36a",
   "metadata": {
    "tags": []
   },
   "outputs": [
    {
     "data": {
      "application/vnd.jupyter.widget-view+json": {
       "model_id": "d197fc0c-9bf6-4afb-bd59-d86510fb0bf0",
       "version_major": 2,
       "version_minor": 0
      },
      "method": "display_data"
     },
     "metadata": {},
     "output_type": "display_data"
    }
   ],
   "source": [
    "(query-data [#(= \"1\" (get % \"Pclass\"))#(= \"1\" (get % \"Survived\"))#(= \"Cherbourg\" (get % \"Embarked\"))]\n",
    "            male-passengers\n",
    "            (fn [data] (reduce (fn [acc [k v]] (assoc acc k (count v)))\n",
    "                               {}\n",
    "                               (group-by #(read-n* (get % \"Age\")) data))))"
   ]
  },
  {
   "cell_type": "markdown",
   "id": "554cd913-496e-48db-a34a-c988512c639b",
   "metadata": {},
   "source": [
    "More ages closer to 20 or below 30 in first class passengers that boarded in Cherbourg"
   ]
  },
  {
   "cell_type": "code",
   "execution_count": 47,
   "id": "41ab8b83-628d-4ec9-b25c-ab9ddd5ce10f",
   "metadata": {
    "tags": []
   },
   "outputs": [
    {
     "data": {
      "application/vnd.jupyter.widget-view+json": {
       "model_id": "ef733897-7bce-40c2-8266-bf31a80153e3",
       "version_major": 2,
       "version_minor": 0
      },
      "method": "display_data"
     },
     "metadata": {},
     "output_type": "display_data"
    }
   ],
   "source": [
    "(query-data [#(= \"3\" (get % \"Pclass\"))#(= \"1\" (get % \"Survived\"))#(= \"Cherbourg\" (get % \"Embarked\"))]\n",
    "            male-passengers\n",
    "            (fn [data] (reduce (fn [acc [k v]] (assoc acc k (count v)))\n",
    "                               {}\n",
    "                               (group-by #(read-n* (get % \"Age\")) data))))"
   ]
  },
  {
   "cell_type": "markdown",
   "id": "458ead21-c6a6-4e4b-ae77-7ed07cb6874f",
   "metadata": {},
   "source": [
    "All third class passenger survivors that boarded in Cherbourg had ages below 30"
   ]
  },
  {
   "cell_type": "code",
   "execution_count": 48,
   "id": "2aba223b-eb8b-4bed-80a2-60852baee4ec",
   "metadata": {
    "tags": []
   },
   "outputs": [
    {
     "data": {
      "application/vnd.jupyter.widget-view+json": {
       "model_id": "a99462f9-8de0-42e2-9a94-28faf375e6c4",
       "version_major": 2,
       "version_minor": 0
      },
      "method": "display_data"
     },
     "metadata": {},
     "output_type": "display_data"
    }
   ],
   "source": [
    "(query-data [#(= \"2\" (get % \"Pclass\"))#(= \"1\" (get % \"Survived\"))#(= \"Cherbourg\" (get % \"Embarked\"))]\n",
    "            male-passengers\n",
    "            (fn [data] (reduce (fn [acc [k v]] (assoc acc k (count v)))\n",
    "                               {}\n",
    "                               (group-by #(read-n* (get % \"Age\")) data))))"
   ]
  },
  {
   "cell_type": "markdown",
   "id": "d557f628-5b28-492d-911c-ba9d2354cb0d",
   "metadata": {},
   "source": [
    "Only 2 people from second class survived, also to notice is that as the number of survivors is decreasing the percent of ages below 30 <br>\n",
    "with respect to the number of survivors is increasing"
   ]
  },
  {
   "cell_type": "code",
   "execution_count": 49,
   "id": "72931ab1-0307-41eb-a4e4-9ad6fa1a7f11",
   "metadata": {
    "tags": []
   },
   "outputs": [
    {
     "data": {
      "application/vnd.jupyter.widget-view+json": {
       "model_id": "c586331b-f112-442d-9408-63d652b278ff",
       "version_major": 2,
       "version_minor": 0
      },
      "method": "display_data"
     },
     "metadata": {},
     "output_type": "display_data"
    }
   ],
   "source": [
    "(query-data [#(= \"1\" (get % \"Pclass\"))#(= \"1\" (get % \"Survived\"))#(= \"Cherbourg\" (get % \"Embarked\"))]\n",
    "            male-passengers)"
   ]
  },
  {
   "cell_type": "markdown",
   "id": "6f40eef0-7932-4c49-82c2-a1ab9e03ad1e",
   "metadata": {},
   "source": [
    "We see passengers with family on board in first class"
   ]
  },
  {
   "cell_type": "code",
   "execution_count": 50,
   "id": "7544dec0-5003-42f0-8a17-1618a84c0cae",
   "metadata": {
    "tags": []
   },
   "outputs": [
    {
     "data": {
      "application/vnd.jupyter.widget-view+json": {
       "model_id": "07075464-3adb-425c-a84f-8d6242fde844",
       "version_major": 2,
       "version_minor": 0
      },
      "method": "display_data"
     },
     "metadata": {},
     "output_type": "display_data"
    }
   ],
   "source": [
    "(query-data [#(= \"3\" (get % \"Pclass\"))#(= \"1\" (get % \"Survived\"))#(= \"Cherbourg\" (get % \"Embarked\"))]\n",
    "            male-passengers)"
   ]
  },
  {
   "cell_type": "markdown",
   "id": "5c27ea1f-f183-4b19-8887-9b18556b35b9",
   "metadata": {},
   "source": [
    "50% of the third class survivors had either a sibling or spouse or had children or had parents"
   ]
  },
  {
   "cell_type": "code",
   "execution_count": 51,
   "id": "8c4fb190-26e3-41aa-a378-139761e68c1a",
   "metadata": {
    "tags": []
   },
   "outputs": [
    {
     "data": {
      "application/vnd.jupyter.widget-view+json": {
       "model_id": "80518929-2f65-497b-8b12-c855d3ff9f67",
       "version_major": 2,
       "version_minor": 0
      },
      "method": "display_data"
     },
     "metadata": {},
     "output_type": "display_data"
    }
   ],
   "source": [
    "(query-data [#(= \"2\" (get % \"Pclass\"))#(= \"1\" (get % \"Survived\"))#(= \"Cherbourg\" (get % \"Embarked\"))]\n",
    "            male-passengers)"
   ]
  },
  {
   "cell_type": "markdown",
   "id": "54a5e164-1da1-4ac4-9b7d-9255e3a333eb",
   "metadata": {},
   "source": [
    "1 second class survivor out of the 2 had family"
   ]
  },
  {
   "cell_type": "code",
   "execution_count": 52,
   "id": "177eb527-7587-4dee-9fd5-4174b4ce2c00",
   "metadata": {
    "tags": []
   },
   "outputs": [
    {
     "data": {
      "application/vnd.jupyter.widget-view+json": {
       "model_id": "1bf90c35-3f1e-4fb3-bed3-8d2660f4de5e",
       "version_major": 2,
       "version_minor": 0
      },
      "method": "display_data"
     },
     "metadata": {},
     "output_type": "display_data"
    }
   ],
   "source": [
    "(let [cher (query-data [#(= \"Cherbourg\" (get % \"Embarked\"))]\n",
    "                        male-passengers)\n",
    "      by-class (group-by #(get % \"Pclass\") cher)\n",
    "      ks (keys by-class)\n",
    "      percents (map (fn [v]\n",
    "                        (let [surv (filter #(= \"1\" (get % \"Survived\")) v)]\n",
    "                            (float (* 100 (/ (count surv) (count v)))))) (vals by-class))\n",
    "      form-s (apply str (repeat (count ks) \"%20s\"))]\n",
    "    (bar-plot (map #(identity %2) ks (range))\n",
    "              percents\n",
    "              [Color/green Color/blue Color/red]\n",
    "              0.3\n",
    "              (fn [p] (show! p \"Survival percent per Pclass\" (apply format form-s ks) \"Percent %\"))))"
   ]
  },
  {
   "cell_type": "markdown",
   "id": "91606a2f-873e-4ef3-885a-8c590cb95771",
   "metadata": {},
   "source": [
    "In this case the rank of survivors gives the same positions with first class followed by third class followed by second class as the survival rate"
   ]
  },
  {
   "cell_type": "code",
   "execution_count": 53,
   "id": "98eac60b-b16d-41b6-8671-d57ee1926dce",
   "metadata": {
    "tags": []
   },
   "outputs": [
    {
     "name": "stdout",
     "output_type": "stream",
     "text": [
      "([1 17.307692] [4 0.64102566] [6 0.64102566] [5 0.0] [2 19.23077] [7 0.0] [3 5.1282053] [10 0.0])\n"
     ]
    },
    {
     "data": {
      "application/vnd.jupyter.widget-view+json": {
       "model_id": "7b605d04-823c-4a45-ba4b-419b3cc60834",
       "version_major": 2,
       "version_minor": 0
      },
      "method": "display_data"
     },
     "metadata": {},
     "output_type": "display_data"
    }
   ],
   "source": [
    "(let [with-family (remove #(and (= \"0\" (get % \"Parch\")) (= \"0\" (get % \"SibSp\"))) male-passengers)\n",
    "      survived (filter #(= \"1\" (get % \"Survived\")) male-passengers)\n",
    "      by-num (group-by #(+ (read-n* (get % \"SibSp\")) (read-n* (get % \"Parch\"))) with-family)\n",
    "      ks (keys by-num)\n",
    "      perc (map (fn [v]\n",
    "                    (let [surv (filter #(= \"1\" (get % \"Survived\")) v)]\n",
    "                        (float (* 100 (/ (count surv) (count survived)))))) (vals by-num))]\n",
    "    (println (map vector ks perc))\n",
    "    (scatter-plot ks\n",
    "                  perc\n",
    "                  Color/green\n",
    "                  (fn [p] (show! p \"Distribution of percentage of total survived by family number\" \"Family\" \"Percentage %\"))))"
   ]
  },
  {
   "cell_type": "markdown",
   "id": "b8338910-1276-475b-83d0-743d36a26bfa",
   "metadata": {},
   "source": [
    "Interestingly the passengers with the most family members are among those that occupy the less percentage of total male survivors of the titanic,\n",
    "with 1 or 2 family members having the most percentage of the total male survivors that there were."
   ]
  },
  {
   "cell_type": "code",
   "execution_count": 54,
   "id": "e030e9db-0114-498c-a04e-652a284c8217",
   "metadata": {
    "tags": []
   },
   "outputs": [
    {
     "data": {
      "text/plain": [
       "#'beaker_clojure_shell_ed045675-d4fe-4cdd-9de3-4eda4c147f44/get-n"
      ]
     },
     "execution_count": 54,
     "metadata": {},
     "output_type": "execute_result"
    }
   ],
   "source": [
    "(def get-n (comp read-n* get))"
   ]
  },
  {
   "cell_type": "code",
   "execution_count": 55,
   "id": "a2933d02-0270-4a0c-8ab5-44b2b981d0b0",
   "metadata": {
    "tags": []
   },
   "outputs": [
    {
     "data": {
      "application/vnd.jupyter.widget-view+json": {
       "model_id": "aa92d89b-bdf5-4441-a238-5710a49ab6fa",
       "version_major": 2,
       "version_minor": 0
      },
      "method": "display_data"
     },
     "metadata": {},
     "output_type": "display_data"
    }
   ],
   "source": [
    "(filter #(= 6 (+ (get-n % \"Parch\") (get-n % \"SibSp\"))) male-passengers)"
   ]
  },
  {
   "cell_type": "code",
   "execution_count": 56,
   "id": "8ea88e94-169c-4446-a3b0-d8f4256dbfbd",
   "metadata": {
    "tags": []
   },
   "outputs": [
    {
     "data": {
      "text/plain": [
       "25"
      ]
     },
     "execution_count": 56,
     "metadata": {},
     "output_type": "execute_result"
    }
   ],
   "source": [
    "(query-data [#(= 6 (+ (get-n % \"Parch\") (get-n % \"SibSp\")))]\n",
    "            male-passengers\n",
    "            (fn [data] (let [size (count data)] (* 100 (/ (count (filter #(= 1 (get-n % \"Survived\")) data)) size)))))"
   ]
  },
  {
   "cell_type": "markdown",
   "id": "c11ab433-df80-4fc0-a6b0-03dc742a79f8",
   "metadata": {},
   "source": [
    "25% survival for individuals with six family members."
   ]
  },
  {
   "cell_type": "code",
   "execution_count": 57,
   "id": "4c1b4f0d-35cb-423b-8990-c4c3b7f40090",
   "metadata": {
    "tags": []
   },
   "outputs": [
    {
     "data": {
      "application/vnd.jupyter.widget-view+json": {
       "model_id": "a4d62698-57d5-4eed-aa7b-295a26c71b3d",
       "version_major": 2,
       "version_minor": 0
      },
      "method": "display_data"
     },
     "metadata": {},
     "output_type": "display_data"
    }
   ],
   "source": [
    "(filter #(= 4 (+ (get-n % \"Parch\") (get-n % \"SibSp\"))) male-passengers)"
   ]
  },
  {
   "cell_type": "code",
   "execution_count": 58,
   "id": "240927b6-3340-4cc3-b855-1275b543f338",
   "metadata": {
    "tags": []
   },
   "outputs": [
    {
     "data": {
      "text/plain": [
       "20.0"
      ]
     },
     "execution_count": 58,
     "metadata": {},
     "output_type": "execute_result"
    }
   ],
   "source": [
    "(query-data [#(= 4 (+ (get-n % \"Parch\") (get-n % \"SibSp\")))]\n",
    "            male-passengers\n",
    "            (fn [data]\n",
    "                (let [size (count data)\n",
    "                      surv (filter #(= 1 (get-n % \"Survived\")) data)]\n",
    "                    (float (* 100 (/ (count surv) size))))))"
   ]
  },
  {
   "cell_type": "markdown",
   "id": "e769a7d7-34c9-4e94-a15c-edca1cc52934",
   "metadata": {},
   "source": [
    "20% Survival for 4 family members"
   ]
  },
  {
   "cell_type": "code",
   "execution_count": 59,
   "id": "5c6de0dc-65e1-4589-b71d-c87cc2456977",
   "metadata": {
    "tags": []
   },
   "outputs": [
    {
     "data": {
      "application/vnd.jupyter.widget-view+json": {
       "model_id": "c48dd958-badb-4549-9ef7-58c376af0128",
       "version_major": 2,
       "version_minor": 0
      },
      "method": "display_data"
     },
     "metadata": {},
     "output_type": "display_data"
    }
   ],
   "source": [
    "(query-data [#(= 3 (+ (get-n % \"Parch\") (get-n % \"SibSp\")))]\n",
    "            male-passengers)"
   ]
  },
  {
   "cell_type": "code",
   "execution_count": 60,
   "id": "e91a500c-34d0-4382-9cf8-1e5cc10c214f",
   "metadata": {
    "tags": []
   },
   "outputs": [
    {
     "data": {
      "text/plain": [
       "47.058823"
      ]
     },
     "execution_count": 60,
     "metadata": {},
     "output_type": "execute_result"
    }
   ],
   "source": [
    "(query-data [#(= 3 (+ (get-n % \"Parch\") (get-n % \"SibSp\")))]\n",
    "            male-passengers\n",
    "            (fn [data]\n",
    "                (let [size (count data)\n",
    "                      surv (filter #(= 1 (get-n % \"Survived\")) data)]\n",
    "                    (float (* 100 (/ (count surv) size))))))"
   ]
  },
  {
   "cell_type": "markdown",
   "id": "5a7635cb-9c47-4420-bb7b-4652f715165d",
   "metadata": {},
   "source": [
    "47.06% of survival, also we start to find more first class passengers with some of second class and 3 of third class"
   ]
  },
  {
   "cell_type": "code",
   "execution_count": null,
   "id": "416caf36-a45d-4c66-825d-3ff85cdcd250",
   "metadata": {
    "tags": []
   },
   "outputs": [],
   "source": [
    "(query-data [#(= 2 (+ (get-n % \"Parch\") (get-n % \"SibSp\")))]\n",
    "            male-passengers)"
   ]
  },
  {
   "cell_type": "code",
   "execution_count": null,
   "id": "aceab957-45a5-4dfb-92bf-26357136d742",
   "metadata": {
    "tags": []
   },
   "outputs": [
    {
     "data": {
      "text/plain": [
       "39.473682"
      ]
     },
     "execution_count": 62,
     "metadata": {},
     "output_type": "execute_result"
    }
   ],
   "source": [
    "(query-data [#(= 2 (+ (get-n % \"Parch\") (get-n % \"SibSp\")))]\n",
    "            male-passengers\n",
    "            (fn [data]\n",
    "                (let [size (count data)\n",
    "                      surv (filter #(= 1 (get-n % \"Survived\")) data)]\n",
    "                    (float (* 100 (/ (count surv) size))))))"
   ]
  },
  {
   "cell_type": "markdown",
   "id": "b5efc0a5-893b-4d3f-a99b-76991a9fc4ea",
   "metadata": {},
   "source": [
    "39.47% survival rate. Something worth noting is that many albeit a pair of exceptions did not have an age above 10 and <br>\n",
    "many were either 2nd or 3rd class. Many 1st class passengers in this category did not have an age below 10. 1st class had the most survivors <br>\n",
    "followed by 2nd and then 3rd class."
   ]
  },
  {
   "cell_type": "code",
   "execution_count": null,
   "id": "0e0361b9-f5b4-4413-a676-1a4e1c25a9af",
   "metadata": {
    "tags": []
   },
   "outputs": [
    {
     "data": {
      "application/vnd.jupyter.widget-view+json": {
       "model_id": "cf286eb6-5e99-4cdd-b0ca-7080b9202fbd",
       "version_major": 2,
       "version_minor": 0
      },
      "method": "display_data"
     },
     "metadata": {},
     "output_type": "display_data"
    }
   ],
   "source": [
    "(query-data [#(= 1 (+ (get-n % \"Parch\") (get-n % \"SibSp\")))]\n",
    "            male-passengers)"
   ]
  },
  {
   "cell_type": "code",
   "execution_count": 64,
   "id": "4712bbfa-0d2c-4520-90df-5719077c90c2",
   "metadata": {
    "tags": []
   },
   "outputs": [
    {
     "data": {
      "text/plain": [
       "28.125"
      ]
     },
     "execution_count": 64,
     "metadata": {},
     "output_type": "execute_result"
    }
   ],
   "source": [
    "(query-data [#(= 1 (+ (get-n % \"Parch\") (get-n % \"SibSp\")))]\n",
    "            male-passengers\n",
    "            (fn [data]\n",
    "                (let [size (count data)\n",
    "                      surv (filter #(= 1 (get-n % \"Survived\")) data)]\n",
    "                    (float (* 100 (/ (count surv) size))))))"
   ]
  },
  {
   "cell_type": "code",
   "execution_count": 65,
   "id": "a34e936e-4ca0-46b4-b60f-bac571e79923",
   "metadata": {
    "tags": []
   },
   "outputs": [
    {
     "data": {
      "text/plain": [
       "[[1, 52.083332], [2, 18.75], [3, 29.166666]]"
      ]
     },
     "execution_count": 65,
     "metadata": {},
     "output_type": "execute_result"
    }
   ],
   "source": [
    "(query-data [#(= 1 (+ (get-n % \"Parch\") (get-n % \"SibSp\")))]\n",
    "            male-passengers\n",
    "            (fn [data]\n",
    "                (let [size (count data)\n",
    "                      surv (map (fn [pclass]\n",
    "                                    [pclass (filter #(= pclass (get-n % \"Pclass\")) data)])\n",
    "                                [1 2 3])]\n",
    "                    (map (fn [[pclass query]] [pclass (float (* 100 (/ (count query) size)))]) surv))))"
   ]
  },
  {
   "cell_type": "markdown",
   "id": "b53291c3-29a6-424e-9e92-a5410c96bad0",
   "metadata": {},
   "source": [
    "* __1st:__ 52.08% survival\n",
    "* __3rd:__ 29.17% survival\n",
    "* __2nd:__ 18.75% survival"
   ]
  },
  {
   "cell_type": "markdown",
   "id": "9b9f0207-d4b3-4cc9-b7fa-f0978272aa6d",
   "metadata": {
    "tags": []
   },
   "source": [
    "__Conclusion about male passengers in the titanic:__ The ages with the lowest survival are (from 72 to 80), (from 16 to 24), (from 24 to 32), and (from 56 to 64). There was only one passenger that had an age of 80(Pclass 1) and survived. There were more survivors that embarked in Southampton, second Cherbourg and then Queenstown. The younger the passengers were of age and if they were of 2nd class, were highly likely to survive followed by 3rd class, older or younger 1st class passengers were more likely to survive in comparison with older or younger 2nd and 3rd class passengers."
   ]
  },
  {
   "cell_type": "code",
   "execution_count": 66,
   "id": "aacf28fd-56aa-4df6-9e59-114b7e29ac0e",
   "metadata": {},
   "outputs": [
    {
     "data": {
      "application/vnd.jupyter.widget-view+json": {
       "model_id": "217bdf93-9a5f-4b8d-b102-68a8b6563e0b",
       "version_major": 2,
       "version_minor": 0
      },
      "method": "display_data"
     },
     "metadata": {},
     "output_type": "display_data"
    }
   ],
   "source": [
    "(query-data [#(= 1 (get-n % \"Survived\"))]\n",
    "            female-passengers\n",
    "            (fn [data]\n",
    "                (let [per #(float (* 100 (/ (count %) (count data))))\n",
    "                      by-age (group-by #(int (get-n % \"Age\")) data)\n",
    "                      sorted (sort-by first by-age)]\n",
    "                    (line-plot (map first sorted)\n",
    "                               (map (comp per second) sorted) \n",
    "                               Color/green\n",
    "                               (fn [p] (show! p \"Survival rate per Age\" \"Age\" \"Survival\"))))))"
   ]
  },
  {
   "cell_type": "markdown",
   "id": "4e7a7b3a-424b-4fce-a865-2967e9748e33",
   "metadata": {},
   "source": [
    "We see that about 10.75% of the total female passengers that survived had an age of about 23"
   ]
  },
  {
   "cell_type": "code",
   "execution_count": 67,
   "id": "ecb446ff-9189-4169-9625-9edb8beadf43",
   "metadata": {
    "tags": []
   },
   "outputs": [
    {
     "data": {
      "application/vnd.jupyter.widget-view+json": {
       "model_id": "0a7b9141-7800-4a92-81f1-1d4dd67e1bdf",
       "version_major": 2,
       "version_minor": 0
      },
      "method": "display_data"
     },
     "metadata": {},
     "output_type": "display_data"
    }
   ],
   "source": [
    "(query-data [#(= 1 (get-n % \"Survived\"))]\n",
    "            female-passengers\n",
    "            (fn [data]\n",
    "                (let [form-string (apply str (repeat 3 \"%20s\"))]\n",
    "                    (query-data [#(= 23 (int (get-n % \"Age\")))]\n",
    "                                data\n",
    "                                (fn [dta]\n",
    "                                    (let [per #(* 100 (/ (count %) (count dta)))\n",
    "                                          pclass (group-by #(get-n % \"Pclass\") dta)\n",
    "                                          sorted (sort-by first pclass)]\n",
    "                                        (bar-plot (map first sorted)\n",
    "                                                  (map (comp float per second) sorted)\n",
    "                                                  [Color/yellow Color/green Color/red]\n",
    "                                                  0.2\n",
    "                                                  (fn [p]\n",
    "                                                      (let [title \"Pclass % in female passengers of age ~23\"]\n",
    "                                                          (show! p title (apply format form-string (map first sorted)) \"%\"))))))))))"
   ]
  },
  {
   "cell_type": "code",
   "execution_count": 68,
   "id": "9af1856c-d2c9-4e33-ac02-17374d033975",
   "metadata": {
    "tags": []
   },
   "outputs": [
    {
     "data": {
      "application/vnd.jupyter.widget-view+json": {
       "model_id": "d8aee523-0968-4ab5-9549-8b9ae0d0c99e",
       "version_major": 2,
       "version_minor": 0
      },
      "method": "display_data"
     },
     "metadata": {},
     "output_type": "display_data"
    }
   ],
   "source": [
    "(query-data [#(= 1 (get-n % \"Survived\")) #(= 23 (int (get-n % \"Age\")))]\n",
    "            female-passengers)"
   ]
  },
  {
   "cell_type": "markdown",
   "id": "f0abdb77-02eb-44b9-98c3-61711803da4b",
   "metadata": {},
   "source": [
    "Lets see what was the most Embarked port."
   ]
  },
  {
   "cell_type": "code",
   "execution_count": 69,
   "id": "f9c4773d-a6ca-44af-b028-5d8fa169604f",
   "metadata": {
    "tags": []
   },
   "outputs": [
    {
     "data": {
      "application/vnd.jupyter.widget-view+json": {
       "model_id": "eaba0d45-4ee7-4dd1-8cf6-db557d51f46c",
       "version_major": 2,
       "version_minor": 0
      },
      "method": "display_data"
     },
     "metadata": {},
     "output_type": "display_data"
    }
   ],
   "source": [
    "(query-data [#(= 1 (get-n % \"Survived\"))]\n",
    "            female-passengers\n",
    "            (fn [data]\n",
    "                (let [port (group-by #(get-n % \"Embarked\") data)\n",
    "                      sorted (sort-by first port)\n",
    "                      pad (repeat (count port) \"%20s\")\n",
    "                      form-s (apply str pad)]\n",
    "                    (bar-plot (map #(identity %2) sorted (range))\n",
    "                              (map (comp count second) sorted)\n",
    "                              (take (count sorted) (cycle [Color/red Color/green Color/blue]))\n",
    "                              0.4\n",
    "                              (fn [p]\n",
    "                                  (show! p\n",
    "                                         \"Survivor count per port embarked\"\n",
    "                                         (apply format form-s (map first sorted))\n",
    "                                         \"Surv. count\"))))))"
   ]
  },
  {
   "cell_type": "markdown",
   "id": "29d11fd6-267b-4f04-87fb-6fd62842ee8d",
   "metadata": {},
   "source": [
    "Many more female passengers boarded on Southampton, that would explain the high survival rate of third class, there was many more female passengers in third class."
   ]
  },
  {
   "cell_type": "code",
   "execution_count": 70,
   "id": "991d9611-ab25-4728-91ac-1399d1470c94",
   "metadata": {
    "tags": []
   },
   "outputs": [
    {
     "data": {
      "application/vnd.jupyter.widget-view+json": {
       "model_id": "e7a7e016-107c-4859-8295-dfcef2acfccd",
       "version_major": 2,
       "version_minor": 0
      },
      "method": "display_data"
     },
     "metadata": {},
     "output_type": "display_data"
    }
   ],
   "source": [
    "(query-data [#(not= 0 (+ (get-n % \"Parch\") (get-n % \"SibSp\")))]\n",
    "            female-passengers\n",
    "            (fn [data]\n",
    "                (let [fam (group-by #(+ (get-n % \"Parch\") (get-n % \"SibSp\")) data)\n",
    "                      sorted (sort-by first fam)]\n",
    "                    ((fn [with-percent]\n",
    "                         (let [title \"Survival rate of female passengers per number of family members on board\"]\n",
    "                             (line-plot (map first with-percent)\n",
    "                                        (map second with-percent)\n",
    "                                        Color/red\n",
    "                                        (fn [p] (show! p title \"Num. family mem.\" \"Survival\")))))\n",
    "                     (reduce (fn [vc [k v]]\n",
    "                                 (let [surv-s (query-data [#(= 1 (get-n % \"Survived\"))]\n",
    "                                                          v\n",
    "                                                          count)]\n",
    "                                     (conj vc [k (float (* 100 (/ surv-s (count v))))]))) [] sorted)))))"
   ]
  },
  {
   "cell_type": "markdown",
   "id": "77a956b6-63d9-492a-a927-7f099dccaedd",
   "metadata": {},
   "source": [
    "As we saw in male passengers of the titanic, the ideal number of family memebers that had high survival chance is between 1 to 3. Then it starts to decrease."
   ]
  },
  {
   "cell_type": "code",
   "execution_count": 71,
   "id": "801af8e1-84e4-48ae-a7d3-f8caa0ec89a2",
   "metadata": {
    "tags": []
   },
   "outputs": [
    {
     "data": {
      "application/vnd.jupyter.widget-view+json": {
       "model_id": "73851b70-05ad-4c45-92db-4d2c7adb350c",
       "version_major": 2,
       "version_minor": 0
      },
      "method": "display_data"
     },
     "metadata": {},
     "output_type": "display_data"
    }
   ],
   "source": [
    "(query-data nil\n",
    "            female-passengers\n",
    "            (fn [data]\n",
    "                (let [by-age (group-by #(int (get-n % \"Age\")) data)\n",
    "                      sorted (sort-by first by-age)]\n",
    "                    ((fn [pers]\n",
    "                         (let [title \"Survival rate of female passengers per Age\"]\n",
    "                             (bar-plot (map first pers)\n",
    "                                       (map second pers)\n",
    "                                       (take (count pers) (cycle [Color/blue Color/red Color/green]))\n",
    "                                       0.5\n",
    "                                       (fn [p] (show! p title \"Age\" \"Survival (%)\")))))\n",
    "                     (reduce (fn [vc [k v]]\n",
    "                                 (let [surv-p (query-data [#(= 1 (get-n % \"Survived\"))]\n",
    "                                                          v\n",
    "                                                          #(float (* 100 (/ (count %) (count v)))))]\n",
    "                                     (conj vc [k surv-p])))\n",
    "                             []\n",
    "                             sorted)))))"
   ]
  },
  {
   "cell_type": "code",
   "execution_count": 72,
   "id": "acfb23c0-86af-4f4e-9ba7-996bee80648b",
   "metadata": {
    "tags": []
   },
   "outputs": [
    {
     "data": {
      "application/vnd.jupyter.widget-view+json": {
       "model_id": "2507b4b3-a65c-477d-b940-548c2afa37a6",
       "version_major": 2,
       "version_minor": 0
      },
      "method": "display_data"
     },
     "metadata": {},
     "output_type": "display_data"
    }
   ],
   "source": [
    "(query-data nil\n",
    "            female-passengers\n",
    "            (fn [data]\n",
    "                (let [by-age (group-by #(int (get-n % \"Age\")) data)\n",
    "                      sorted (sort-by first by-age)]\n",
    "                    ((fn [pers]\n",
    "                         (let [by-per (group-by second pers)]\n",
    "                             (reduce (fn [acc [k v]]\n",
    "                                         (assoc acc k (map first v)))\n",
    "                                     (sorted-map)\n",
    "                                     by-per)))\n",
    "                     (reduce (fn [vc [k v]]\n",
    "                                 (let [surv-p (query-data [#(= 1 (get-n % \"Survived\"))]\n",
    "                                                          v\n",
    "                                                          #(float (* 100 (/ (count %) (count v)))))]\n",
    "                                     (conj vc [k surv-p])))\n",
    "                             []\n",
    "                             sorted)))))"
   ]
  },
  {
   "cell_type": "code",
   "execution_count": 73,
   "id": "6e2180ac-474b-4cb9-aa5c-2cbcc51e3af4",
   "metadata": {
    "tags": []
   },
   "outputs": [
    {
     "data": {
      "application/vnd.jupyter.widget-view+json": {
       "model_id": "c4bc77d1-cd9e-4d48-83aa-d5fc9ebb3264",
       "version_major": 2,
       "version_minor": 0
      },
      "method": "display_data"
     },
     "metadata": {},
     "output_type": "display_data"
    }
   ],
   "source": [
    "(query-data nil\n",
    "            female-passengers\n",
    "            (fn [data]\n",
    "                (let [by-pclass (group-by #(get-n % \"Pclass\") data)\n",
    "                      sorted (sort-by first by-pclass)]\n",
    "                    ((fn [pers]\n",
    "                         (let [title \"Survival rate of female passengers per Pclass\"]\n",
    "                             (bar-plot (map first pers)\n",
    "                                       (map second pers)\n",
    "                                       [Color/blue Color/red Color/green]\n",
    "                                       0.5\n",
    "                                       (fn [p] (show! p title \"Pclass\" \"Rate (%)\")))))\n",
    "                     (reduce (fn [vc [k v]]\n",
    "                                 (let [surv-p (query-data [#(= 1 (get-n % \"Survived\"))]\n",
    "                                                          v\n",
    "                                                          #(* 100 (/ (count %) (count v))))]\n",
    "                                     (conj vc [k (float surv-p)]))) [] sorted)))))"
   ]
  },
  {
   "cell_type": "code",
   "execution_count": 74,
   "id": "327eb6fa-b3e6-41ef-bd97-3561a11d67da",
   "metadata": {
    "tags": []
   },
   "outputs": [
    {
     "data": {
      "application/vnd.jupyter.widget-view+json": {
       "model_id": "b1ac7093-7200-4e6b-8f03-b794e08fa2bd",
       "version_major": 2,
       "version_minor": 0
      },
      "method": "display_data"
     },
     "metadata": {},
     "output_type": "display_data"
    }
   ],
   "source": [
    "(query-data nil\n",
    "            male-passengers\n",
    "            (fn [data]\n",
    "                (let [by-age (group-by #(get-n % \"Age\") data)\n",
    "                      sorted (sort-by first by-age)]\n",
    "                    ((fn [pers]\n",
    "                         (let [title \"Survival rate of male passengers per Age\"]\n",
    "                             (bar-plot (map first pers)\n",
    "                                       (map second pers)\n",
    "                                       (take (count pers) (cycle [Color/blue Color/red Color/green]))\n",
    "                                       0.5\n",
    "                                       (fn [p] (show! p title \"Age\" \"Survival (%)\")))))\n",
    "                     (reduce (fn [vc [k v]]\n",
    "                                 (let [surv-p (query-data [#(= 1 (get-n % \"Survived\"))]\n",
    "                                                          v\n",
    "                                                          #(float (* 100 (/ (count %) (count v)))))]\n",
    "                                     (conj vc [k surv-p])))\n",
    "                             []\n",
    "                             sorted)))))"
   ]
  },
  {
   "cell_type": "markdown",
   "id": "f9705f1c-2d4b-4548-82f5-ea6e5f5b4382",
   "metadata": {},
   "source": [
    "__Conclusion:__ Female passengers are more likely to survive the titanic overall, young male passengers were highly likely to survive, more third class female passengers survived, nevertheless being a female and being third class meant that you had the lowest survival rate per pclass, with 1st and 2nd class having almost the same probability of survival. Many ages had a 100% survival rate, some were young and some were older, this basically means that unlike male passengers in which the younger they were the more likely they were to survive, the likelyness of high probability rate was spread across the different ages with some being lower, many other being high, and the rest being the maximum possible."
   ]
  },
  {
   "cell_type": "code",
   "execution_count": 75,
   "id": "50858e1d-31b1-48e0-a8ed-8545c353da5d",
   "metadata": {},
   "outputs": [
    {
     "data": {
      "application/vnd.jupyter.widget-view+json": {
       "model_id": "f6b07018-cc6c-47e6-baec-7617586751ff",
       "version_major": 2,
       "version_minor": 0
      },
      "method": "display_data"
     },
     "metadata": {},
     "output_type": "display_data"
    }
   ],
   "source": [
    "(query-data nil\n",
    "            enhanced-titanic\n",
    "            (fn [data]\n",
    "                (let [by-fam (group-by #(+ (get-n % \"Parch\") (get-n % \"SibSp\")) data)\n",
    "                      sorted (sort-by first by-fam)]\n",
    "                    ((fn [per]\n",
    "                         (let [title \"Survival rate of passengers per family members on board\"]\n",
    "                             (line-plot (map first per)\n",
    "                                        (map second per)\n",
    "                                        Color/green\n",
    "                                        (fn [p] (show! p title \"Num.\" \"Survival Rate %\")))))\n",
    "                     (reduce (fn [vc [k v]]\n",
    "                                 (let [surv-p (query-data [#(= 1 (get-n % \"Survived\"))]\n",
    "                                                          v\n",
    "                                                          #(* 100 (/ (count %) (count v))))]\n",
    "                                     (conj vc [k (float surv-p)]))) [] sorted)))))"
   ]
  },
  {
   "cell_type": "markdown",
   "id": "ae8ea12a-eaf5-4b0b-9ad5-e187a7db3b4c",
   "metadata": {},
   "source": [
    "It seems that there is a positive correlation between the number of family members and the survival rate up to 3, afterwards it starts to decrease until it reaches 0."
   ]
  },
  {
   "cell_type": "code",
   "execution_count": 76,
   "id": "0fa80caa-667d-4939-ac51-321858fbcf1f",
   "metadata": {
    "tags": []
   },
   "outputs": [
    {
     "data": {
      "application/vnd.jupyter.widget-view+json": {
       "model_id": "32f768f0-fbd9-488b-882d-b90fe0429b06",
       "version_major": 2,
       "version_minor": 0
      },
      "method": "display_data"
     },
     "metadata": {},
     "output_type": "display_data"
    }
   ],
   "source": [
    "(query-data [#(= 1 (get-n % \"Survived\"))]\n",
    "            enhanced-titanic\n",
    "            (fn [data]\n",
    "                (let [by-fam (group-by #(+ (get-n % \"Parch\") (get-n % \"SibSp\")) data)\n",
    "                      sorted (sort-by first by-fam)]\n",
    "                    ((fn [per]\n",
    "                         (let [title \"Percent of total survived by family members\"]\n",
    "                             (line-plot (map first per)\n",
    "                                        (map second per)\n",
    "                                        Color/red\n",
    "                                        (fn [p] (show! p title \"Num.\" \"%\")))))\n",
    "                     (reduce (fn [vc [k v]]\n",
    "                                 (let [percent (* 100 (/ (count v) (count data)))]\n",
    "                                     (conj vc [k (float percent)])))\n",
    "                             []\n",
    "                             sorted)))))"
   ]
  },
  {
   "cell_type": "markdown",
   "id": "ee9b4d8d-d0b8-410a-a668-8cd315623a1e",
   "metadata": {},
   "source": [
    "Of those that survived, it seems that the more family memebers that you had the less percent that you occupied of the total percent that survived."
   ]
  },
  {
   "cell_type": "code",
   "execution_count": 77,
   "id": "ec3122ff-e155-400e-8b0e-4d9a9706b9ed",
   "metadata": {
    "tags": []
   },
   "outputs": [
    {
     "data": {
      "text/plain": [
       "null"
      ]
     },
     "execution_count": 77,
     "metadata": {},
     "output_type": "execute_result"
    }
   ],
   "source": [
    "(def parch-plot (atom nil))\n",
    "\n",
    "(def sibsp-plot (atom nil))\n",
    "\n",
    "(query-data [#(= 1 (get-n % \"Survived\"))]\n",
    "            enhanced-titanic\n",
    "            (fn [data]\n",
    "                (let [by-parch (group-by #(get-n % \"Parch\") data)\n",
    "                      by-sibsp (group-by #(get-n % \"SibSp\") data)\n",
    "                      sort-parch (sort-by first by-parch)\n",
    "                      sort-sibsp (sort-by first by-sibsp)]\n",
    "                    ((fn [parch-per sibsp-per]\n",
    "                         (reset! parch-plot\n",
    "                          (bar-plot (map first parch-per)\n",
    "                                    (map second parch-per)\n",
    "                                    (take (count parch-per) (cycle [Color/red Color/yellow Color/green]))\n",
    "                                    0.3\n",
    "                                    (fn [p] (show! p \"Total % of survivors by Parch\" \"Parch\" \"%\"))))\n",
    "                         (reset! sibsp-plot\n",
    "                          (bar-plot (map first sibsp-per)\n",
    "                                    (map second sibsp-per)\n",
    "                                    (take (count sibsp-per) (cycle [Color/red Color/yellow Color/green]))\n",
    "                                    0.3\n",
    "                                    (fn [p] (show! p \"Total % of survivors by SibSp\" \"SibSp\" \"%\"))))\n",
    "                         nil)\n",
    "                     (reduce (fn [acc [k v]]\n",
    "                                 (let [percent (* 100 (/ (count v) (count data)))]\n",
    "                                     (conj acc [k (float percent)]))) [] sort-parch)\n",
    "                     (reduce (fn [acc [k v]]\n",
    "                                 (let [percent (* 100 (/ (count v) (count data)))]\n",
    "                                     (conj acc [k (float percent)]))) [] sort-sibsp)))))"
   ]
  },
  {
   "cell_type": "code",
   "execution_count": 78,
   "id": "609ca133-4357-4fc7-8124-7ea3a7902ba6",
   "metadata": {
    "tags": []
   },
   "outputs": [
    {
     "data": {
      "application/vnd.jupyter.widget-view+json": {
       "model_id": "a5586685-75f2-46ee-9732-78b96595afa7",
       "version_major": 2,
       "version_minor": 0
      },
      "method": "display_data"
     },
     "metadata": {},
     "output_type": "display_data"
    }
   ],
   "source": [
    "@parch-plot"
   ]
  },
  {
   "cell_type": "markdown",
   "id": "89bb87e5-70af-4792-be7e-25035b95425d",
   "metadata": {},
   "source": [
    "Passengers with no parents or children had the highest percent of survivors."
   ]
  },
  {
   "cell_type": "code",
   "execution_count": 79,
   "id": "1c19fdb4-9f6e-48cc-ae71-3cecee329382",
   "metadata": {
    "tags": []
   },
   "outputs": [
    {
     "data": {
      "application/vnd.jupyter.widget-view+json": {
       "model_id": "21ea4c16-3562-40de-a2bf-0591f2e95245",
       "version_major": 2,
       "version_minor": 0
      },
      "method": "display_data"
     },
     "metadata": {},
     "output_type": "display_data"
    }
   ],
   "source": [
    "@sibsp-plot"
   ]
  },
  {
   "cell_type": "markdown",
   "id": "24f2323f-57e4-48ff-ae3c-84d64e7a4405",
   "metadata": {},
   "source": [
    "0 siblings or spouses also had the highest percentage, nevertheless we do see that having 1 sibling or spouse had a higher % of survivors than having 1 parent or children."
   ]
  },
  {
   "cell_type": "code",
   "execution_count": 80,
   "id": "858ea6de-25d2-4482-99f6-64f0dc7beefe",
   "metadata": {
    "tags": []
   },
   "outputs": [
    {
     "data": {
      "application/vnd.jupyter.widget-view+json": {
       "model_id": "390b51eb-1dda-441b-b355-eb4b29fcc528",
       "version_major": 2,
       "version_minor": 0
      },
      "method": "display_data"
     },
     "metadata": {},
     "output_type": "display_data"
    }
   ],
   "source": [
    "(query-data nil\n",
    "            enhanced-titanic\n",
    "            (fn [data]\n",
    "                (let [grouped (group-by #(+ (get-n % \"Parch\") (+ (get-n % \"SibSp\"))) data)\n",
    "                      sorted (sort-by first grouped)]\n",
    "                    ((fn [per]\n",
    "                         (bar-plot (map first per)\n",
    "                                   (map second per)\n",
    "                                   (take (count per) (cycle [Color/blue Color/red Color/green]))\n",
    "                                   0.4\n",
    "                                   (fn [p] (show! p \"Percent of passengers per family members on board\" \"Num.\" \"percent (%)\"))))\n",
    "                     (reduce (fn [acc [k v]]\n",
    "                                 (let [percent (* 100 (/ (count v) (count data)))]\n",
    "                                     (conj acc [k (float percent)])))\n",
    "                             []\n",
    "                             sorted)))))"
   ]
  },
  {
   "cell_type": "markdown",
   "id": "6f8a7780-8981-4145-a38e-ec4cab94dea8",
   "metadata": {},
   "source": [
    "There were many more passengers without family on board overall."
   ]
  },
  {
   "cell_type": "markdown",
   "id": "a30b3bac-3ccf-42f1-a1fd-5ba32f0531e5",
   "metadata": {},
   "source": [
    "__Conclusion:__ A passenger with 3 family members on board had the highest chance of survival, having 0, 1 or 2 also gave you a high chance. It is not the same having 0 parents or children as the chance of survival was higher than having 0 siblings or spouses, however overall having more siblings had more survival rate than having more children. All of this might be due to that parents prefered to stay so that their children could be on a lifeboat."
   ]
  },
  {
   "cell_type": "markdown",
   "id": "ffa3669a-2d16-4a05-812c-aeb33c068e2d",
   "metadata": {},
   "source": [
    "**Up-next:** Data Visualization"
   ]
  }
 ],
 "metadata": {
  "kernelspec": {
   "display_name": "Clojure",
   "language": "clojure",
   "name": "clojure"
  },
  "language_info": {
   "codemirror_mode": "Clojure",
   "file_extension": ".clj",
   "mimetype": "text/x-clojure",
   "name": "Clojure",
   "nbconverter_exporter": "",
   "version": "1.11.1"
  }
 },
 "nbformat": 4,
 "nbformat_minor": 5
}

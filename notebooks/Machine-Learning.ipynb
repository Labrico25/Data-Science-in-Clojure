{
 "cells": [
  {
   "cell_type": "code",
   "execution_count": 2,
   "id": "8e24b17d-050a-4b7c-baa9-c5b098ef61d4",
   "metadata": {
    "tags": []
   },
   "outputs": [
    {
     "data": {
      "application/vnd.jupyter.widget-view+json": {
       "model_id": "eb5cca81-1608-4462-aed0-9f9a98184e65",
       "version_major": 2,
       "version_minor": 0
      },
      "method": "display_data"
     },
     "metadata": {},
     "output_type": "display_data"
    }
   ],
   "source": [
    "%classpath add jar ./scicloj-ml.jar"
   ]
  },
  {
   "cell_type": "code",
   "execution_count": 3,
   "id": "90d826e3-0d9a-4d02-b38e-bd979685c081",
   "metadata": {
    "tags": []
   },
   "outputs": [
    {
     "name": "stdout",
     "output_type": "stream",
     "text": [
      "..instrumented #'scicloj.metamorph.ml/model\n",
      "..instrumented #'scicloj.metamorph.ml/explain\n",
      "..instrumented #'scicloj.metamorph.ml/evaluate-pipelines\n",
      "..instrumented #'scicloj.metamorph.ml/define-model!\n",
      "..instrumented #'scicloj.metamorph.ml/train\n",
      "..instrumented #'scicloj.metamorph.ml/thaw-model\n",
      "..instrumented #'scicloj.metamorph.ml/default-loss-fn\n",
      "..instrumented #'scicloj.metamorph.ml/predict\n",
      "Register model:  :smile.classification/linear-discriminant-analysis\n",
      "Register model:  :smile.classification/fld\n",
      "Register model:  :smile.classification/random-forest\n",
      "Register model:  :smile.classification/ada-boost\n",
      "Register model:  :smile.classification/knn\n",
      "Register model:  :smile.classification/decision-tree\n",
      "Register model:  :smile.classification/gradient-tree-boost\n",
      "Register model:  :smile.classification/regularized-discriminant-analysis\n",
      "Register model:  :smile.classification/quadratic-discriminant-analysis\n",
      "Register model:  :smile.classification/logistic-regression\n",
      "Register model:  :smile.regression/ordinary-least-square\n",
      "Register model:  :smile.regression/elastic-net\n",
      "Register model:  :smile.regression/lasso\n",
      "Register model:  :smile.regression/ridge\n",
      "Register model:  :smile.regression/gradient-tree-boost\n",
      "Register model:  :smile.regression/random-forest\n",
      "Register model:  :fastmath/cluster\n",
      "Register model:  :fastmath.cluster/spectral\n",
      "Register model:  :fastmath.cluster/dbscan\n",
      "Register model:  :fastmath.cluster/k-means\n",
      "Register model:  :fastmath.cluster/mec\n",
      "Register model:  :fastmath.cluster/clarans\n",
      "Register model:  :fastmath.cluster/g-means\n",
      "Register model:  :fastmath.cluster/lloyd\n",
      "Register model:  :fastmath.cluster/x-means\n",
      "Register model:  :fastmath.cluster/deterministic-annealing\n",
      "Register model:  :fastmath.cluster/denclue\n",
      "..instrumented #'scicloj.metamorph.ml/model\n",
      "..instrumented #'scicloj.metamorph.ml/explain\n",
      "..instrumented #'scicloj.metamorph.ml/evaluate-pipelines\n",
      "..instrumented #'scicloj.metamorph.ml/define-model!\n",
      "..instrumented #'scicloj.metamorph.ml/train\n",
      "..instrumented #'scicloj.metamorph.ml/thaw-model\n",
      "..instrumented #'scicloj.metamorph.ml/default-loss-fn\n",
      "..instrumented #'scicloj.metamorph.ml/predict\n",
      "..instrumented #'scicloj.ml.smile.clustering/cluster\n",
      "Register model:  :smile.projections\n",
      "Register model:  :smile.projections/pca-cov\n",
      "Register model:  :smile.projections/pca-cor\n",
      "Register model:  :smile.projections/pca-prob\n",
      "Register model:  :smile.projections/kpca\n",
      "Register model:  :smile.projections/gha\n",
      "Register model:  :smile.projections/random\n",
      "..instrumented #'scicloj.metamorph.ml/model\n",
      "..instrumented #'scicloj.metamorph.ml/explain\n",
      "..instrumented #'scicloj.metamorph.ml/evaluate-pipelines\n",
      "..instrumented #'scicloj.metamorph.ml/define-model!\n",
      "..instrumented #'scicloj.metamorph.ml/train\n",
      "..instrumented #'scicloj.metamorph.ml/thaw-model\n",
      "..instrumented #'scicloj.metamorph.ml/default-loss-fn\n",
      "..instrumented #'scicloj.metamorph.ml/predict\n",
      "..instrumented #'scicloj.ml.smile.clustering/cluster\n",
      "..instrumented #'scicloj.ml.smile.projections/reduce-dimensions\n",
      "Register model:  :xgboost/regression\n",
      "Register model:  :xgboost/classification\n",
      "Register model:  :xgboost/logistic-binary-raw-classification\n",
      "Register model:  :xgboost/linear-regression\n",
      "Register model:  :xgboost/gpu-binary-logistic-raw-classification\n",
      "Register model:  :xgboost/gpu-linear-regression\n",
      "Register model:  :xgboost/count-poisson\n",
      "Register model:  :xgboost/survival-cox\n",
      "Register model:  :xgboost/gpu-logistic-regression\n",
      "Register model:  :xgboost/tweedie-regression\n",
      "Register model:  :xgboost/squared-error-regression\n",
      "Register model:  :xgboost/multiclass-softprob\n",
      "Register model:  :xgboost/logistic-binary-classification\n",
      "Register model:  :xgboost/gamma-regression\n",
      "Register model:  :xgboost/rank-map\n",
      "Register model:  :xgboost/multiclass-softmax\n",
      "Register model:  :xgboost/rank-pairwise\n",
      "Register model:  :xgboost/gpu-binary-logistic-classification\n",
      "Register model:  :xgboost/logistic-regression\n",
      "Register model:  :xgboost/binary-hinge-loss\n",
      "Register model:  :xgboost/rank-ndcg\n",
      "Register model:  :smile.manifold/isomap\n",
      "Register model:  :smile.manifold/laplacian\n",
      "Register model:  :smile.manifold/lle\n",
      "Register model:  :smile.manifold/tsne\n",
      "Register model:  :smile.manifold/umap\n"
     ]
    },
    {
     "name": "stderr",
     "output_type": "stream",
     "text": [
      "WARNING: concat already refers to: #'clojure.core/concat in namespace: scicloj.ml.metamorph, being replaced by: #'scicloj.ml.metamorph/concat\n",
      "WARNING: drop already refers to: #'clojure.core/drop in namespace: scicloj.ml.metamorph, being replaced by: #'scicloj.ml.metamorph/drop\n",
      "WARNING: filter already refers to: #'clojure.core/filter in namespace: scicloj.ml.metamorph, being replaced by: #'scicloj.ml.metamorph/filter\n",
      "WARNING: first already refers to: #'clojure.core/first in namespace: scicloj.ml.metamorph, being replaced by: #'scicloj.ml.metamorph/first\n",
      "WARNING: group-by already refers to: #'clojure.core/group-by in namespace: scicloj.ml.metamorph, being replaced by: #'scicloj.ml.metamorph/group-by\n",
      "WARNING: last already refers to: #'clojure.core/last in namespace: scicloj.ml.metamorph, being replaced by: #'scicloj.ml.metamorph/last\n",
      "WARNING: rand-nth already refers to: #'clojure.core/rand-nth in namespace: scicloj.ml.metamorph, being replaced by: #'scicloj.ml.metamorph/rand-nth\n",
      "WARNING: shuffle already refers to: #'clojure.core/shuffle in namespace: scicloj.ml.metamorph, being replaced by: #'scicloj.ml.metamorph/shuffle\n",
      "WARNING: sort-by already refers to: #'clojure.core/sort-by in namespace: scicloj.ml.metamorph, being replaced by: #'scicloj.ml.metamorph/sort-by\n",
      "WARNING: take-nth already refers to: #'clojure.core/take-nth in namespace: scicloj.ml.metamorph, being replaced by: #'scicloj.ml.metamorph/take-nth\n",
      "WARNING: update already refers to: #'clojure.core/update in namespace: scicloj.ml.metamorph, being replaced by: #'scicloj.ml.metamorph/update\n",
      "WARNING: boolean already refers to: #'clojure.core/boolean in namespace: scicloj.ml.dataset, being replaced by: #'scicloj.ml.dataset/boolean\n",
      "WARNING: concat already refers to: #'clojure.core/concat in namespace: scicloj.ml.dataset, being replaced by: #'scicloj.ml.dataset/concat\n",
      "WARNING: drop already refers to: #'clojure.core/drop in namespace: scicloj.ml.dataset, being replaced by: #'scicloj.ml.dataset/drop\n",
      "WARNING: first already refers to: #'clojure.core/first in namespace: scicloj.ml.dataset, being replaced by: #'scicloj.ml.dataset/first\n",
      "WARNING: group-by already refers to: #'clojure.core/group-by in namespace: scicloj.ml.dataset, being replaced by: #'scicloj.ml.dataset/group-by\n",
      "WARNING: last already refers to: #'clojure.core/last in namespace: scicloj.ml.dataset, being replaced by: #'scicloj.ml.dataset/last\n",
      "WARNING: rand-nth already refers to: #'clojure.core/rand-nth in namespace: scicloj.ml.dataset, being replaced by: #'scicloj.ml.dataset/rand-nth\n",
      "WARNING: shuffle already refers to: #'clojure.core/shuffle in namespace: scicloj.ml.dataset, being replaced by: #'scicloj.ml.dataset/shuffle\n"
     ]
    },
    {
     "data": {
      "text/plain": [
       "interface smile.data.DataFrame"
      ]
     },
     "execution_count": 3,
     "metadata": {},
     "output_type": "execute_result"
    }
   ],
   "source": [
    "(require '[scicloj.ml.core :as ml]\n",
    "         '[scicloj.ml.metamorph :as mm]\n",
    "         '[scicloj.ml.dataset :as ds])\n",
    "\n",
    "(import '[smile.data.formula Formula]\n",
    "        '[smile.data.type StructField StructType DataType]\n",
    "        '[smile.data DataFrame])"
   ]
  },
  {
   "cell_type": "code",
   "execution_count": 4,
   "id": "afacf504-98e8-4e55-9a51-073e2eeabc1a",
   "metadata": {
    "tags": []
   },
   "outputs": [
    {
     "data": {
      "text/plain": [
       "interface beaker_clojure_shell_00d159ab_acfd_4247_b55e_19029c52e556.Html"
      ]
     },
     "execution_count": 4,
     "metadata": {},
     "output_type": "execute_result"
    }
   ],
   "source": [
    "(import 'jupyter.Displayer)\n",
    "\n",
    "(import 'jupyter.Displayers)\n",
    "\n",
    "(definterface Html\n",
    "    (^java.lang.String html []))"
   ]
  },
  {
   "cell_type": "code",
   "execution_count": 5,
   "id": "64f5cb76-b031-496a-975e-6bc4c470b130",
   "metadata": {
    "tags": []
   },
   "outputs": [
    {
     "data": {
      "text/plain": [
       "#'beaker_clojure_shell_00d159ab-acfd-4247-b55e-19029c52e556/render-html"
      ]
     },
     "execution_count": 5,
     "metadata": {},
     "output_type": "execute_result"
    }
   ],
   "source": [
    "(Displayers/register Html\n",
    "                     (proxy [Displayer] []\n",
    "                         (display [var1] {\"text/html\" (.html var1)})\n",
    "                         (setMimeTypes [& types])))\n",
    "\n",
    "(defn render-html [html]\n",
    "    (reify Html\n",
    "        (html [this]\n",
    "              html)))"
   ]
  },
  {
   "cell_type": "code",
   "execution_count": 6,
   "id": "8ac3a024-5b50-49d0-a965-69e980bd4b54",
   "metadata": {
    "tags": []
   },
   "outputs": [
    {
     "data": {
      "text/plain": [
       "#'beaker_clojure_shell_00d159ab-acfd-4247-b55e-19029c52e556/to-number-and-symbol"
      ]
     },
     "execution_count": 6,
     "metadata": {},
     "output_type": "execute_result"
    }
   ],
   "source": [
    "(defn to-number-and-symbol [ds]\n",
    "    (map (fn [row]\n",
    "             (let [values (vals row)]\n",
    "                 (zipmap (keys row)\n",
    "                         (reduce (fn [acc v]\n",
    "                                     (if (string? v)\n",
    "                                         (conj acc (read-string v))\n",
    "                                         (conj acc v)))\n",
    "                                 []\n",
    "                                 values)))) ds))"
   ]
  },
  {
   "cell_type": "code",
   "execution_count": 7,
   "id": "fd74b51e-7f0a-442e-b5fa-d57361c84987",
   "metadata": {
    "tags": []
   },
   "outputs": [
    {
     "data": {
      "text/plain": [
       "#'beaker_clojure_shell_00d159ab-acfd-4247-b55e-19029c52e556/enhanced-titanic"
      ]
     },
     "execution_count": 7,
     "metadata": {},
     "output_type": "execute_result"
    }
   ],
   "source": [
    "(def enhanced-titanic ((comp to-number-and-symbol read-string slurp) \"titanic-enhanced-data.txt\"))"
   ]
  },
  {
   "cell_type": "code",
   "execution_count": 8,
   "id": "fe3bdaa3-48a0-4d4e-851d-9f19eaafdf2c",
   "metadata": {
    "tags": []
   },
   "outputs": [
    {
     "data": {
      "text/plain": [
       "#'beaker_clojure_shell_00d159ab-acfd-4247-b55e-19029c52e556/train-test-split"
      ]
     },
     "execution_count": 8,
     "metadata": {},
     "output_type": "execute_result"
    }
   ],
   "source": [
    "(defn train-test-split\n",
    "    [train-n dataset]\n",
    "    (let [ks ((comp distinct mapcat) keys dataset)\n",
    "          [train tst] (split-at train-n dataset)]\n",
    "        [(ds/dataset train) (ds/dataset tst)]))"
   ]
  },
  {
   "cell_type": "code",
   "execution_count": 9,
   "id": "981e4a29-552b-4905-9636-741d8cf2b30f",
   "metadata": {
    "tags": []
   },
   "outputs": [
    {
     "data": {
      "text/plain": [
       "#'beaker_clojure_shell_00d159ab-acfd-4247-b55e-19029c52e556/bar"
      ]
     },
     "execution_count": 9,
     "metadata": {},
     "output_type": "execute_result"
    }
   ],
   "source": [
    "(defmacro with-destructuring-def [names value]\n",
    "    `(let [binds# (destructure '~[names value])\n",
    "           part# (partition 2 binds#)]\n",
    "         (eval (list* 'let (vec (first part#))\n",
    "                (mapv #(intern *ns* (first %) (eval (last %))) part#)))))\n",
    "           \n",
    "(with-destructuring-def [foo bar] (list \"foo\" \"bar\"))"
   ]
  },
  {
   "cell_type": "code",
   "execution_count": 10,
   "id": "fd4971de-023b-4884-86dd-ab8e014f1b2e",
   "metadata": {
    "tags": []
   },
   "outputs": [
    {
     "data": {
      "text/plain": [
       "#'beaker_clojure_shell_00d159ab-acfd-4247-b55e-19029c52e556/tst"
      ]
     },
     "execution_count": 10,
     "metadata": {},
     "output_type": "execute_result"
    }
   ],
   "source": [
    "(with-destructuring-def [train tst] (train-test-split 346 enhanced-titanic))"
   ]
  },
  {
   "cell_type": "code",
   "execution_count": 11,
   "id": "2728a2de-587b-4a36-8403-71c33fc9daed",
   "metadata": {
    "tags": []
   },
   "outputs": [
    {
     "data": {
      "text/plain": [
       "#'beaker_clojure_shell_00d159ab-acfd-4247-b55e-19029c52e556/apply-pipe"
      ]
     },
     "execution_count": 11,
     "metadata": {},
     "output_type": "execute_result"
    }
   ],
   "source": [
    "(defn ->pipe-fn [cols add-column target model]\n",
    "    (ml/pipeline\n",
    "     (mm/select-columns cols)\n",
    "     (apply mm/add-column add-column)\n",
    "     (mm/categorical->number cols)\n",
    "     (mm/set-inference-target target)\n",
    "     {:metamorph/id :model}\n",
    "     (mm/model {:model-type model})\n",
    "     (ml/lift ds/dataset)))\n",
    "\n",
    "(defn y-n [ds]\n",
    "    (map #(case %\n",
    "              \"1\" \"yes\"\n",
    "              \"0\" \"no\"\n",
    "              1 \"yes\"\n",
    "              0 \"no\"\n",
    "              false \"\"\n",
    "              nil \"\") (get ds \"Survived\")))\n",
    "\n",
    "(defn apply-pipe [pipe data]\n",
    "    (pipe data))"
   ]
  },
  {
   "cell_type": "code",
   "execution_count": 34,
   "id": "edf0ad64-681b-4e77-aa43-d3fcae39bfcb",
   "metadata": {
    "tags": []
   },
   "outputs": [
    {
     "data": {
      "text/plain": [
       "#'beaker_clojure_shell_00d159ab-acfd-4247-b55e-19029c52e556/accuracy"
      ]
     },
     "execution_count": 34,
     "metadata": {},
     "output_type": "execute_result"
    }
   ],
   "source": [
    "(defn accuracy [pipe train tst]\n",
    "    (let [fitted (pipe {:metamorph/data train :metamorph/mode :fit})\n",
    "          tested (pipe (assoc fitted :metamorph/data tst :metamorph/mode :transform))\n",
    "          preds (get-in tested [:metamorph/data \"Survived\"])\n",
    "          survs (get tst \"Survived\")]\n",
    "        (loop [[pred & preds] preds\n",
    "               [surv & survs] survs\n",
    "               ret (fn [r] (float (/ r (count survs))))]\n",
    "            (if (not pred)\n",
    "                (trampoline ret 0)\n",
    "                (recur preds\n",
    "                       survs\n",
    "                       (if (= (double pred) (double surv))\n",
    "                           (fn [r] #(ret (inc r)))\n",
    "                           ret))))))"
   ]
  },
  {
   "cell_type": "code",
   "execution_count": 13,
   "id": "c8004474-71ec-45ab-86da-8f6f147aa274",
   "metadata": {
    "tags": []
   },
   "outputs": [
    {
     "data": {
      "text/plain": [
       "null"
      ]
     },
     "execution_count": 13,
     "metadata": {},
     "output_type": "execute_result"
    }
   ],
   "source": [
    ";; (require '[smile.regression :refer [cart]])"
   ]
  },
  {
   "cell_type": "code",
   "execution_count": 14,
   "id": "e52bd30f-3ed2-4b61-bff7-b67b9ad3ffbc",
   "metadata": {
    "tags": []
   },
   "outputs": [
    {
     "data": {
      "text/plain": [
       "#'beaker_clojure_shell_00d159ab-acfd-4247-b55e-19029c52e556/->DataFrame"
      ]
     },
     "execution_count": 14,
     "metadata": {},
     "output_type": "execute_result"
    }
   ],
   "source": [
    "(defn ->DataFrame [seq-of-maps]\n",
    "    (let [make-struct  (fn [IN]\n",
    "                        (StructType.\n",
    "                         (java.util.ArrayList.\n",
    "                          (mapv\n",
    "                           (fn [[field-name dtype]]\n",
    "                            (StructField. field-name\n",
    "                             (DataType/of dtype)))\n",
    "                           IN))))\n",
    "          make-tuples  (fn [structure coll]\n",
    "                        (java.util.ArrayList.\n",
    "                         (map\n",
    "                          (fn [x]\n",
    "                           (smile.data.Tuple/of (into-array java.lang.Object x)\n",
    "                            structure))\n",
    "                          coll)))\n",
    "          apply-conv   (fn [make-struct make-tuples]\n",
    "                        (let [ks ((comp distinct mapcat) keys seq-of-maps)\n",
    "                              dtype #(DataType/infer (str \\\" % \\\"))\n",
    "                              random-row (rand-nth seq-of-maps)\n",
    "                              rand-values (vals random-row)\n",
    "                              types (map class rand-values)\n",
    "                              values (map vals seq-of-maps)\n",
    "                              row-fields (map (fn [_] (str (gensym))) rand-values)\n",
    "                              pairs (map vector row-fields types)\n",
    "                              struc (make-struct pairs)\n",
    "                              tuples (make-tuples struc values)\n",
    "                              col-pairs (map (fn [k dtype] [(str k) dtype]) ks types)\n",
    "                              col-struc (make-struct col-pairs)]\n",
    "                          (DataFrame/of tuples col-struc)))]   \n",
    "      (apply-conv make-struct make-tuples)))"
   ]
  },
  {
   "cell_type": "code",
   "execution_count": 35,
   "id": "bb902e97-63e7-4972-a7d1-0d2ea879fb6f",
   "metadata": {
    "tags": []
   },
   "outputs": [
    {
     "data": {
      "text/plain": [
       "null"
      ]
     },
     "execution_count": 35,
     "metadata": {},
     "output_type": "execute_result"
    }
   ],
   "source": [
    ";; (require '[clojure.set :refer [map-invert]])"
   ]
  },
  {
   "cell_type": "code",
   "execution_count": 16,
   "id": "95357b2f-b736-4923-9b11-9649961d11c1",
   "metadata": {
    "tags": []
   },
   "outputs": [
    {
     "data": {
      "text/plain": [
       "null"
      ]
     },
     "execution_count": 16,
     "metadata": {},
     "output_type": "execute_result"
    }
   ],
   "source": [
    ";;(letfn [(train-cart [ivariables dvariable model-data]\n",
    "  ;;       (assoc model-data :metamorph/id\n",
    "    ;;      (cart\n",
    "      ;     (Formula/of ((comp str first keys) dvariable)\n",
    "       ;     (let [ks (keys ivariables)]\n",
    "        ;      (into-array String ks)))\n",
    "         ;  (let [to-seq (fn [ds]\n",
    "          ;                (let [ks (keys ds)\n",
    "           ;                     vs (vals ds)]\n",
    "            ;                (apply map\n",
    "             ;                (fn [& args] (zipmap ks args))\n",
    "              ;               vs)))]\n",
    "               ;(->DataFrame\n",
    "               ; (to-seq (merge ivariables dvariable))))\n",
    "          ;45\n",
    "          ;21\n",
    "          ;67)))\n",
    "        ;; (predict-cart [ds model-data mode]\n",
    "           ;           (let [model (:metamorph/id model-data)\n",
    "            ;                ks (.keySet ds)\n",
    "             ;               rows (.columns ds)\n",
    "              ;              data (map seq rows)\n",
    "               ;             SEQ (apply map\n",
    "                ;                 (fn [& args] (zipmap ks args))\n",
    "                 ;                data)\n",
    "                  ;          dframed (->DataFrame SEQ)\n",
    "                   ;         predicted (.predict model dframed)\n",
    "                    ;        cat-map (:target-categorical-maps mode)\n",
    "                     ;       target (first (:target-columns mode))\n",
    "                      ;      labels (get-in cat-map [target :lookup-table])]\n",
    "                        ;  (loop [inverted (map-invert labels)\n",
    "                         ;        [x & xs] predicted\n",
    "                          ;       ret (let [ks (keys labels)\n",
    "                           ;                size (count ks)]\n",
    "                            ;             (zipmap (concat ks [target])\n",
    "                             ;                    (repeat (inc size) [])))]\n",
    "                              ;(if (not x)\n",
    "                               ;   ret\n",
    "                                ;  (recur inverted\n",
    "                                 ;        xs\n",
    "                                  ;       (let [r (Math/round x)\n",
    "                                   ;            rema (- 1 x)]\n",
    "                                    ;         (merge-with conj\n",
    "                                     ;                    ret\n",
    "                                      ;                   (zipmap (keys ret)\n",
    "                                       ;                          [rema x r]))))))))]\n",
    "    \n",
    "  ;  (ml/define-model! :cart1\n",
    "   ;                   train-cart\n",
    "    ;                  predict-cart\n",
    "     ;                 {}))"
   ]
  },
  {
   "cell_type": "code",
   "execution_count": 17,
   "id": "6327f140-620f-4f46-941b-929b5778b58f",
   "metadata": {
    "tags": []
   },
   "outputs": [
    {
     "data": {
      "text/plain": [
       "#'beaker_clojure_shell_00d159ab-acfd-4247-b55e-19029c52e556/r-squared"
      ]
     },
     "execution_count": 17,
     "metadata": {},
     "output_type": "execute_result"
    }
   ],
   "source": [
    "(defn mean [coll]\n",
    "    (let [size (count coll)]\n",
    "        (if (zero? size)\n",
    "            0\n",
    "            (/ (reduce + coll) (count coll)))))\n",
    "\n",
    "(defn mse [real preds]\n",
    "    (let [N (count preds)\n",
    "          errors (map (fn [x y]\n",
    "                          (Math/abs (- x y)))\n",
    "                      real\n",
    "                      preds)]\n",
    "        (if (zero? N)\n",
    "            0\n",
    "            (/ (reduce + errors) N))))\n",
    "\n",
    "(defn rmse [real preds]\n",
    "    (let [N (count preds)\n",
    "          errors (map (fn [x y]\n",
    "                          (Math/pow (- x y) 2))\n",
    "                      real\n",
    "                      preds)]\n",
    "        (Math/sqrt (mean errors))))\n",
    "\n",
    "(defn squared-differences [data mean-value]\n",
    "  (map #(Math/pow (- % mean-value) 2) data))\n",
    "\n",
    "(defn total-sum-of-squares [actual]\n",
    "  (let [mean-value (mean actual)]\n",
    "    (reduce + (squared-differences actual mean-value))))\n",
    "\n",
    "(defn sum-of-squared-residuals [actual predicted]\n",
    "  (reduce + (map \n",
    "             (fn [a p] \n",
    "                 (Math/pow (- a p) 2)) \n",
    "             actual \n",
    "             predicted)))\n",
    "\n",
    "(defn r-squared [actual predicted]\n",
    "  (let [tss (total-sum-of-squares actual)\n",
    "        ssr (sum-of-squared-residuals actual predicted)]\n",
    "      (- 1 (/ ssr tss))))"
   ]
  },
  {
   "cell_type": "code",
   "execution_count": 18,
   "id": "c42087af-8f6c-4335-a9a6-157426877198",
   "metadata": {
    "tags": []
   },
   "outputs": [
    {
     "data": {
      "text/plain": [
       "#'beaker_clojure_shell_00d159ab-acfd-4247-b55e-19029c52e556/mock"
      ]
     },
     "execution_count": 18,
     "metadata": {},
     "output_type": "execute_result"
    }
   ],
   "source": [
    "(defn mock [data seed]\n",
    "    (ds/dataset\n",
    "     (into {}\n",
    "           (mapv\n",
    "            (fn [[k values]]\n",
    "                (let [vs (take seed (cycle values))\n",
    "                      shuf (apply merge values vs)]\n",
    "                    [k shuf]))\n",
    "            data))))"
   ]
  },
  {
   "cell_type": "code",
   "execution_count": 19,
   "id": "a435920a-2d9b-4f90-a0a2-98aa9b3c7d17",
   "metadata": {
    "tags": []
   },
   "outputs": [
    {
     "data": {
      "text/plain": [
       "#'beaker_clojure_shell_00d159ab-acfd-4247-b55e-19029c52e556/out-model"
      ]
     },
     "execution_count": 19,
     "metadata": {},
     "output_type": "execute_result"
    }
   ],
   "source": [
    "(defn return-thunk [model data n metric validate-n]\n",
    "    (fn []\n",
    "     (let [[train tst] (train-test-split n data)\n",
    "           train-ctx (model {:metamorph/data train :metamorph/mode :fit})\n",
    "           validate (mock tst validate-n)\n",
    "           test-ctx (model (merge train-ctx {:metamorph/data validate :metamorph/mode :transform}))]\n",
    "       (metric (get validate \"Survived\")\n",
    "               (get-in test-ctx [:metamorph/data \"Survived\"])))))\n",
    "\n",
    "(defn multiple-thunks [model data n validate-n]\n",
    "    (fn [metrics]\n",
    "        (let [data (shuffle data)]\n",
    "          (map #(return-thunk model data n % validate-n) metrics))))\n",
    "\n",
    "(defn finify [coll]\n",
    "    (let [seen (atom #{})\n",
    "          ret (atom [])]\n",
    "        (reduce (fn [acc item]\n",
    "                    (if (@seen item)\n",
    "                        (reduced item)\n",
    "                        (do (swap! seen conj item)\n",
    "                            (swap! ret conj item))))\n",
    "                nil\n",
    "                coll)\n",
    "        @ret))\n",
    "\n",
    "(defn show-perf [coll]\n",
    "    (let [ks '(:accuracy :mse :rmse :r-squared)\n",
    "          group (group-by count coll)\n",
    "          MAX (ffirst (sort-by first #(compare %2 %1) group))]\n",
    "        (apply map\n",
    "               (fn [& args] (zipmap ks args))\n",
    "               coll)))\n",
    "\n",
    "(defn new-performance [model n data validate-n]\n",
    "    (let [thunks-fn (multiple-thunks model data n validate-n)]\n",
    "        (show-perf\n",
    "        (map finify\n",
    "         (map repeatedly\n",
    "          (thunks-fn\n",
    "           [(fn [real pred]\n",
    "                (let [size (count real)\n",
    "                      preds (map\n",
    "                             (fn [r i]\n",
    "                                 (if (= (double r) (double i))\n",
    "                                     1\n",
    "                                     0)) real pred)\n",
    "                      pred-1 (count (filter #{1} preds))]\n",
    "                    (double (/ pred-1 size))))\n",
    "            (comp double mse)\n",
    "            (comp double rmse)\n",
    "            (comp double r-squared)]))))))\n",
    "\n",
    "(defn out-model [& params]\n",
    "    (if (< (count params) 3)\n",
    "        (fn [model]\n",
    "            (apply ->pipe-fn\n",
    "                   (concat params \n",
    "                           [(first (last params)) model])))\n",
    "        (fn [model]\n",
    "            (apply ->pipe-fn (concat params [model])))))"
   ]
  },
  {
   "cell_type": "code",
   "execution_count": 20,
   "id": "626c49d5-143e-4f60-b734-3aa8d950b76b",
   "metadata": {
    "tags": []
   },
   "outputs": [
    {
     "data": {
      "text/plain": [
       "#'beaker_clojure_shell_00d159ab-acfd-4247-b55e-19029c52e556/awaiting-model"
      ]
     },
     "execution_count": 20,
     "metadata": {},
     "output_type": "execute_result"
    }
   ],
   "source": [
    "(def awaiting-model (out-model [\"Survived\" \"Pclass\" \"Sex\" \"Age\" \"Embarked\"] [\"Survived\" y-n]))"
   ]
  },
  {
   "cell_type": "code",
   "execution_count": 21,
   "id": "af62715f-2bc3-40c6-88f7-63925d62d7dc",
   "metadata": {
    "tags": []
   },
   "outputs": [
    {
     "data": {
      "application/vnd.jupyter.widget-view+json": {
       "model_id": "8a34abf2-5661-448f-bbbb-d762071243a4",
       "version_major": 2,
       "version_minor": 0
      },
      "method": "display_data"
     },
     "metadata": {},
     "output_type": "display_data"
    }
   ],
   "source": [
    "(let [KNN (awaiting-model :smile.classification/knn)]\n",
    "    (new-performance KNN 400 enhanced-titanic 3000))"
   ]
  },
  {
   "cell_type": "code",
   "execution_count": 22,
   "id": "203ecc07-4d3c-4109-af34-4fd48c179635",
   "metadata": {
    "tags": []
   },
   "outputs": [
    {
     "data": {
      "application/vnd.jupyter.widget-view+json": {
       "model_id": "2d2def73-1d0f-48de-af62-ceffcf66f690",
       "version_major": 2,
       "version_minor": 0
      },
      "method": "display_data"
     },
     "metadata": {},
     "output_type": "display_data"
    }
   ],
   "source": [
    "(let [rand-forest (awaiting-model :smile.classification/random-forest)]\n",
    "    (new-performance rand-forest 400 enhanced-titanic 3000))"
   ]
  },
  {
   "cell_type": "code",
   "execution_count": 23,
   "id": "f45a1842-e9b9-47c0-aa57-60ae28a5ea4a",
   "metadata": {
    "tags": []
   },
   "outputs": [
    {
     "data": {
      "application/vnd.jupyter.widget-view+json": {
       "model_id": "eecf88a4-9d76-4b7d-9a4c-04efe1c9bf28",
       "version_major": 2,
       "version_minor": 0
      },
      "method": "display_data"
     },
     "metadata": {},
     "output_type": "display_data"
    }
   ],
   "source": [
    "(let [randF (awaiting-model :smile.regression/random-forest)]\n",
    "    (new-performance (fn [{:metamorph/keys [data mode] :as ctx}] \n",
    "                     (if (= mode :fit) \n",
    "                         (randF ctx) \n",
    "                         (update-in (randF ctx) [:metamorph/data \"Survived\"] #(map (fn [_] (Math/round _)) %))))\n",
    "                 400\n",
    "                 enhanced-titanic\n",
    "                 3000))"
   ]
  },
  {
   "cell_type": "code",
   "execution_count": 24,
   "id": "716615da-c0f6-4ad3-b205-7e6ade9ec9ee",
   "metadata": {
    "tags": []
   },
   "outputs": [
    {
     "data": {
      "application/vnd.jupyter.widget-view+json": {
       "model_id": "153b4a46-bef1-4a5a-94d7-2fc13aafd9a8",
       "version_major": 2,
       "version_minor": 0
      },
      "method": "display_data"
     },
     "metadata": {},
     "output_type": "display_data"
    }
   ],
   "source": [
    "(let [decision-tree (awaiting-model :smile.classification/decision-tree)]\n",
    "    (new-performance decision-tree\n",
    "                 400\n",
    "                 enhanced-titanic\n",
    "                 3000))"
   ]
  },
  {
   "cell_type": "code",
   "execution_count": 25,
   "id": "7f689319-7327-4edd-b2f1-b86c1235302c",
   "metadata": {
    "tags": []
   },
   "outputs": [
    {
     "data": {
      "application/vnd.jupyter.widget-view+json": {
       "model_id": "ae336099-a626-4ab5-8762-8b20380eff22",
       "version_major": 2,
       "version_minor": 0
      },
      "method": "display_data"
     },
     "metadata": {},
     "output_type": "display_data"
    }
   ],
   "source": [
    "(let [logit (awaiting-model :smile.classification/logistic-regression)]\n",
    "    (new-performance logit 400 enhanced-titanic 3000))"
   ]
  },
  {
   "cell_type": "code",
   "execution_count": 26,
   "id": "250f89a6-566c-41e9-a9fc-e8ec2fedf5af",
   "metadata": {
    "tags": []
   },
   "outputs": [
    {
     "data": {
      "text/plain": [
       "null"
      ]
     },
     "execution_count": 26,
     "metadata": {},
     "output_type": "execute_result"
    }
   ],
   "source": [
    ";(let [reg-tree (awaiting-model :cart1)]\n",
    " ;   (new-performance reg-tree 400 enhanced-titanic 3000))"
   ]
  },
  {
   "cell_type": "code",
   "execution_count": 28,
   "id": "473a5654-44d3-47e0-943b-3d5a9b09e322",
   "metadata": {
    "tags": []
   },
   "outputs": [
    {
     "data": {
      "text/plain": [
       "#'beaker_clojure_shell_00d159ab-acfd-4247-b55e-19029c52e556/confusion-matrix"
      ]
     },
     "execution_count": 28,
     "metadata": {},
     "output_type": "execute_result"
    }
   ],
   "source": [
    "(defn get-false-neg [real preds]\n",
    "    (loop [true-pos 0\n",
    "           false-pos 0\n",
    "           true-neg 0\n",
    "           false-neg 0\n",
    "           [real & reals] (map double real)\n",
    "           [pred & preds] (map double preds)]\n",
    "        (if (and real pred)\n",
    "            (cond\n",
    "                (and (zero? pred) (= pred real))\n",
    "                (recur true-pos false-pos (inc true-neg) false-neg reals preds)\n",
    "                (and (zero? pred) (not= pred real))\n",
    "                (recur true-pos false-pos true-neg (inc false-neg) reals preds)\n",
    "                (and (pos? pred) (= pred real))\n",
    "                (recur (inc true-pos) false-pos true-neg false-neg reals preds)\n",
    "                :else (recur true-pos (inc false-pos) true-neg false-neg reals preds))\n",
    "            {:true-pos true-pos\n",
    "             :false-pos false-pos\n",
    "             :true-neg true-neg\n",
    "             :false-neg false-neg})))\n",
    "\n",
    "(def colors [\"#F5F904\"\n",
    "             \"#F9E404\"\n",
    "             \"#F9BB04\"\n",
    "             \"#F99F04\"\n",
    "             \"#F97E04\"\n",
    "             \"#F95104\"\n",
    "             \"#F94004\"\n",
    "             \"#F92804\"\n",
    "             \"#F91C04\"\n",
    "             \"#F90404\"\n",
    "             \"#F90404\"])\n",
    "\n",
    "(defn decide-color [values]\n",
    "    (let [helper (fn [x]\n",
    "                     (let [size (count x)\n",
    "                           read-first (comp read-string str first)\n",
    "                           f (read-first x)\n",
    "                           rst (rest x)]\n",
    "                         (str (inc f)\n",
    "                              (apply str (repeat (count rst) 0)))))\n",
    "          round (comp read-string helper str)\n",
    "          rounded (map round values)\n",
    "          [x1 x2 :as all] (sort rounded)\n",
    "          difference (- x2 x1)\n",
    "          sorted (iterate #(+ difference %) 0)\n",
    "          ret-seq (take-while #(<= % (last all)) sorted)]\n",
    "        (zipmap (concat ret-seq [(+ difference (last ret-seq)) (+ (* 2 difference) (last ret-seq))])\n",
    "                (take (+ 2 (count ret-seq)) colors))))\n",
    "\n",
    "(defn grab-colors [colors label]\n",
    "    (let [colors (into (sorted-map) colors)\n",
    "          xf (fn [rf]\n",
    "                 (fn ([result] (if (sequential? result) (result 1) result))\n",
    "                     ([[prev color][k v]]\n",
    "                      (if (and (>= label prev) (<= label k))\n",
    "                          (reduced color)\n",
    "                          (rf nil [k v])))))] \n",
    "        (transduce xf (fn [_ NEW] NEW) (first colors) (rest colors))))\n",
    "\n",
    "(defn produce-coords [[x-orig y :as start]]\n",
    "    (iterate\n",
    "     (fn [[x y]]\n",
    "      (if (= x x-orig)\n",
    "          [(+ x 200) y]\n",
    "          [x-orig (+ y 100)]))\n",
    "     start))\n",
    "\n",
    "(defn gen-square-leg [x y color text]\n",
    "    (format \"<rect x=\\\"%s\\\" y=\\\"%s\\\" stroke=\\\"%s\\\" fill=\\\"%s\\\" stroke-width=\\\"1px\\\"\n",
    "             width=\\\"10\\\" height=\\\"100\\\" /><text stroke=\\\"white\\\" x=\\\"%s\\\" y=\\\"%s\\\" width=\\\"10\\\" height=\\\"10\\\"\n",
    "             alignment-baseline=\\\"middle\\\" text-anchor=\\\"middle\\\">%s</text>\"\n",
    "            (+ x 300)\n",
    "            (- y 20)\n",
    "            color\n",
    "            color\n",
    "            (+ 340 x)\n",
    "            (+ y 20)\n",
    "            text))\n",
    "                  \n",
    "(defn make-legend [colors [x y]]\n",
    "    (let [size-colors (count colors)\n",
    "          coords (iterate\n",
    "                  (fn [[x y]]\n",
    "                      [x (+ 50 y)])\n",
    "                  [x y])\n",
    "          xys (take size-colors coords)]\n",
    "        (apply str\n",
    "               (map (fn [[k color] [x y]]\n",
    "                        (gen-square-leg x y color k))\n",
    "                    (reverse colors)\n",
    "                    xys))))\n",
    "          \n",
    "\n",
    "(defn plot-confusion [{:keys [true-pos false-pos true-neg false-neg :as values] :as sq}]\n",
    "    (format (str \"<h3 style=\\\"position: relative; transform: translate(320px,100px);\\\">\n",
    "                  Confusion Matrix</h3>\" \"<svg width=\\\"1000\\\" height=\\\"800\\\">%s</svg>\")\n",
    "            (let [coords (produce-coords [200 200])\n",
    "                  squares (take 4 coords)\n",
    "                  colors (decide-color [true-pos false-pos true-neg false-neg])\n",
    "                  colors (into (sorted-map) colors)\n",
    "                  plotted (map #(str \"<rect x=\" \n",
    "                                     (first %1) \n",
    "                                     \" y=\" \n",
    "                                     (second %1) \n",
    "                                     \" width=\\\"200\\\" height=\\\"100\\\" stroke=\" \\\" \"black\" \\\" \n",
    "                                     \" stroke-width=\\\"1px\\\" fill=\" \\\" (grab-colors colors %2) \\\"\"/>\n",
    "                                      <text x=\" \n",
    "                                     (+ 80 (first %1))  \n",
    "                                     \" y=\" \n",
    "                                     (+ 60 (second %1)) \n",
    "                                     \" alignment-baseline\\\"middle\\\" text-anchor\\\"middle\\\">\" %2 \"</text>\")\n",
    "                               squares\n",
    "                               [true-pos false-pos true-neg false-neg])]\n",
    "                (str (apply str plotted) (make-legend colors (second squares))))))\n",
    "\n",
    "(defn accurate [real preds]\n",
    "    (/ (count\n",
    "        (remove nil?\n",
    "                (map\n",
    "                 (fn [r p]\n",
    "                     (when (= (double r) (double p))\n",
    "                         true))\n",
    "                 real preds)))\n",
    "       (count real)))\n",
    "\n",
    "(def display (comp render-html str))\n",
    "\n",
    "(defn confusion-matrix [model n data validate-n]\n",
    "    (let [[train tst] (train-test-split n (shuffle data))\n",
    "          train-ctx (model {:metamorph/data train :metamorph/mode :fit})\n",
    "          valid (mock tst validate-n)\n",
    "          tst-ctx (model (merge train-ctx {:metamorph/data valid :metamorph/mode :transform}))\n",
    "          real (get valid \"Survived\")\n",
    "          preds (get-in tst-ctx [:metamorph/data \"Survived\"])]\n",
    "        (display (plot-confusion (get-false-neg real preds))\n",
    "             (format \"<p>Accuracy: %s</p>\"\n",
    "                     (float (accurate real preds))))))"
   ]
  },
  {
   "cell_type": "code",
   "execution_count": 29,
   "id": "e7741e46-c1ae-4a18-9323-2964c9818594",
   "metadata": {},
   "outputs": [
    {
     "data": {
      "text/html": [
       "<h3 style=\"position: relative; transform: translate(320px,100px);\">\n",
       "Confusion Matrix</h3><svg width=\"1000\" height=\"800\"><rect x=200 y=200 width=\"200\" height=\"100\" stroke=\"black\" stroke-width=\"1px\" fill=\"#F90404\"/>\n",
       "<text x=280 y=260 alignment-baseline\"middle\" text-anchor\"middle\">1295</text><rect x=400 y=200 width=\"200\" height=\"100\" stroke=\"black\" stroke-width=\"1px\" fill=\"#F99F04\"/>\n",
       "<text x=480 y=260 alignment-baseline\"middle\" text-anchor\"middle\">350</text><rect x=200 y=300 width=\"200\" height=\"100\" stroke=\"black\" stroke-width=\"1px\" fill=\"#F90404\"/>\n",
       "<text x=280 y=360 alignment-baseline\"middle\" text-anchor\"middle\">1694</text><rect x=400 y=300 width=\"200\" height=\"100\" stroke=\"black\" stroke-width=\"1px\" fill=\"#F97E04\"/>\n",
       "<text x=480 y=360 alignment-baseline\"middle\" text-anchor\"middle\">460</text><rect x=\"700\" y=\"180\" stroke=\"#F90404\" fill=\"#F90404\" stroke-width=\"1px\"\n",
       "width=\"10\" height=\"100\" /><text stroke=\"white\" x=\"740\" y=\"220\" width=\"10\" height=\"10\"\n",
       "alignment-baseline=\"middle\" text-anchor=\"middle\">1000</text><rect x=\"700\" y=\"230\" stroke=\"#F90404\" fill=\"#F90404\" stroke-width=\"1px\"\n",
       "width=\"10\" height=\"100\" /><text stroke=\"white\" x=\"740\" y=\"270\" width=\"10\" height=\"10\"\n",
       "alignment-baseline=\"middle\" text-anchor=\"middle\">900</text><rect x=\"700\" y=\"280\" stroke=\"#F91C04\" fill=\"#F91C04\" stroke-width=\"1px\"\n",
       "width=\"10\" height=\"100\" /><text stroke=\"white\" x=\"740\" y=\"320\" width=\"10\" height=\"10\"\n",
       "alignment-baseline=\"middle\" text-anchor=\"middle\">800</text><rect x=\"700\" y=\"330\" stroke=\"#F92804\" fill=\"#F92804\" stroke-width=\"1px\"\n",
       "width=\"10\" height=\"100\" /><text stroke=\"white\" x=\"740\" y=\"370\" width=\"10\" height=\"10\"\n",
       "alignment-baseline=\"middle\" text-anchor=\"middle\">700</text><rect x=\"700\" y=\"380\" stroke=\"#F94004\" fill=\"#F94004\" stroke-width=\"1px\"\n",
       "width=\"10\" height=\"100\" /><text stroke=\"white\" x=\"740\" y=\"420\" width=\"10\" height=\"10\"\n",
       "alignment-baseline=\"middle\" text-anchor=\"middle\">600</text><rect x=\"700\" y=\"430\" stroke=\"#F95104\" fill=\"#F95104\" stroke-width=\"1px\"\n",
       "width=\"10\" height=\"100\" /><text stroke=\"white\" x=\"740\" y=\"470\" width=\"10\" height=\"10\"\n",
       "alignment-baseline=\"middle\" text-anchor=\"middle\">500</text><rect x=\"700\" y=\"480\" stroke=\"#F97E04\" fill=\"#F97E04\" stroke-width=\"1px\"\n",
       "width=\"10\" height=\"100\" /><text stroke=\"white\" x=\"740\" y=\"520\" width=\"10\" height=\"10\"\n",
       "alignment-baseline=\"middle\" text-anchor=\"middle\">400</text><rect x=\"700\" y=\"530\" stroke=\"#F99F04\" fill=\"#F99F04\" stroke-width=\"1px\"\n",
       "width=\"10\" height=\"100\" /><text stroke=\"white\" x=\"740\" y=\"570\" width=\"10\" height=\"10\"\n",
       "alignment-baseline=\"middle\" text-anchor=\"middle\">300</text><rect x=\"700\" y=\"580\" stroke=\"#F9BB04\" fill=\"#F9BB04\" stroke-width=\"1px\"\n",
       "width=\"10\" height=\"100\" /><text stroke=\"white\" x=\"740\" y=\"620\" width=\"10\" height=\"10\"\n",
       "alignment-baseline=\"middle\" text-anchor=\"middle\">200</text><rect x=\"700\" y=\"630\" stroke=\"#F9E404\" fill=\"#F9E404\" stroke-width=\"1px\"\n",
       "width=\"10\" height=\"100\" /><text stroke=\"white\" x=\"740\" y=\"670\" width=\"10\" height=\"10\"\n",
       "alignment-baseline=\"middle\" text-anchor=\"middle\">100</text><rect x=\"700\" y=\"680\" stroke=\"#F5F904\" fill=\"#F5F904\" stroke-width=\"1px\"\n",
       "width=\"10\" height=\"100\" /><text stroke=\"white\" x=\"740\" y=\"720\" width=\"10\" height=\"10\"\n",
       "alignment-baseline=\"middle\" text-anchor=\"middle\">0</text></svg><p>Accuracy: 0.786786</p>"
      ]
     },
     "execution_count": 29,
     "metadata": {},
     "output_type": "execute_result"
    }
   ],
   "source": [
    "(let [randF (awaiting-model :smile.regression/random-forest)]\n",
    "    (confusion-matrix (fn [{:metamorph/keys [data mode] :as ctx}] \n",
    "                     (if (= mode :fit) \n",
    "                         (randF ctx) \n",
    "                         (update-in (randF ctx) [:metamorph/data \"Survived\"] #(map (fn [_] (Math/round _)) %))))\n",
    "                 400\n",
    "                 enhanced-titanic\n",
    "                 3000))"
   ]
  },
  {
   "cell_type": "code",
   "execution_count": 30,
   "id": "b60bb930-944c-4cac-9431-67d94856933e",
   "metadata": {
    "tags": []
   },
   "outputs": [
    {
     "data": {
      "text/html": [
       "<h3 style=\"position: relative; transform: translate(320px,100px);\">\n",
       "Confusion Matrix</h3><svg width=\"1000\" height=\"800\"><rect x=200 y=200 width=\"200\" height=\"100\" stroke=\"black\" stroke-width=\"1px\" fill=\"#F95104\"/>\n",
       "<text x=280 y=260 alignment-baseline\"middle\" text-anchor\"middle\">1197</text><rect x=400 y=200 width=\"200\" height=\"100\" stroke=\"black\" stroke-width=\"1px\" fill=\"#F9BB04\"/>\n",
       "<text x=480 y=260 alignment-baseline\"middle\" text-anchor\"middle\">468</text><rect x=200 y=300 width=\"200\" height=\"100\" stroke=\"black\" stroke-width=\"1px\" fill=\"#F92804\"/>\n",
       "<text x=280 y=360 alignment-baseline\"middle\" text-anchor\"middle\">1516</text><rect x=400 y=300 width=\"200\" height=\"100\" stroke=\"black\" stroke-width=\"1px\" fill=\"#F99F04\"/>\n",
       "<text x=480 y=360 alignment-baseline\"middle\" text-anchor\"middle\">618</text><rect x=\"700\" y=\"180\" stroke=\"#F90404\" fill=\"#F90404\" stroke-width=\"1px\"\n",
       "width=\"10\" height=\"100\" /><text stroke=\"white\" x=\"740\" y=\"220\" width=\"10\" height=\"10\"\n",
       "alignment-baseline=\"middle\" text-anchor=\"middle\">2000</text><rect x=\"700\" y=\"230\" stroke=\"#F90404\" fill=\"#F90404\" stroke-width=\"1px\"\n",
       "width=\"10\" height=\"100\" /><text stroke=\"white\" x=\"740\" y=\"270\" width=\"10\" height=\"10\"\n",
       "alignment-baseline=\"middle\" text-anchor=\"middle\">1800</text><rect x=\"700\" y=\"280\" stroke=\"#F91C04\" fill=\"#F91C04\" stroke-width=\"1px\"\n",
       "width=\"10\" height=\"100\" /><text stroke=\"white\" x=\"740\" y=\"320\" width=\"10\" height=\"10\"\n",
       "alignment-baseline=\"middle\" text-anchor=\"middle\">1600</text><rect x=\"700\" y=\"330\" stroke=\"#F92804\" fill=\"#F92804\" stroke-width=\"1px\"\n",
       "width=\"10\" height=\"100\" /><text stroke=\"white\" x=\"740\" y=\"370\" width=\"10\" height=\"10\"\n",
       "alignment-baseline=\"middle\" text-anchor=\"middle\">1400</text><rect x=\"700\" y=\"380\" stroke=\"#F94004\" fill=\"#F94004\" stroke-width=\"1px\"\n",
       "width=\"10\" height=\"100\" /><text stroke=\"white\" x=\"740\" y=\"420\" width=\"10\" height=\"10\"\n",
       "alignment-baseline=\"middle\" text-anchor=\"middle\">1200</text><rect x=\"700\" y=\"430\" stroke=\"#F95104\" fill=\"#F95104\" stroke-width=\"1px\"\n",
       "width=\"10\" height=\"100\" /><text stroke=\"white\" x=\"740\" y=\"470\" width=\"10\" height=\"10\"\n",
       "alignment-baseline=\"middle\" text-anchor=\"middle\">1000</text><rect x=\"700\" y=\"480\" stroke=\"#F97E04\" fill=\"#F97E04\" stroke-width=\"1px\"\n",
       "width=\"10\" height=\"100\" /><text stroke=\"white\" x=\"740\" y=\"520\" width=\"10\" height=\"10\"\n",
       "alignment-baseline=\"middle\" text-anchor=\"middle\">800</text><rect x=\"700\" y=\"530\" stroke=\"#F99F04\" fill=\"#F99F04\" stroke-width=\"1px\"\n",
       "width=\"10\" height=\"100\" /><text stroke=\"white\" x=\"740\" y=\"570\" width=\"10\" height=\"10\"\n",
       "alignment-baseline=\"middle\" text-anchor=\"middle\">600</text><rect x=\"700\" y=\"580\" stroke=\"#F9BB04\" fill=\"#F9BB04\" stroke-width=\"1px\"\n",
       "width=\"10\" height=\"100\" /><text stroke=\"white\" x=\"740\" y=\"620\" width=\"10\" height=\"10\"\n",
       "alignment-baseline=\"middle\" text-anchor=\"middle\">400</text><rect x=\"700\" y=\"630\" stroke=\"#F9E404\" fill=\"#F9E404\" stroke-width=\"1px\"\n",
       "width=\"10\" height=\"100\" /><text stroke=\"white\" x=\"740\" y=\"670\" width=\"10\" height=\"10\"\n",
       "alignment-baseline=\"middle\" text-anchor=\"middle\">200</text><rect x=\"700\" y=\"680\" stroke=\"#F5F904\" fill=\"#F5F904\" stroke-width=\"1px\"\n",
       "width=\"10\" height=\"100\" /><text stroke=\"white\" x=\"740\" y=\"720\" width=\"10\" height=\"10\"\n",
       "alignment-baseline=\"middle\" text-anchor=\"middle\">0</text></svg><p>Accuracy: 0.7141353</p>"
      ]
     },
     "execution_count": 30,
     "metadata": {},
     "output_type": "execute_result"
    }
   ],
   "source": [
    "(let [KNN (awaiting-model :smile.classification/knn)]\n",
    "    (confusion-matrix KNN 400 enhanced-titanic 3000))"
   ]
  },
  {
   "cell_type": "code",
   "execution_count": 31,
   "id": "e0ed98fb-cbd3-41f4-9b85-262fbb17b150",
   "metadata": {},
   "outputs": [
    {
     "data": {
      "text/html": [
       "<h3 style=\"position: relative; transform: translate(320px,100px);\">\n",
       "Confusion Matrix</h3><svg width=\"1000\" height=\"800\"><rect x=200 y=200 width=\"200\" height=\"100\" stroke=\"black\" stroke-width=\"1px\" fill=\"#F9BB04\"/>\n",
       "<text x=280 y=260 alignment-baseline\"middle\" text-anchor\"middle\">1194</text><rect x=400 y=200 width=\"200\" height=\"100\" stroke=\"black\" stroke-width=\"1px\" fill=\"#F5F904\"/>\n",
       "<text x=480 y=260 alignment-baseline\"middle\" text-anchor\"middle\">155</text><rect x=200 y=300 width=\"200\" height=\"100\" stroke=\"black\" stroke-width=\"1px\" fill=\"#F97E04\"/>\n",
       "<text x=280 y=360 alignment-baseline\"middle\" text-anchor\"middle\">1877</text><rect x=400 y=300 width=\"200\" height=\"100\" stroke=\"black\" stroke-width=\"1px\" fill=\"#F9E404\"/>\n",
       "<text x=480 y=360 alignment-baseline\"middle\" text-anchor\"middle\">573</text><rect x=\"700\" y=\"180\" stroke=\"#F92804\" fill=\"#F92804\" stroke-width=\"1px\"\n",
       "width=\"10\" height=\"100\" /><text stroke=\"white\" x=\"740\" y=\"220\" width=\"10\" height=\"10\"\n",
       "alignment-baseline=\"middle\" text-anchor=\"middle\">2800</text><rect x=\"700\" y=\"230\" stroke=\"#F94004\" fill=\"#F94004\" stroke-width=\"1px\"\n",
       "width=\"10\" height=\"100\" /><text stroke=\"white\" x=\"740\" y=\"270\" width=\"10\" height=\"10\"\n",
       "alignment-baseline=\"middle\" text-anchor=\"middle\">2400</text><rect x=\"700\" y=\"280\" stroke=\"#F95104\" fill=\"#F95104\" stroke-width=\"1px\"\n",
       "width=\"10\" height=\"100\" /><text stroke=\"white\" x=\"740\" y=\"320\" width=\"10\" height=\"10\"\n",
       "alignment-baseline=\"middle\" text-anchor=\"middle\">2000</text><rect x=\"700\" y=\"330\" stroke=\"#F97E04\" fill=\"#F97E04\" stroke-width=\"1px\"\n",
       "width=\"10\" height=\"100\" /><text stroke=\"white\" x=\"740\" y=\"370\" width=\"10\" height=\"10\"\n",
       "alignment-baseline=\"middle\" text-anchor=\"middle\">1600</text><rect x=\"700\" y=\"380\" stroke=\"#F99F04\" fill=\"#F99F04\" stroke-width=\"1px\"\n",
       "width=\"10\" height=\"100\" /><text stroke=\"white\" x=\"740\" y=\"420\" width=\"10\" height=\"10\"\n",
       "alignment-baseline=\"middle\" text-anchor=\"middle\">1200</text><rect x=\"700\" y=\"430\" stroke=\"#F9BB04\" fill=\"#F9BB04\" stroke-width=\"1px\"\n",
       "width=\"10\" height=\"100\" /><text stroke=\"white\" x=\"740\" y=\"470\" width=\"10\" height=\"10\"\n",
       "alignment-baseline=\"middle\" text-anchor=\"middle\">800</text><rect x=\"700\" y=\"480\" stroke=\"#F9E404\" fill=\"#F9E404\" stroke-width=\"1px\"\n",
       "width=\"10\" height=\"100\" /><text stroke=\"white\" x=\"740\" y=\"520\" width=\"10\" height=\"10\"\n",
       "alignment-baseline=\"middle\" text-anchor=\"middle\">400</text><rect x=\"700\" y=\"530\" stroke=\"#F5F904\" fill=\"#F5F904\" stroke-width=\"1px\"\n",
       "width=\"10\" height=\"100\" /><text stroke=\"white\" x=\"740\" y=\"570\" width=\"10\" height=\"10\"\n",
       "alignment-baseline=\"middle\" text-anchor=\"middle\">0</text></svg><p>Accuracy: 0.80837065</p>"
      ]
     },
     "execution_count": 31,
     "metadata": {},
     "output_type": "execute_result"
    }
   ],
   "source": [
    "(let [rand-forest (awaiting-model :smile.classification/random-forest)]\n",
    "    (confusion-matrix rand-forest 400 enhanced-titanic 3000))"
   ]
  },
  {
   "cell_type": "code",
   "execution_count": 32,
   "id": "a541cf1b-04c7-4dfe-bd79-77c7476a590b",
   "metadata": {},
   "outputs": [
    {
     "data": {
      "text/html": [
       "<h3 style=\"position: relative; transform: translate(320px,100px);\">\n",
       "Confusion Matrix</h3><svg width=\"1000\" height=\"800\"><rect x=200 y=200 width=\"200\" height=\"100\" stroke=\"black\" stroke-width=\"1px\" fill=\"#F99F04\"/>\n",
       "<text x=280 y=260 alignment-baseline\"middle\" text-anchor\"middle\">687</text><rect x=400 y=200 width=\"200\" height=\"100\" stroke=\"black\" stroke-width=\"1px\" fill=\"#F9BB04\"/>\n",
       "<text x=480 y=260 alignment-baseline\"middle\" text-anchor\"middle\">485</text><rect x=200 y=300 width=\"200\" height=\"100\" stroke=\"black\" stroke-width=\"1px\" fill=\"#F92804\"/>\n",
       "<text x=280 y=360 alignment-baseline\"middle\" text-anchor\"middle\">1537</text><rect x=400 y=300 width=\"200\" height=\"100\" stroke=\"black\" stroke-width=\"1px\" fill=\"#F95104\"/>\n",
       "<text x=480 y=360 alignment-baseline\"middle\" text-anchor\"middle\">1090</text><rect x=\"700\" y=\"180\" stroke=\"#F90404\" fill=\"#F90404\" stroke-width=\"1px\"\n",
       "width=\"10\" height=\"100\" /><text stroke=\"white\" x=\"740\" y=\"220\" width=\"10\" height=\"10\"\n",
       "alignment-baseline=\"middle\" text-anchor=\"middle\">2000</text><rect x=\"700\" y=\"230\" stroke=\"#F90404\" fill=\"#F90404\" stroke-width=\"1px\"\n",
       "width=\"10\" height=\"100\" /><text stroke=\"white\" x=\"740\" y=\"270\" width=\"10\" height=\"10\"\n",
       "alignment-baseline=\"middle\" text-anchor=\"middle\">1800</text><rect x=\"700\" y=\"280\" stroke=\"#F91C04\" fill=\"#F91C04\" stroke-width=\"1px\"\n",
       "width=\"10\" height=\"100\" /><text stroke=\"white\" x=\"740\" y=\"320\" width=\"10\" height=\"10\"\n",
       "alignment-baseline=\"middle\" text-anchor=\"middle\">1600</text><rect x=\"700\" y=\"330\" stroke=\"#F92804\" fill=\"#F92804\" stroke-width=\"1px\"\n",
       "width=\"10\" height=\"100\" /><text stroke=\"white\" x=\"740\" y=\"370\" width=\"10\" height=\"10\"\n",
       "alignment-baseline=\"middle\" text-anchor=\"middle\">1400</text><rect x=\"700\" y=\"380\" stroke=\"#F94004\" fill=\"#F94004\" stroke-width=\"1px\"\n",
       "width=\"10\" height=\"100\" /><text stroke=\"white\" x=\"740\" y=\"420\" width=\"10\" height=\"10\"\n",
       "alignment-baseline=\"middle\" text-anchor=\"middle\">1200</text><rect x=\"700\" y=\"430\" stroke=\"#F95104\" fill=\"#F95104\" stroke-width=\"1px\"\n",
       "width=\"10\" height=\"100\" /><text stroke=\"white\" x=\"740\" y=\"470\" width=\"10\" height=\"10\"\n",
       "alignment-baseline=\"middle\" text-anchor=\"middle\">1000</text><rect x=\"700\" y=\"480\" stroke=\"#F97E04\" fill=\"#F97E04\" stroke-width=\"1px\"\n",
       "width=\"10\" height=\"100\" /><text stroke=\"white\" x=\"740\" y=\"520\" width=\"10\" height=\"10\"\n",
       "alignment-baseline=\"middle\" text-anchor=\"middle\">800</text><rect x=\"700\" y=\"530\" stroke=\"#F99F04\" fill=\"#F99F04\" stroke-width=\"1px\"\n",
       "width=\"10\" height=\"100\" /><text stroke=\"white\" x=\"740\" y=\"570\" width=\"10\" height=\"10\"\n",
       "alignment-baseline=\"middle\" text-anchor=\"middle\">600</text><rect x=\"700\" y=\"580\" stroke=\"#F9BB04\" fill=\"#F9BB04\" stroke-width=\"1px\"\n",
       "width=\"10\" height=\"100\" /><text stroke=\"white\" x=\"740\" y=\"620\" width=\"10\" height=\"10\"\n",
       "alignment-baseline=\"middle\" text-anchor=\"middle\">400</text><rect x=\"700\" y=\"630\" stroke=\"#F9E404\" fill=\"#F9E404\" stroke-width=\"1px\"\n",
       "width=\"10\" height=\"100\" /><text stroke=\"white\" x=\"740\" y=\"670\" width=\"10\" height=\"10\"\n",
       "alignment-baseline=\"middle\" text-anchor=\"middle\">200</text><rect x=\"700\" y=\"680\" stroke=\"#F5F904\" fill=\"#F5F904\" stroke-width=\"1px\"\n",
       "width=\"10\" height=\"100\" /><text stroke=\"white\" x=\"740\" y=\"720\" width=\"10\" height=\"10\"\n",
       "alignment-baseline=\"middle\" text-anchor=\"middle\">0</text></svg><p>Accuracy: 0.5854172</p>"
      ]
     },
     "execution_count": 32,
     "metadata": {},
     "output_type": "execute_result"
    }
   ],
   "source": [
    "(let [decision-tree (awaiting-model :smile.classification/decision-tree)]\n",
    "    (confusion-matrix decision-tree\n",
    "                 400\n",
    "                 enhanced-titanic\n",
    "                 3000))"
   ]
  },
  {
   "cell_type": "code",
   "execution_count": 33,
   "id": "c3bc680c-9cde-4d5e-8ed4-88b1ebd7fba1",
   "metadata": {},
   "outputs": [
    {
     "data": {
      "text/html": [
       "<h3 style=\"position: relative; transform: translate(320px,100px);\">\n",
       "Confusion Matrix</h3><svg width=\"1000\" height=\"800\"><rect x=200 y=200 width=\"200\" height=\"100\" stroke=\"black\" stroke-width=\"1px\" fill=\"#F90404\"/>\n",
       "<text x=280 y=260 alignment-baseline\"middle\" text-anchor\"middle\">1340</text><rect x=400 y=200 width=\"200\" height=\"100\" stroke=\"black\" stroke-width=\"1px\" fill=\"#F99F04\"/>\n",
       "<text x=480 y=260 alignment-baseline\"middle\" text-anchor\"middle\">382</text><rect x=200 y=300 width=\"200\" height=\"100\" stroke=\"black\" stroke-width=\"1px\" fill=\"#F90404\"/>\n",
       "<text x=280 y=360 alignment-baseline\"middle\" text-anchor\"middle\">1669</text><rect x=400 y=300 width=\"200\" height=\"100\" stroke=\"black\" stroke-width=\"1px\" fill=\"#F97E04\"/>\n",
       "<text x=480 y=360 alignment-baseline\"middle\" text-anchor\"middle\">408</text><rect x=\"700\" y=\"180\" stroke=\"#F90404\" fill=\"#F90404\" stroke-width=\"1px\"\n",
       "width=\"10\" height=\"100\" /><text stroke=\"white\" x=\"740\" y=\"220\" width=\"10\" height=\"10\"\n",
       "alignment-baseline=\"middle\" text-anchor=\"middle\">1000</text><rect x=\"700\" y=\"230\" stroke=\"#F90404\" fill=\"#F90404\" stroke-width=\"1px\"\n",
       "width=\"10\" height=\"100\" /><text stroke=\"white\" x=\"740\" y=\"270\" width=\"10\" height=\"10\"\n",
       "alignment-baseline=\"middle\" text-anchor=\"middle\">900</text><rect x=\"700\" y=\"280\" stroke=\"#F91C04\" fill=\"#F91C04\" stroke-width=\"1px\"\n",
       "width=\"10\" height=\"100\" /><text stroke=\"white\" x=\"740\" y=\"320\" width=\"10\" height=\"10\"\n",
       "alignment-baseline=\"middle\" text-anchor=\"middle\">800</text><rect x=\"700\" y=\"330\" stroke=\"#F92804\" fill=\"#F92804\" stroke-width=\"1px\"\n",
       "width=\"10\" height=\"100\" /><text stroke=\"white\" x=\"740\" y=\"370\" width=\"10\" height=\"10\"\n",
       "alignment-baseline=\"middle\" text-anchor=\"middle\">700</text><rect x=\"700\" y=\"380\" stroke=\"#F94004\" fill=\"#F94004\" stroke-width=\"1px\"\n",
       "width=\"10\" height=\"100\" /><text stroke=\"white\" x=\"740\" y=\"420\" width=\"10\" height=\"10\"\n",
       "alignment-baseline=\"middle\" text-anchor=\"middle\">600</text><rect x=\"700\" y=\"430\" stroke=\"#F95104\" fill=\"#F95104\" stroke-width=\"1px\"\n",
       "width=\"10\" height=\"100\" /><text stroke=\"white\" x=\"740\" y=\"470\" width=\"10\" height=\"10\"\n",
       "alignment-baseline=\"middle\" text-anchor=\"middle\">500</text><rect x=\"700\" y=\"480\" stroke=\"#F97E04\" fill=\"#F97E04\" stroke-width=\"1px\"\n",
       "width=\"10\" height=\"100\" /><text stroke=\"white\" x=\"740\" y=\"520\" width=\"10\" height=\"10\"\n",
       "alignment-baseline=\"middle\" text-anchor=\"middle\">400</text><rect x=\"700\" y=\"530\" stroke=\"#F99F04\" fill=\"#F99F04\" stroke-width=\"1px\"\n",
       "width=\"10\" height=\"100\" /><text stroke=\"white\" x=\"740\" y=\"570\" width=\"10\" height=\"10\"\n",
       "alignment-baseline=\"middle\" text-anchor=\"middle\">300</text><rect x=\"700\" y=\"580\" stroke=\"#F9BB04\" fill=\"#F9BB04\" stroke-width=\"1px\"\n",
       "width=\"10\" height=\"100\" /><text stroke=\"white\" x=\"740\" y=\"620\" width=\"10\" height=\"10\"\n",
       "alignment-baseline=\"middle\" text-anchor=\"middle\">200</text><rect x=\"700\" y=\"630\" stroke=\"#F9E404\" fill=\"#F9E404\" stroke-width=\"1px\"\n",
       "width=\"10\" height=\"100\" /><text stroke=\"white\" x=\"740\" y=\"670\" width=\"10\" height=\"10\"\n",
       "alignment-baseline=\"middle\" text-anchor=\"middle\">100</text><rect x=\"700\" y=\"680\" stroke=\"#F5F904\" fill=\"#F5F904\" stroke-width=\"1px\"\n",
       "width=\"10\" height=\"100\" /><text stroke=\"white\" x=\"740\" y=\"720\" width=\"10\" height=\"10\"\n",
       "alignment-baseline=\"middle\" text-anchor=\"middle\">0</text></svg><p>Accuracy: 0.79205054</p>"
      ]
     },
     "execution_count": 33,
     "metadata": {},
     "output_type": "execute_result"
    }
   ],
   "source": [
    "(let [logit (awaiting-model :smile.classification/logistic-regression)]\n",
    "    (confusion-matrix logit 400 enhanced-titanic 3000))"
   ]
  }
 ],
 "metadata": {
  "kernelspec": {
   "display_name": "Clojure",
   "language": "clojure",
   "name": "clojure"
  },
  "language_info": {
   "codemirror_mode": "Clojure",
   "file_extension": ".clj",
   "mimetype": "text/x-clojure",
   "name": "Clojure",
   "nbconverter_exporter": "",
   "version": "1.11.1"
  }
 },
 "nbformat": 4,
 "nbformat_minor": 5
}
